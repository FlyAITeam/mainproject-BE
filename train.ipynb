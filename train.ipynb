{
 "cells": [
  {
   "cell_type": "code",
   "execution_count": 1,
   "metadata": {},
   "outputs": [],
   "source": [
    "# import 블록\n",
    "from utils import process_all_csv_files, AverageMeter, convert_secs2time, time_string\n",
    "from dataloader import TrainSet\n",
    "from TSRNet import TSRNet\n",
    "\n",
    "\n",
    "import os\n",
    "import time\n",
    "import random\n",
    "import math\n",
    "import copy\n",
    "import pandas as pd\n",
    "from tqdm import tqdm\n",
    "\n",
    "import torch\n",
    "from torch.utils.data import DataLoader"
   ]
  },
  {
   "cell_type": "code",
   "execution_count": 2,
   "metadata": {},
   "outputs": [
    {
     "name": "stdout",
     "output_type": "stream",
     "text": [
      "train\n",
      "Processing file: C:/Users/SKTPJ15/real/traindata_au\\augmented_cluster0_nk100_2642_2024-04-14_12-14-19.dat.csv\n",
      "Processing file: C:/Users/SKTPJ15/real/traindata_au\\augmented_cluster0_nk100_2642_2024-04-14_12-24-19.dat.csv\n",
      "Processing file: C:/Users/SKTPJ15/real/traindata_au\\augmented_cluster0_nk100_2642_2024-04-14_12-34-19.dat.csv\n",
      "Warning: C:/Users/SKTPJ15/real/traindata_au\\augmented_cluster0_nk100_2642_2024-04-14_12-34-19.dat.csv is empty.\n",
      "Processing file: C:/Users/SKTPJ15/real/traindata_au\\augmented_cluster0_nk100_2642_2024-04-14_12-44-19.dat.csv\n",
      "Warning: C:/Users/SKTPJ15/real/traindata_au\\augmented_cluster0_nk100_2642_2024-04-14_12-44-19.dat.csv is empty.\n",
      "Processing file: C:/Users/SKTPJ15/real/traindata_au\\augmented_cluster0_nk100_2642_2024-04-14_12-54-19.dat.csv\n",
      "Warning: C:/Users/SKTPJ15/real/traindata_au\\augmented_cluster0_nk100_2642_2024-04-14_12-54-19.dat.csv is empty.\n",
      "Processing file: C:/Users/SKTPJ15/real/traindata_au\\augmented_cluster0_nk100_2642_2024-04-14_13-04-19.dat.csv\n",
      "Warning: C:/Users/SKTPJ15/real/traindata_au\\augmented_cluster0_nk100_2642_2024-04-14_13-04-19.dat.csv is empty.\n",
      "Processing file: C:/Users/SKTPJ15/real/traindata_au\\augmented_cluster0_nk100_2642_2024-04-14_13-14-19.dat.csv\n",
      "Warning: C:/Users/SKTPJ15/real/traindata_au\\augmented_cluster0_nk100_2642_2024-04-14_13-14-19.dat.csv is empty.\n",
      "Processing file: C:/Users/SKTPJ15/real/traindata_au\\augmented_cluster0_nk100_2642_2024-04-14_13-24-19.dat.csv\n",
      "Warning: C:/Users/SKTPJ15/real/traindata_au\\augmented_cluster0_nk100_2642_2024-04-14_13-24-19.dat.csv is empty.\n",
      "Processing file: C:/Users/SKTPJ15/real/traindata_au\\augmented_cluster0_nk100_2642_2024-04-14_13-34-19.dat.csv\n",
      "Warning: C:/Users/SKTPJ15/real/traindata_au\\augmented_cluster0_nk100_2642_2024-04-14_13-34-19.dat.csv is empty.\n",
      "Processing file: C:/Users/SKTPJ15/real/traindata_au\\augmented_cluster0_nk100_2642_2024-04-14_13-44-19.dat.csv\n",
      "Warning: C:/Users/SKTPJ15/real/traindata_au\\augmented_cluster0_nk100_2642_2024-04-14_13-44-19.dat.csv is empty.\n",
      "Processing file: C:/Users/SKTPJ15/real/traindata_au\\augmented_cluster0_nk100_2642_2024-04-14_13-54-19.dat.csv\n",
      "Warning: C:/Users/SKTPJ15/real/traindata_au\\augmented_cluster0_nk100_2642_2024-04-14_13-54-19.dat.csv is empty.\n",
      "Processing file: C:/Users/SKTPJ15/real/traindata_au\\augmented_cluster0_nk100_2642_2024-04-14_14-04-19.dat.csv\n",
      "Warning: C:/Users/SKTPJ15/real/traindata_au\\augmented_cluster0_nk100_2642_2024-04-14_14-04-19.dat.csv is empty.\n",
      "Processing file: C:/Users/SKTPJ15/real/traindata_au\\augmented_cluster0_nk100_2642_2024-04-14_14-14-19.dat.csv\n",
      "Warning: C:/Users/SKTPJ15/real/traindata_au\\augmented_cluster0_nk100_2642_2024-04-14_14-14-19.dat.csv is empty.\n",
      "Processing file: C:/Users/SKTPJ15/real/traindata_au\\augmented_cluster0_nk100_2642_2024-04-14_14-24-19.dat.csv\n",
      "Warning: C:/Users/SKTPJ15/real/traindata_au\\augmented_cluster0_nk100_2642_2024-04-14_14-24-19.dat.csv is empty.\n",
      "Processing file: C:/Users/SKTPJ15/real/traindata_au\\augmented_cluster0_nk100_2642_2024-04-14_14-34-19.dat.csv\n",
      "Warning: C:/Users/SKTPJ15/real/traindata_au\\augmented_cluster0_nk100_2642_2024-04-14_14-34-19.dat.csv is empty.\n",
      "Processing file: C:/Users/SKTPJ15/real/traindata_au\\augmented_cluster0_nk100_2642_2024-04-14_14-44-19.dat.csv\n",
      "Warning: C:/Users/SKTPJ15/real/traindata_au\\augmented_cluster0_nk100_2642_2024-04-14_14-44-19.dat.csv is empty.\n",
      "Processing file: C:/Users/SKTPJ15/real/traindata_au\\augmented_cluster0_nk100_2642_2024-04-14_14-54-19.dat.csv\n",
      "Warning: C:/Users/SKTPJ15/real/traindata_au\\augmented_cluster0_nk100_2642_2024-04-14_14-54-19.dat.csv is empty.\n",
      "Processing file: C:/Users/SKTPJ15/real/traindata_au\\augmented_cluster0_nk100_2642_2024-04-14_15-04-19.dat.csv\n",
      "Warning: C:/Users/SKTPJ15/real/traindata_au\\augmented_cluster0_nk100_2642_2024-04-14_15-04-19.dat.csv is empty.\n",
      "Processing file: C:/Users/SKTPJ15/real/traindata_au\\augmented_cluster0_nk100_2642_2024-04-14_15-14-19.dat.csv\n",
      "Warning: C:/Users/SKTPJ15/real/traindata_au\\augmented_cluster0_nk100_2642_2024-04-14_15-14-19.dat.csv is empty.\n",
      "Processing file: C:/Users/SKTPJ15/real/traindata_au\\augmented_cluster0_nk100_2642_2024-04-14_15-24-19.dat.csv\n",
      "Warning: C:/Users/SKTPJ15/real/traindata_au\\augmented_cluster0_nk100_2642_2024-04-14_15-24-19.dat.csv is empty.\n",
      "Processing file: C:/Users/SKTPJ15/real/traindata_au\\augmented_cluster0_nk100_2642_2024-04-14_15-34-19.dat.csv\n",
      "Warning: C:/Users/SKTPJ15/real/traindata_au\\augmented_cluster0_nk100_2642_2024-04-14_15-34-19.dat.csv is empty.\n",
      "Processing file: C:/Users/SKTPJ15/real/traindata_au\\augmented_cluster0_nk100_2642_2024-04-14_15-44-19.dat.csv\n",
      "Warning: C:/Users/SKTPJ15/real/traindata_au\\augmented_cluster0_nk100_2642_2024-04-14_15-44-19.dat.csv is empty.\n",
      "Processing file: C:/Users/SKTPJ15/real/traindata_au\\augmented_cluster0_nk100_2642_2024-04-14_15-54-19.dat.csv\n",
      "Warning: C:/Users/SKTPJ15/real/traindata_au\\augmented_cluster0_nk100_2642_2024-04-14_15-54-19.dat.csv is empty.\n",
      "Processing file: C:/Users/SKTPJ15/real/traindata_au\\augmented_cluster0_nk100_2642_2024-04-14_16-04-19.dat.csv\n",
      "Warning: C:/Users/SKTPJ15/real/traindata_au\\augmented_cluster0_nk100_2642_2024-04-14_16-04-19.dat.csv is empty.\n",
      "Processing file: C:/Users/SKTPJ15/real/traindata_au\\augmented_cluster0_nk100_2642_2024-04-14_16-14-19.dat.csv\n",
      "Warning: C:/Users/SKTPJ15/real/traindata_au\\augmented_cluster0_nk100_2642_2024-04-14_16-14-19.dat.csv is empty.\n",
      "Processing file: C:/Users/SKTPJ15/real/traindata_au\\augmented_cluster0_nk100_2642_2024-04-14_16-24-19.dat.csv\n",
      "Warning: C:/Users/SKTPJ15/real/traindata_au\\augmented_cluster0_nk100_2642_2024-04-14_16-24-19.dat.csv is empty.\n",
      "Processing file: C:/Users/SKTPJ15/real/traindata_au\\augmented_cluster0_nk100_2642_2024-04-14_16-34-19.dat.csv\n",
      "Warning: C:/Users/SKTPJ15/real/traindata_au\\augmented_cluster0_nk100_2642_2024-04-14_16-34-19.dat.csv is empty.\n",
      "Processing file: C:/Users/SKTPJ15/real/traindata_au\\augmented_cluster0_nk100_2642_2024-04-14_16-44-19.dat.csv\n",
      "Warning: C:/Users/SKTPJ15/real/traindata_au\\augmented_cluster0_nk100_2642_2024-04-14_16-44-19.dat.csv is empty.\n",
      "Processing file: C:/Users/SKTPJ15/real/traindata_au\\augmented_cluster0_nk100_2642_2024-04-14_16-54-19.dat.csv\n",
      "Warning: C:/Users/SKTPJ15/real/traindata_au\\augmented_cluster0_nk100_2642_2024-04-14_16-54-19.dat.csv is empty.\n",
      "Processing file: C:/Users/SKTPJ15/real/traindata_au\\augmented_cluster0_nk100_2642_2024-04-14_17-04-19.dat.csv\n",
      "Warning: C:/Users/SKTPJ15/real/traindata_au\\augmented_cluster0_nk100_2642_2024-04-14_17-04-19.dat.csv is empty.\n",
      "Processing file: C:/Users/SKTPJ15/real/traindata_au\\augmented_cluster0_nk100_2642_2024-04-14_17-14-19.dat.csv\n",
      "Warning: C:/Users/SKTPJ15/real/traindata_au\\augmented_cluster0_nk100_2642_2024-04-14_17-14-19.dat.csv is empty.\n",
      "Processing file: C:/Users/SKTPJ15/real/traindata_au\\augmented_cluster0_nk100_2642_2024-04-14_17-24-19.dat.csv\n",
      "Warning: C:/Users/SKTPJ15/real/traindata_au\\augmented_cluster0_nk100_2642_2024-04-14_17-24-19.dat.csv is empty.\n",
      "Processing file: C:/Users/SKTPJ15/real/traindata_au\\augmented_cluster0_nk100_2642_2024-04-14_17-34-19.dat.csv\n",
      "Warning: C:/Users/SKTPJ15/real/traindata_au\\augmented_cluster0_nk100_2642_2024-04-14_17-34-19.dat.csv is empty.\n",
      "Processing file: C:/Users/SKTPJ15/real/traindata_au\\augmented_cluster0_nk100_2642_2024-04-14_17-44-19.dat.csv\n",
      "Warning: C:/Users/SKTPJ15/real/traindata_au\\augmented_cluster0_nk100_2642_2024-04-14_17-44-19.dat.csv is empty.\n",
      "Processing file: C:/Users/SKTPJ15/real/traindata_au\\augmented_cluster0_nk100_2642_2024-04-14_17-54-19.dat.csv\n",
      "Warning: C:/Users/SKTPJ15/real/traindata_au\\augmented_cluster0_nk100_2642_2024-04-14_17-54-19.dat.csv is empty.\n",
      "Processing file: C:/Users/SKTPJ15/real/traindata_au\\augmented_cluster0_nk100_2642_2024-04-14_18-04-19.dat.csv\n",
      "Warning: C:/Users/SKTPJ15/real/traindata_au\\augmented_cluster0_nk100_2642_2024-04-14_18-04-19.dat.csv is empty.\n",
      "Processing file: C:/Users/SKTPJ15/real/traindata_au\\augmented_cluster0_nk100_2642_2024-04-14_18-14-19.dat.csv\n",
      "Warning: C:/Users/SKTPJ15/real/traindata_au\\augmented_cluster0_nk100_2642_2024-04-14_18-14-19.dat.csv is empty.\n",
      "Processing file: C:/Users/SKTPJ15/real/traindata_au\\augmented_cluster0_nk100_2642_2024-04-14_18-24-19.dat.csv\n",
      "Warning: C:/Users/SKTPJ15/real/traindata_au\\augmented_cluster0_nk100_2642_2024-04-14_18-24-19.dat.csv is empty.\n",
      "Processing file: C:/Users/SKTPJ15/real/traindata_au\\augmented_cluster0_nk100_2642_2024-04-14_18-34-19.dat.csv\n",
      "Warning: C:/Users/SKTPJ15/real/traindata_au\\augmented_cluster0_nk100_2642_2024-04-14_18-34-19.dat.csv is empty.\n",
      "Processing file: C:/Users/SKTPJ15/real/traindata_au\\augmented_cluster0_nk100_2642_2024-04-14_18-44-19.dat.csv\n",
      "Warning: C:/Users/SKTPJ15/real/traindata_au\\augmented_cluster0_nk100_2642_2024-04-14_18-44-19.dat.csv is empty.\n",
      "Processing file: C:/Users/SKTPJ15/real/traindata_au\\augmented_cluster0_nk100_2642_2024-04-14_18-54-19.dat.csv\n",
      "Warning: C:/Users/SKTPJ15/real/traindata_au\\augmented_cluster0_nk100_2642_2024-04-14_18-54-19.dat.csv is empty.\n",
      "Processing file: C:/Users/SKTPJ15/real/traindata_au\\augmented_cluster0_nk100_2642_2024-04-14_19-04-19.dat.csv\n",
      "Warning: C:/Users/SKTPJ15/real/traindata_au\\augmented_cluster0_nk100_2642_2024-04-14_19-04-19.dat.csv is empty.\n",
      "Processing file: C:/Users/SKTPJ15/real/traindata_au\\augmented_cluster0_nk100_2642_2024-04-14_19-14-19.dat.csv\n",
      "Warning: C:/Users/SKTPJ15/real/traindata_au\\augmented_cluster0_nk100_2642_2024-04-14_19-14-19.dat.csv is empty.\n",
      "Processing file: C:/Users/SKTPJ15/real/traindata_au\\augmented_cluster0_nk100_2642_2024-04-14_19-24-19.dat.csv\n",
      "Warning: C:/Users/SKTPJ15/real/traindata_au\\augmented_cluster0_nk100_2642_2024-04-14_19-24-19.dat.csv is empty.\n",
      "Processing file: C:/Users/SKTPJ15/real/traindata_au\\augmented_cluster0_nk100_2642_2024-04-14_19-34-19.dat.csv\n",
      "Warning: C:/Users/SKTPJ15/real/traindata_au\\augmented_cluster0_nk100_2642_2024-04-14_19-34-19.dat.csv is empty.\n",
      "Processing file: C:/Users/SKTPJ15/real/traindata_au\\augmented_cluster0_nk100_2642_2024-04-14_19-44-19.dat.csv\n",
      "Warning: C:/Users/SKTPJ15/real/traindata_au\\augmented_cluster0_nk100_2642_2024-04-14_19-44-19.dat.csv is empty.\n",
      "Processing file: C:/Users/SKTPJ15/real/traindata_au\\augmented_cluster0_nk100_2642_2024-04-14_19-54-19.dat.csv\n",
      "Warning: C:/Users/SKTPJ15/real/traindata_au\\augmented_cluster0_nk100_2642_2024-04-14_19-54-19.dat.csv is empty.\n",
      "Processing file: C:/Users/SKTPJ15/real/traindata_au\\augmented_cluster0_nk100_2642_2024-04-14_20-04-19.dat.csv\n",
      "Warning: C:/Users/SKTPJ15/real/traindata_au\\augmented_cluster0_nk100_2642_2024-04-14_20-04-19.dat.csv is empty.\n",
      "Processing file: C:/Users/SKTPJ15/real/traindata_au\\augmented_cluster0_nk100_2642_2024-04-14_20-14-19.dat.csv\n",
      "Warning: C:/Users/SKTPJ15/real/traindata_au\\augmented_cluster0_nk100_2642_2024-04-14_20-14-19.dat.csv is empty.\n",
      "Processing file: C:/Users/SKTPJ15/real/traindata_au\\augmented_cluster0_nk100_2642_2024-04-14_20-24-19.dat.csv\n",
      "Warning: C:/Users/SKTPJ15/real/traindata_au\\augmented_cluster0_nk100_2642_2024-04-14_20-24-19.dat.csv is empty.\n",
      "Processing file: C:/Users/SKTPJ15/real/traindata_au\\augmented_cluster0_nk100_2642_2024-04-14_20-34-19.dat.csv\n",
      "Warning: C:/Users/SKTPJ15/real/traindata_au\\augmented_cluster0_nk100_2642_2024-04-14_20-34-19.dat.csv is empty.\n",
      "Processing file: C:/Users/SKTPJ15/real/traindata_au\\augmented_cluster0_nk100_2642_2024-04-14_20-44-19.dat.csv\n",
      "Warning: C:/Users/SKTPJ15/real/traindata_au\\augmented_cluster0_nk100_2642_2024-04-14_20-44-19.dat.csv is empty.\n",
      "Processing file: C:/Users/SKTPJ15/real/traindata_au\\augmented_cluster0_nk100_2642_2024-04-14_20-54-19.dat.csv\n",
      "Warning: C:/Users/SKTPJ15/real/traindata_au\\augmented_cluster0_nk100_2642_2024-04-14_20-54-19.dat.csv is empty.\n",
      "Processing file: C:/Users/SKTPJ15/real/traindata_au\\augmented_cluster0_nk100_2642_2024-04-14_21-04-19.dat.csv\n",
      "Warning: C:/Users/SKTPJ15/real/traindata_au\\augmented_cluster0_nk100_2642_2024-04-14_21-04-19.dat.csv is empty.\n",
      "Processing file: C:/Users/SKTPJ15/real/traindata_au\\augmented_cluster0_nk100_2642_2024-04-14_21-14-19.dat.csv\n",
      "Warning: C:/Users/SKTPJ15/real/traindata_au\\augmented_cluster0_nk100_2642_2024-04-14_21-14-19.dat.csv is empty.\n",
      "Processing file: C:/Users/SKTPJ15/real/traindata_au\\augmented_cluster0_nk100_2642_2024-04-14_21-24-19.dat.csv\n",
      "Warning: C:/Users/SKTPJ15/real/traindata_au\\augmented_cluster0_nk100_2642_2024-04-14_21-24-19.dat.csv is empty.\n",
      "Processing file: C:/Users/SKTPJ15/real/traindata_au\\augmented_cluster0_nk100_2642_2024-04-14_21-34-19.dat.csv\n",
      "Warning: C:/Users/SKTPJ15/real/traindata_au\\augmented_cluster0_nk100_2642_2024-04-14_21-34-19.dat.csv is empty.\n",
      "Processing file: C:/Users/SKTPJ15/real/traindata_au\\augmented_cluster0_nk100_2642_2024-04-14_21-44-19.dat.csv\n",
      "Warning: C:/Users/SKTPJ15/real/traindata_au\\augmented_cluster0_nk100_2642_2024-04-14_21-44-19.dat.csv is empty.\n",
      "Processing file: C:/Users/SKTPJ15/real/traindata_au\\augmented_cluster0_nk100_2642_2024-04-14_21-54-19.dat.csv\n",
      "Warning: C:/Users/SKTPJ15/real/traindata_au\\augmented_cluster0_nk100_2642_2024-04-14_21-54-19.dat.csv is empty.\n",
      "Processing file: C:/Users/SKTPJ15/real/traindata_au\\augmented_cluster0_nk100_2642_2024-04-14_22-04-19.dat.csv\n",
      "Warning: C:/Users/SKTPJ15/real/traindata_au\\augmented_cluster0_nk100_2642_2024-04-14_22-04-19.dat.csv is empty.\n",
      "Processing file: C:/Users/SKTPJ15/real/traindata_au\\augmented_cluster0_nk100_2642_2024-04-14_22-14-19.dat.csv\n",
      "Warning: C:/Users/SKTPJ15/real/traindata_au\\augmented_cluster0_nk100_2642_2024-04-14_22-14-19.dat.csv is empty.\n",
      "Processing file: C:/Users/SKTPJ15/real/traindata_au\\augmented_cluster0_nk100_2642_2024-04-14_22-24-19.dat.csv\n",
      "Warning: C:/Users/SKTPJ15/real/traindata_au\\augmented_cluster0_nk100_2642_2024-04-14_22-24-19.dat.csv is empty.\n",
      "Processing file: C:/Users/SKTPJ15/real/traindata_au\\augmented_cluster0_nk100_2642_2024-04-14_22-34-19.dat.csv\n",
      "Warning: C:/Users/SKTPJ15/real/traindata_au\\augmented_cluster0_nk100_2642_2024-04-14_22-34-19.dat.csv is empty.\n",
      "Processing file: C:/Users/SKTPJ15/real/traindata_au\\augmented_cluster0_nk100_2642_2024-04-14_22-44-19.dat.csv\n",
      "Warning: C:/Users/SKTPJ15/real/traindata_au\\augmented_cluster0_nk100_2642_2024-04-14_22-44-19.dat.csv is empty.\n",
      "Processing file: C:/Users/SKTPJ15/real/traindata_au\\augmented_cluster0_nk100_2642_2024-04-14_22-54-19.dat.csv\n",
      "Warning: C:/Users/SKTPJ15/real/traindata_au\\augmented_cluster0_nk100_2642_2024-04-14_22-54-19.dat.csv is empty.\n",
      "Processing file: C:/Users/SKTPJ15/real/traindata_au\\augmented_cluster0_nk100_2642_2024-04-14_23-04-19.dat.csv\n",
      "Warning: C:/Users/SKTPJ15/real/traindata_au\\augmented_cluster0_nk100_2642_2024-04-14_23-04-19.dat.csv is empty.\n",
      "Processing file: C:/Users/SKTPJ15/real/traindata_au\\augmented_cluster0_nk100_2642_2024-04-14_23-14-19.dat.csv\n",
      "Warning: C:/Users/SKTPJ15/real/traindata_au\\augmented_cluster0_nk100_2642_2024-04-14_23-14-19.dat.csv is empty.\n",
      "Processing file: C:/Users/SKTPJ15/real/traindata_au\\augmented_cluster0_nk100_2642_2024-04-14_23-24-19.dat.csv\n",
      "Warning: C:/Users/SKTPJ15/real/traindata_au\\augmented_cluster0_nk100_2642_2024-04-14_23-24-19.dat.csv is empty.\n",
      "Processing file: C:/Users/SKTPJ15/real/traindata_au\\augmented_cluster0_nk100_2642_2024-04-14_23-34-19.dat.csv\n",
      "Warning: C:/Users/SKTPJ15/real/traindata_au\\augmented_cluster0_nk100_2642_2024-04-14_23-34-19.dat.csv is empty.\n",
      "Processing file: C:/Users/SKTPJ15/real/traindata_au\\augmented_cluster0_nk100_2642_2024-04-14_23-44-19.dat.csv\n",
      "Warning: C:/Users/SKTPJ15/real/traindata_au\\augmented_cluster0_nk100_2642_2024-04-14_23-44-19.dat.csv is empty.\n",
      "Processing file: C:/Users/SKTPJ15/real/traindata_au\\augmented_cluster0_nk100_2642_2024-04-14_23-54-19.dat.csv\n",
      "Warning: C:/Users/SKTPJ15/real/traindata_au\\augmented_cluster0_nk100_2642_2024-04-14_23-54-19.dat.csv is empty.\n",
      "Processing file: C:/Users/SKTPJ15/real/traindata_au\\augmented_cluster0_nk100_2642_2024-04-15_00-04-19.dat.csv\n",
      "Warning: C:/Users/SKTPJ15/real/traindata_au\\augmented_cluster0_nk100_2642_2024-04-15_00-04-19.dat.csv is empty.\n",
      "Processing file: C:/Users/SKTPJ15/real/traindata_au\\augmented_cluster0_nk100_2642_2024-04-15_00-14-19.dat.csv\n",
      "Warning: C:/Users/SKTPJ15/real/traindata_au\\augmented_cluster0_nk100_2642_2024-04-15_00-14-19.dat.csv is empty.\n",
      "Processing file: C:/Users/SKTPJ15/real/traindata_au\\augmented_cluster0_nk100_2642_2024-04-15_00-24-19.dat.csv\n",
      "Warning: C:/Users/SKTPJ15/real/traindata_au\\augmented_cluster0_nk100_2642_2024-04-15_00-24-19.dat.csv is empty.\n",
      "Processing file: C:/Users/SKTPJ15/real/traindata_au\\augmented_cluster0_nk100_2642_2024-04-15_00-34-19.dat.csv\n",
      "Warning: C:/Users/SKTPJ15/real/traindata_au\\augmented_cluster0_nk100_2642_2024-04-15_00-34-19.dat.csv is empty.\n",
      "Processing file: C:/Users/SKTPJ15/real/traindata_au\\augmented_cluster0_nk100_2642_2024-04-15_00-44-19.dat.csv\n",
      "Warning: C:/Users/SKTPJ15/real/traindata_au\\augmented_cluster0_nk100_2642_2024-04-15_00-44-19.dat.csv is empty.\n",
      "Processing file: C:/Users/SKTPJ15/real/traindata_au\\augmented_cluster0_nk100_2642_2024-04-15_00-54-19.dat.csv\n",
      "Processing file: C:/Users/SKTPJ15/real/traindata_au\\augmented_cluster0_nk100_2642_2024-04-15_01-04-19.dat.csv\n",
      "Warning: C:/Users/SKTPJ15/real/traindata_au\\augmented_cluster0_nk100_2642_2024-04-15_01-04-19.dat.csv is empty.\n",
      "Processing file: C:/Users/SKTPJ15/real/traindata_au\\augmented_cluster0_nk100_2642_2024-04-15_01-14-19.dat.csv\n",
      "Warning: C:/Users/SKTPJ15/real/traindata_au\\augmented_cluster0_nk100_2642_2024-04-15_01-14-19.dat.csv is empty.\n",
      "Processing file: C:/Users/SKTPJ15/real/traindata_au\\augmented_cluster0_nk100_2642_2024-04-15_01-24-19.dat.csv\n",
      "Processing file: C:/Users/SKTPJ15/real/traindata_au\\augmented_cluster0_nk100_2642_2024-04-15_01-34-19.dat.csv\n",
      "Warning: C:/Users/SKTPJ15/real/traindata_au\\augmented_cluster0_nk100_2642_2024-04-15_01-34-19.dat.csv is empty.\n",
      "Processing file: C:/Users/SKTPJ15/real/traindata_au\\augmented_cluster0_nk100_2642_2024-04-15_01-44-19.dat.csv\n",
      "Warning: C:/Users/SKTPJ15/real/traindata_au\\augmented_cluster0_nk100_2642_2024-04-15_01-44-19.dat.csv is empty.\n",
      "Processing file: C:/Users/SKTPJ15/real/traindata_au\\augmented_cluster0_nk100_2642_2024-04-15_01-54-19.dat.csv\n",
      "Warning: C:/Users/SKTPJ15/real/traindata_au\\augmented_cluster0_nk100_2642_2024-04-15_01-54-19.dat.csv is empty.\n",
      "Processing file: C:/Users/SKTPJ15/real/traindata_au\\augmented_cluster0_nk100_2642_2024-04-15_02-04-19.dat.csv\n",
      "Warning: C:/Users/SKTPJ15/real/traindata_au\\augmented_cluster0_nk100_2642_2024-04-15_02-04-19.dat.csv is empty.\n",
      "Processing file: C:/Users/SKTPJ15/real/traindata_au\\augmented_cluster0_nk100_2642_2024-04-15_02-14-19.dat.csv\n",
      "Processing file: C:/Users/SKTPJ15/real/traindata_au\\augmented_cluster0_nk100_2642_2024-04-15_02-24-19.dat.csv\n",
      "Processing file: C:/Users/SKTPJ15/real/traindata_au\\augmented_cluster0_nk100_2642_2024-04-15_02-34-19.dat.csv\n",
      "Warning: C:/Users/SKTPJ15/real/traindata_au\\augmented_cluster0_nk100_2642_2024-04-15_02-34-19.dat.csv is empty.\n",
      "Processing file: C:/Users/SKTPJ15/real/traindata_au\\augmented_cluster0_nk100_2642_2024-04-15_02-44-19.dat.csv\n",
      "Processing file: C:/Users/SKTPJ15/real/traindata_au\\augmented_cluster0_nk100_2642_2024-04-15_02-54-19.dat.csv\n",
      "Warning: C:/Users/SKTPJ15/real/traindata_au\\augmented_cluster0_nk100_2642_2024-04-15_02-54-19.dat.csv is empty.\n",
      "Processing file: C:/Users/SKTPJ15/real/traindata_au\\augmented_cluster0_nk100_2642_2024-04-15_03-04-19.dat.csv\n",
      "Warning: C:/Users/SKTPJ15/real/traindata_au\\augmented_cluster0_nk100_2642_2024-04-15_03-04-19.dat.csv is empty.\n",
      "Processing file: C:/Users/SKTPJ15/real/traindata_au\\augmented_cluster0_nk100_2642_2024-04-15_03-14-19.dat.csv\n",
      "Processing file: C:/Users/SKTPJ15/real/traindata_au\\augmented_cluster0_nk100_2642_2024-04-15_03-24-19.dat.csv\n",
      "Processing file: C:/Users/SKTPJ15/real/traindata_au\\augmented_cluster0_nk100_2642_2024-04-15_03-34-19.dat.csv\n",
      "Warning: C:/Users/SKTPJ15/real/traindata_au\\augmented_cluster0_nk100_2642_2024-04-15_03-34-19.dat.csv is empty.\n",
      "Processing file: C:/Users/SKTPJ15/real/traindata_au\\augmented_cluster0_nk100_2642_2024-04-15_03-44-19.dat.csv\n",
      "Warning: C:/Users/SKTPJ15/real/traindata_au\\augmented_cluster0_nk100_2642_2024-04-15_03-44-19.dat.csv is empty.\n",
      "Processing file: C:/Users/SKTPJ15/real/traindata_au\\augmented_cluster0_nk100_2642_2024-04-15_03-54-19.dat.csv\n",
      "Processing file: C:/Users/SKTPJ15/real/traindata_au\\augmented_cluster0_nk100_2642_2024-04-15_04-04-19.dat.csv\n",
      "Warning: C:/Users/SKTPJ15/real/traindata_au\\augmented_cluster0_nk100_2642_2024-04-15_04-04-19.dat.csv is empty.\n",
      "Processing file: C:/Users/SKTPJ15/real/traindata_au\\augmented_cluster0_nk100_2642_2024-04-15_04-14-19.dat.csv\n",
      "Warning: C:/Users/SKTPJ15/real/traindata_au\\augmented_cluster0_nk100_2642_2024-04-15_04-14-19.dat.csv is empty.\n",
      "Processing file: C:/Users/SKTPJ15/real/traindata_au\\augmented_cluster0_nk100_2642_2024-04-15_04-24-19.dat.csv\n",
      "Warning: C:/Users/SKTPJ15/real/traindata_au\\augmented_cluster0_nk100_2642_2024-04-15_04-24-19.dat.csv is empty.\n",
      "Processing file: C:/Users/SKTPJ15/real/traindata_au\\augmented_cluster0_nk100_2642_2024-04-15_04-34-19.dat.csv\n",
      "Processing file: C:/Users/SKTPJ15/real/traindata_au\\augmented_cluster0_nk100_2642_2024-04-15_04-44-19.dat.csv\n",
      "Processing file: C:/Users/SKTPJ15/real/traindata_au\\augmented_cluster0_nk100_2642_2024-04-15_04-54-19.dat.csv\n",
      "Warning: C:/Users/SKTPJ15/real/traindata_au\\augmented_cluster0_nk100_2642_2024-04-15_04-54-19.dat.csv is empty.\n",
      "Processing file: C:/Users/SKTPJ15/real/traindata_au\\augmented_cluster0_nk100_2642_2024-04-15_05-04-19.dat.csv\n",
      "Warning: C:/Users/SKTPJ15/real/traindata_au\\augmented_cluster0_nk100_2642_2024-04-15_05-04-19.dat.csv is empty.\n",
      "Processing file: C:/Users/SKTPJ15/real/traindata_au\\augmented_cluster0_nk100_2642_2024-04-15_05-14-19.dat.csv\n",
      "Processing file: C:/Users/SKTPJ15/real/traindata_au\\augmented_cluster0_nk100_2642_2024-04-15_05-24-19.dat.csv\n",
      "Warning: C:/Users/SKTPJ15/real/traindata_au\\augmented_cluster0_nk100_2642_2024-04-15_05-24-19.dat.csv is empty.\n",
      "Processing file: C:/Users/SKTPJ15/real/traindata_au\\augmented_cluster0_nk100_2642_2024-04-15_05-34-19.dat.csv\n",
      "Processing file: C:/Users/SKTPJ15/real/traindata_au\\augmented_cluster0_nk100_2642_2024-04-15_05-44-19.dat.csv\n",
      "Warning: C:/Users/SKTPJ15/real/traindata_au\\augmented_cluster0_nk100_2642_2024-04-15_05-44-19.dat.csv is empty.\n",
      "Processing file: C:/Users/SKTPJ15/real/traindata_au\\augmented_cluster0_nk100_2642_2024-04-15_05-54-19.dat.csv\n",
      "Warning: C:/Users/SKTPJ15/real/traindata_au\\augmented_cluster0_nk100_2642_2024-04-15_05-54-19.dat.csv is empty.\n",
      "Processing file: C:/Users/SKTPJ15/real/traindata_au\\augmented_cluster0_nk100_2642_2024-04-15_06-04-19.dat.csv\n",
      "Processing file: C:/Users/SKTPJ15/real/traindata_au\\augmented_cluster0_nk100_2642_2024-04-15_06-14-19.dat.csv\n",
      "Warning: C:/Users/SKTPJ15/real/traindata_au\\augmented_cluster0_nk100_2642_2024-04-15_06-14-19.dat.csv is empty.\n",
      "Processing file: C:/Users/SKTPJ15/real/traindata_au\\augmented_cluster0_nk100_2642_2024-04-15_06-24-19.dat.csv\n",
      "Processing file: C:/Users/SKTPJ15/real/traindata_au\\augmented_cluster0_nk100_2642_2024-04-15_06-34-19.dat.csv\n",
      "Warning: C:/Users/SKTPJ15/real/traindata_au\\augmented_cluster0_nk100_2642_2024-04-15_06-34-19.dat.csv is empty.\n",
      "Processing file: C:/Users/SKTPJ15/real/traindata_au\\augmented_cluster0_nk100_2642_2024-04-15_06-44-19.dat.csv\n",
      "Warning: C:/Users/SKTPJ15/real/traindata_au\\augmented_cluster0_nk100_2642_2024-04-15_06-44-19.dat.csv is empty.\n",
      "Processing file: C:/Users/SKTPJ15/real/traindata_au\\augmented_cluster0_nk100_2642_2024-04-15_06-54-19.dat.csv\n",
      "Processing file: C:/Users/SKTPJ15/real/traindata_au\\augmented_cluster0_nk100_2642_2024-04-15_07-04-19.dat.csv\n",
      "Warning: C:/Users/SKTPJ15/real/traindata_au\\augmented_cluster0_nk100_2642_2024-04-15_07-04-19.dat.csv is empty.\n",
      "Processing file: C:/Users/SKTPJ15/real/traindata_au\\augmented_cluster0_nk100_2642_2024-04-15_07-14-19.dat.csv\n",
      "Warning: C:/Users/SKTPJ15/real/traindata_au\\augmented_cluster0_nk100_2642_2024-04-15_07-14-19.dat.csv is empty.\n",
      "Processing file: C:/Users/SKTPJ15/real/traindata_au\\augmented_cluster0_nk100_2642_2024-04-15_07-24-19.dat.csv\n",
      "Processing file: C:/Users/SKTPJ15/real/traindata_au\\augmented_cluster0_nk100_2642_2024-04-15_07-34-19.dat.csv\n",
      "Warning: C:/Users/SKTPJ15/real/traindata_au\\augmented_cluster0_nk100_2642_2024-04-15_07-34-19.dat.csv is empty.\n",
      "Processing file: C:/Users/SKTPJ15/real/traindata_au\\augmented_cluster0_nk100_2642_2024-04-15_07-44-19.dat.csv\n",
      "Warning: C:/Users/SKTPJ15/real/traindata_au\\augmented_cluster0_nk100_2642_2024-04-15_07-44-19.dat.csv is empty.\n",
      "Processing file: C:/Users/SKTPJ15/real/traindata_au\\augmented_cluster0_nk100_2642_2024-04-15_07-54-19.dat.csv\n",
      "Processing file: C:/Users/SKTPJ15/real/traindata_au\\augmented_cluster0_nk100_2642_2024-04-15_08-04-19.dat.csv\n",
      "Processing file: C:/Users/SKTPJ15/real/traindata_au\\augmented_cluster0_nk100_2642_2024-04-15_08-14-19.dat.csv\n",
      "Warning: C:/Users/SKTPJ15/real/traindata_au\\augmented_cluster0_nk100_2642_2024-04-15_08-14-19.dat.csv is empty.\n",
      "Processing file: C:/Users/SKTPJ15/real/traindata_au\\augmented_cluster0_nk100_2642_2024-04-15_08-24-19.dat.csv\n",
      "Warning: C:/Users/SKTPJ15/real/traindata_au\\augmented_cluster0_nk100_2642_2024-04-15_08-24-19.dat.csv is empty.\n",
      "Processing file: C:/Users/SKTPJ15/real/traindata_au\\augmented_cluster0_nk100_2642_2024-04-15_08-34-19.dat.csv\n",
      "Warning: C:/Users/SKTPJ15/real/traindata_au\\augmented_cluster0_nk100_2642_2024-04-15_08-34-19.dat.csv is empty.\n",
      "Processing file: C:/Users/SKTPJ15/real/traindata_au\\augmented_cluster0_nk100_2642_2024-04-15_08-44-19.dat.csv\n",
      "Warning: C:/Users/SKTPJ15/real/traindata_au\\augmented_cluster0_nk100_2642_2024-04-15_08-44-19.dat.csv is empty.\n",
      "Processing file: C:/Users/SKTPJ15/real/traindata_au\\augmented_cluster0_nk100_2642_2024-04-15_08-54-19.dat.csv\n",
      "Warning: C:/Users/SKTPJ15/real/traindata_au\\augmented_cluster0_nk100_2642_2024-04-15_08-54-19.dat.csv is empty.\n",
      "Processing file: C:/Users/SKTPJ15/real/traindata_au\\augmented_cluster0_nk100_2642_2024-04-15_09-04-19.dat.csv\n",
      "Warning: C:/Users/SKTPJ15/real/traindata_au\\augmented_cluster0_nk100_2642_2024-04-15_09-04-19.dat.csv is empty.\n",
      "Processing file: C:/Users/SKTPJ15/real/traindata_au\\augmented_cluster0_nk100_2642_2024-04-15_09-14-19.dat.csv\n",
      "Warning: C:/Users/SKTPJ15/real/traindata_au\\augmented_cluster0_nk100_2642_2024-04-15_09-14-19.dat.csv is empty.\n",
      "Processing file: C:/Users/SKTPJ15/real/traindata_au\\augmented_cluster0_nk100_2642_2024-04-15_09-24-19.dat.csv\n",
      "Warning: C:/Users/SKTPJ15/real/traindata_au\\augmented_cluster0_nk100_2642_2024-04-15_09-24-19.dat.csv is empty.\n",
      "Processing file: C:/Users/SKTPJ15/real/traindata_au\\augmented_cluster0_nk100_2642_2024-04-15_09-34-19.dat.csv\n",
      "Warning: C:/Users/SKTPJ15/real/traindata_au\\augmented_cluster0_nk100_2642_2024-04-15_09-34-19.dat.csv is empty.\n",
      "Processing file: C:/Users/SKTPJ15/real/traindata_au\\augmented_cluster0_nk100_2642_2024-04-15_09-44-19.dat.csv\n",
      "Warning: C:/Users/SKTPJ15/real/traindata_au\\augmented_cluster0_nk100_2642_2024-04-15_09-44-19.dat.csv is empty.\n",
      "Processing file: C:/Users/SKTPJ15/real/traindata_au\\augmented_cluster0_nk100_2642_2024-04-15_09-54-19.dat.csv\n",
      "Warning: C:/Users/SKTPJ15/real/traindata_au\\augmented_cluster0_nk100_2642_2024-04-15_09-54-19.dat.csv is empty.\n",
      "Processing file: C:/Users/SKTPJ15/real/traindata_au\\augmented_cluster0_nk100_2642_2024-04-15_10-04-19.dat.csv\n",
      "Warning: C:/Users/SKTPJ15/real/traindata_au\\augmented_cluster0_nk100_2642_2024-04-15_10-04-19.dat.csv is empty.\n",
      "Processing file: C:/Users/SKTPJ15/real/traindata_au\\augmented_cluster0_nk100_2642_2024-04-15_10-14-19.dat.csv\n",
      "Warning: C:/Users/SKTPJ15/real/traindata_au\\augmented_cluster0_nk100_2642_2024-04-15_10-14-19.dat.csv is empty.\n",
      "Processing file: C:/Users/SKTPJ15/real/traindata_au\\augmented_cluster0_nk100_2642_2024-04-15_10-24-19.dat.csv\n",
      "Warning: C:/Users/SKTPJ15/real/traindata_au\\augmented_cluster0_nk100_2642_2024-04-15_10-24-19.dat.csv is empty.\n",
      "Processing file: C:/Users/SKTPJ15/real/traindata_au\\augmented_cluster0_nk100_2642_2024-04-15_10-34-19.dat.csv\n",
      "Warning: C:/Users/SKTPJ15/real/traindata_au\\augmented_cluster0_nk100_2642_2024-04-15_10-34-19.dat.csv is empty.\n",
      "Processing file: C:/Users/SKTPJ15/real/traindata_au\\augmented_cluster0_nk100_2642_2024-04-15_10-44-19.dat.csv\n",
      "Warning: C:/Users/SKTPJ15/real/traindata_au\\augmented_cluster0_nk100_2642_2024-04-15_10-44-19.dat.csv is empty.\n",
      "Processing file: C:/Users/SKTPJ15/real/traindata_au\\augmented_cluster0_nk100_2642_2024-04-15_10-54-19.dat.csv\n",
      "Warning: C:/Users/SKTPJ15/real/traindata_au\\augmented_cluster0_nk100_2642_2024-04-15_10-54-19.dat.csv is empty.\n",
      "Processing file: C:/Users/SKTPJ15/real/traindata_au\\augmented_cluster0_nk100_2642_2024-04-15_11-04-19.dat.csv\n",
      "Warning: C:/Users/SKTPJ15/real/traindata_au\\augmented_cluster0_nk100_2642_2024-04-15_11-04-19.dat.csv is empty.\n",
      "Processing file: C:/Users/SKTPJ15/real/traindata_au\\augmented_cluster0_nk100_2642_2024-04-15_11-14-19.dat.csv\n",
      "Warning: C:/Users/SKTPJ15/real/traindata_au\\augmented_cluster0_nk100_2642_2024-04-15_11-14-19.dat.csv is empty.\n",
      "Processing file: C:/Users/SKTPJ15/real/traindata_au\\augmented_cluster0_nk100_2642_2024-04-15_11-24-19.dat.csv\n",
      "Warning: C:/Users/SKTPJ15/real/traindata_au\\augmented_cluster0_nk100_2642_2024-04-15_11-24-19.dat.csv is empty.\n",
      "Processing file: C:/Users/SKTPJ15/real/traindata_au\\augmented_cluster0_nk100_2642_2024-04-15_11-34-19.dat.csv\n",
      "Warning: C:/Users/SKTPJ15/real/traindata_au\\augmented_cluster0_nk100_2642_2024-04-15_11-34-19.dat.csv is empty.\n",
      "Processing file: C:/Users/SKTPJ15/real/traindata_au\\augmented_cluster0_nk100_2642_2024-04-15_11-44-19.dat.csv\n",
      "Warning: C:/Users/SKTPJ15/real/traindata_au\\augmented_cluster0_nk100_2642_2024-04-15_11-44-19.dat.csv is empty.\n",
      "Processing file: C:/Users/SKTPJ15/real/traindata_au\\augmented_cluster0_nk100_2642_2024-04-15_11-54-19.dat.csv\n",
      "Warning: C:/Users/SKTPJ15/real/traindata_au\\augmented_cluster0_nk100_2642_2024-04-15_11-54-19.dat.csv is empty.\n",
      "Processing file: C:/Users/SKTPJ15/real/traindata_au\\augmented_cluster0_nk100_2642_2024-04-15_12-04-19.dat.csv\n",
      "Warning: C:/Users/SKTPJ15/real/traindata_au\\augmented_cluster0_nk100_2642_2024-04-15_12-04-19.dat.csv is empty.\n",
      "Processing file: C:/Users/SKTPJ15/real/traindata_au\\augmented_cluster0_nk100_2642_2024-04-15_12-14-19.dat.csv\n",
      "Warning: C:/Users/SKTPJ15/real/traindata_au\\augmented_cluster0_nk100_2642_2024-04-15_12-14-19.dat.csv is empty.\n",
      "Processing file: C:/Users/SKTPJ15/real/traindata_au\\augmented_cluster0_nk100_2642_2024-04-15_12-24-19.dat.csv\n",
      "Warning: C:/Users/SKTPJ15/real/traindata_au\\augmented_cluster0_nk100_2642_2024-04-15_12-24-19.dat.csv is empty.\n",
      "Processing file: C:/Users/SKTPJ15/real/traindata_au\\augmented_cluster0_nk100_2642_2024-04-15_12-34-19.dat.csv\n",
      "Warning: C:/Users/SKTPJ15/real/traindata_au\\augmented_cluster0_nk100_2642_2024-04-15_12-34-19.dat.csv is empty.\n",
      "Processing file: C:/Users/SKTPJ15/real/traindata_au\\augmented_cluster0_nk100_2642_2024-04-15_12-44-19.dat.csv\n",
      "Warning: C:/Users/SKTPJ15/real/traindata_au\\augmented_cluster0_nk100_2642_2024-04-15_12-44-19.dat.csv is empty.\n",
      "Processing file: C:/Users/SKTPJ15/real/traindata_au\\augmented_cluster0_nk100_2642_2024-04-15_12-54-19.dat.csv\n",
      "Warning: C:/Users/SKTPJ15/real/traindata_au\\augmented_cluster0_nk100_2642_2024-04-15_12-54-19.dat.csv is empty.\n",
      "Processing file: C:/Users/SKTPJ15/real/traindata_au\\augmented_cluster0_nk100_2642_2024-04-15_13-04-19.dat.csv\n",
      "Warning: C:/Users/SKTPJ15/real/traindata_au\\augmented_cluster0_nk100_2642_2024-04-15_13-04-19.dat.csv is empty.\n",
      "Processing file: C:/Users/SKTPJ15/real/traindata_au\\augmented_cluster0_nk100_2642_2024-04-15_13-14-19.dat.csv\n",
      "Warning: C:/Users/SKTPJ15/real/traindata_au\\augmented_cluster0_nk100_2642_2024-04-15_13-14-19.dat.csv is empty.\n",
      "Processing file: C:/Users/SKTPJ15/real/traindata_au\\augmented_cluster0_nk100_2642_2024-04-15_13-24-19.dat.csv\n",
      "Warning: C:/Users/SKTPJ15/real/traindata_au\\augmented_cluster0_nk100_2642_2024-04-15_13-24-19.dat.csv is empty.\n",
      "Processing file: C:/Users/SKTPJ15/real/traindata_au\\augmented_cluster0_nk100_2642_2024-04-15_13-34-19.dat.csv\n",
      "Warning: C:/Users/SKTPJ15/real/traindata_au\\augmented_cluster0_nk100_2642_2024-04-15_13-34-19.dat.csv is empty.\n",
      "Processing file: C:/Users/SKTPJ15/real/traindata_au\\augmented_cluster0_nk100_2642_2024-04-15_13-44-19.dat.csv\n",
      "Warning: C:/Users/SKTPJ15/real/traindata_au\\augmented_cluster0_nk100_2642_2024-04-15_13-44-19.dat.csv is empty.\n",
      "Processing file: C:/Users/SKTPJ15/real/traindata_au\\augmented_cluster0_nk100_2642_2024-04-15_13-54-19.dat.csv\n",
      "Warning: C:/Users/SKTPJ15/real/traindata_au\\augmented_cluster0_nk100_2642_2024-04-15_13-54-19.dat.csv is empty.\n",
      "Processing file: C:/Users/SKTPJ15/real/traindata_au\\augmented_cluster0_nk100_2642_2024-04-15_14-04-19.dat.csv\n",
      "Warning: C:/Users/SKTPJ15/real/traindata_au\\augmented_cluster0_nk100_2642_2024-04-15_14-04-19.dat.csv is empty.\n",
      "Processing file: C:/Users/SKTPJ15/real/traindata_au\\augmented_cluster0_nk100_2642_2024-04-15_14-14-19.dat.csv\n",
      "Warning: C:/Users/SKTPJ15/real/traindata_au\\augmented_cluster0_nk100_2642_2024-04-15_14-14-19.dat.csv is empty.\n",
      "Processing file: C:/Users/SKTPJ15/real/traindata_au\\augmented_cluster0_nk100_2642_2024-04-15_14-24-19.dat.csv\n",
      "Warning: C:/Users/SKTPJ15/real/traindata_au\\augmented_cluster0_nk100_2642_2024-04-15_14-24-19.dat.csv is empty.\n",
      "Processing file: C:/Users/SKTPJ15/real/traindata_au\\augmented_cluster0_nk100_2642_2024-04-15_14-34-19.dat.csv\n",
      "Warning: C:/Users/SKTPJ15/real/traindata_au\\augmented_cluster0_nk100_2642_2024-04-15_14-34-19.dat.csv is empty.\n",
      "Processing file: C:/Users/SKTPJ15/real/traindata_au\\augmented_cluster0_nk100_2642_2024-04-15_14-44-19.dat.csv\n",
      "Warning: C:/Users/SKTPJ15/real/traindata_au\\augmented_cluster0_nk100_2642_2024-04-15_14-44-19.dat.csv is empty.\n",
      "Processing file: C:/Users/SKTPJ15/real/traindata_au\\augmented_cluster0_nk100_2642_2024-04-15_14-54-19.dat.csv\n",
      "Warning: C:/Users/SKTPJ15/real/traindata_au\\augmented_cluster0_nk100_2642_2024-04-15_14-54-19.dat.csv is empty.\n",
      "Processing file: C:/Users/SKTPJ15/real/traindata_au\\augmented_cluster0_nk100_2642_2024-04-15_15-04-19.dat.csv\n",
      "Warning: C:/Users/SKTPJ15/real/traindata_au\\augmented_cluster0_nk100_2642_2024-04-15_15-04-19.dat.csv is empty.\n",
      "Processing file: C:/Users/SKTPJ15/real/traindata_au\\augmented_cluster0_nk100_2642_2024-04-15_15-14-19.dat.csv\n",
      "Warning: C:/Users/SKTPJ15/real/traindata_au\\augmented_cluster0_nk100_2642_2024-04-15_15-14-19.dat.csv is empty.\n",
      "Processing file: C:/Users/SKTPJ15/real/traindata_au\\augmented_cluster0_nk100_2642_2024-04-15_15-24-19.dat.csv\n",
      "Warning: C:/Users/SKTPJ15/real/traindata_au\\augmented_cluster0_nk100_2642_2024-04-15_15-24-19.dat.csv is empty.\n",
      "Processing file: C:/Users/SKTPJ15/real/traindata_au\\augmented_cluster0_nk100_2642_2024-04-15_15-34-19.dat.csv\n",
      "Warning: C:/Users/SKTPJ15/real/traindata_au\\augmented_cluster0_nk100_2642_2024-04-15_15-34-19.dat.csv is empty.\n",
      "Processing file: C:/Users/SKTPJ15/real/traindata_au\\augmented_cluster0_nk100_2642_2024-04-15_15-44-19.dat.csv\n",
      "Warning: C:/Users/SKTPJ15/real/traindata_au\\augmented_cluster0_nk100_2642_2024-04-15_15-44-19.dat.csv is empty.\n",
      "Processing file: C:/Users/SKTPJ15/real/traindata_au\\augmented_cluster0_nk100_2642_2024-04-15_15-54-19.dat.csv\n",
      "Warning: C:/Users/SKTPJ15/real/traindata_au\\augmented_cluster0_nk100_2642_2024-04-15_15-54-19.dat.csv is empty.\n",
      "Processing file: C:/Users/SKTPJ15/real/traindata_au\\augmented_cluster0_nk100_2642_2024-04-15_16-04-19.dat.csv\n",
      "Warning: C:/Users/SKTPJ15/real/traindata_au\\augmented_cluster0_nk100_2642_2024-04-15_16-04-19.dat.csv is empty.\n",
      "Processing file: C:/Users/SKTPJ15/real/traindata_au\\augmented_cluster0_nk100_2642_2024-04-15_16-14-19.dat.csv\n",
      "Warning: C:/Users/SKTPJ15/real/traindata_au\\augmented_cluster0_nk100_2642_2024-04-15_16-14-19.dat.csv is empty.\n",
      "Processing file: C:/Users/SKTPJ15/real/traindata_au\\augmented_cluster0_nk100_2642_2024-04-15_16-24-19.dat.csv\n",
      "Warning: C:/Users/SKTPJ15/real/traindata_au\\augmented_cluster0_nk100_2642_2024-04-15_16-24-19.dat.csv is empty.\n",
      "Processing file: C:/Users/SKTPJ15/real/traindata_au\\augmented_cluster0_nk100_2642_2024-04-15_16-34-19.dat.csv\n",
      "Warning: C:/Users/SKTPJ15/real/traindata_au\\augmented_cluster0_nk100_2642_2024-04-15_16-34-19.dat.csv is empty.\n",
      "Processing file: C:/Users/SKTPJ15/real/traindata_au\\augmented_cluster0_nk100_2642_2024-04-15_16-44-19.dat.csv\n",
      "Warning: C:/Users/SKTPJ15/real/traindata_au\\augmented_cluster0_nk100_2642_2024-04-15_16-44-19.dat.csv is empty.\n",
      "Processing file: C:/Users/SKTPJ15/real/traindata_au\\augmented_cluster0_nk100_2642_2024-04-15_16-54-19.dat.csv\n",
      "Warning: C:/Users/SKTPJ15/real/traindata_au\\augmented_cluster0_nk100_2642_2024-04-15_16-54-19.dat.csv is empty.\n",
      "Processing file: C:/Users/SKTPJ15/real/traindata_au\\augmented_cluster0_nk100_2642_2024-04-15_17-04-19.dat.csv\n",
      "Warning: C:/Users/SKTPJ15/real/traindata_au\\augmented_cluster0_nk100_2642_2024-04-15_17-04-19.dat.csv is empty.\n",
      "Processing file: C:/Users/SKTPJ15/real/traindata_au\\augmented_cluster0_nk100_2642_2024-04-15_17-14-19.dat.csv\n",
      "Warning: C:/Users/SKTPJ15/real/traindata_au\\augmented_cluster0_nk100_2642_2024-04-15_17-14-19.dat.csv is empty.\n",
      "Processing file: C:/Users/SKTPJ15/real/traindata_au\\augmented_cluster0_nk100_2642_2024-04-15_17-24-19.dat.csv\n",
      "Warning: C:/Users/SKTPJ15/real/traindata_au\\augmented_cluster0_nk100_2642_2024-04-15_17-24-19.dat.csv is empty.\n",
      "Processing file: C:/Users/SKTPJ15/real/traindata_au\\augmented_cluster0_nk100_2642_2024-04-15_17-34-19.dat.csv\n",
      "Warning: C:/Users/SKTPJ15/real/traindata_au\\augmented_cluster0_nk100_2642_2024-04-15_17-34-19.dat.csv is empty.\n",
      "Processing file: C:/Users/SKTPJ15/real/traindata_au\\augmented_cluster0_nk100_2642_2024-04-15_17-44-19.dat.csv\n",
      "Warning: C:/Users/SKTPJ15/real/traindata_au\\augmented_cluster0_nk100_2642_2024-04-15_17-44-19.dat.csv is empty.\n",
      "Processing file: C:/Users/SKTPJ15/real/traindata_au\\augmented_cluster0_nk100_2642_2024-04-15_17-54-19.dat.csv\n",
      "Warning: C:/Users/SKTPJ15/real/traindata_au\\augmented_cluster0_nk100_2642_2024-04-15_17-54-19.dat.csv is empty.\n",
      "Processing file: C:/Users/SKTPJ15/real/traindata_au\\augmented_cluster0_nk100_2642_2024-04-15_18-04-19.dat.csv\n",
      "Warning: C:/Users/SKTPJ15/real/traindata_au\\augmented_cluster0_nk100_2642_2024-04-15_18-04-19.dat.csv is empty.\n",
      "Processing file: C:/Users/SKTPJ15/real/traindata_au\\augmented_cluster0_nk100_2642_2024-04-15_18-14-19.dat.csv\n",
      "Warning: C:/Users/SKTPJ15/real/traindata_au\\augmented_cluster0_nk100_2642_2024-04-15_18-14-19.dat.csv is empty.\n",
      "Processing file: C:/Users/SKTPJ15/real/traindata_au\\augmented_cluster0_nk100_2642_2024-04-15_18-24-19.dat.csv\n",
      "Warning: C:/Users/SKTPJ15/real/traindata_au\\augmented_cluster0_nk100_2642_2024-04-15_18-24-19.dat.csv is empty.\n",
      "Processing file: C:/Users/SKTPJ15/real/traindata_au\\augmented_cluster0_nk100_2642_2024-04-15_18-34-19.dat.csv\n",
      "Warning: C:/Users/SKTPJ15/real/traindata_au\\augmented_cluster0_nk100_2642_2024-04-15_18-34-19.dat.csv is empty.\n",
      "Processing file: C:/Users/SKTPJ15/real/traindata_au\\augmented_cluster0_nk100_2642_2024-04-15_18-44-19.dat.csv\n",
      "Warning: C:/Users/SKTPJ15/real/traindata_au\\augmented_cluster0_nk100_2642_2024-04-15_18-44-19.dat.csv is empty.\n",
      "Processing file: C:/Users/SKTPJ15/real/traindata_au\\augmented_cluster0_nk100_2642_2024-04-15_18-54-19.dat.csv\n",
      "Warning: C:/Users/SKTPJ15/real/traindata_au\\augmented_cluster0_nk100_2642_2024-04-15_18-54-19.dat.csv is empty.\n",
      "Processing file: C:/Users/SKTPJ15/real/traindata_au\\augmented_cluster0_nk100_2642_2024-04-15_19-04-19.dat.csv\n",
      "Warning: C:/Users/SKTPJ15/real/traindata_au\\augmented_cluster0_nk100_2642_2024-04-15_19-04-19.dat.csv is empty.\n",
      "Processing file: C:/Users/SKTPJ15/real/traindata_au\\augmented_cluster0_nk100_2642_2024-04-15_19-14-19.dat.csv\n",
      "Warning: C:/Users/SKTPJ15/real/traindata_au\\augmented_cluster0_nk100_2642_2024-04-15_19-14-19.dat.csv is empty.\n",
      "Processing file: C:/Users/SKTPJ15/real/traindata_au\\augmented_cluster0_nk100_2642_2024-04-15_19-24-19.dat.csv\n",
      "Processing file: C:/Users/SKTPJ15/real/traindata_au\\augmented_cluster0_nk100_2642_2024-04-15_19-34-19.dat.csv\n",
      "Processing file: C:/Users/SKTPJ15/real/traindata_au\\augmented_cluster0_nk100_2642_2024-04-15_19-44-19.dat.csv\n",
      "Warning: C:/Users/SKTPJ15/real/traindata_au\\augmented_cluster0_nk100_2642_2024-04-15_19-44-19.dat.csv is empty.\n",
      "Processing file: C:/Users/SKTPJ15/real/traindata_au\\augmented_cluster0_nk100_2642_2024-04-15_19-54-19.dat.csv\n",
      "Warning: C:/Users/SKTPJ15/real/traindata_au\\augmented_cluster0_nk100_2642_2024-04-15_19-54-19.dat.csv is empty.\n",
      "Processing file: C:/Users/SKTPJ15/real/traindata_au\\augmented_cluster0_nk100_2642_2024-04-15_20-04-19.dat.csv\n",
      "Processing file: C:/Users/SKTPJ15/real/traindata_au\\augmented_cluster0_nk100_2642_2024-04-15_20-14-19.dat.csv\n",
      "Warning: C:/Users/SKTPJ15/real/traindata_au\\augmented_cluster0_nk100_2642_2024-04-15_20-14-19.dat.csv is empty.\n",
      "Processing file: C:/Users/SKTPJ15/real/traindata_au\\augmented_cluster0_nk100_2642_2024-04-15_20-24-19.dat.csv\n",
      "Warning: C:/Users/SKTPJ15/real/traindata_au\\augmented_cluster0_nk100_2642_2024-04-15_20-24-19.dat.csv is empty.\n",
      "Processing file: C:/Users/SKTPJ15/real/traindata_au\\augmented_cluster0_nk100_2642_2024-04-15_20-34-19.dat.csv\n",
      "Processing file: C:/Users/SKTPJ15/real/traindata_au\\augmented_cluster0_nk100_2642_2024-04-15_20-44-19.dat.csv\n",
      "Processing file: C:/Users/SKTPJ15/real/traindata_au\\augmented_cluster0_nk100_2642_2024-04-15_20-54-19.dat.csv\n",
      "Processing file: C:/Users/SKTPJ15/real/traindata_au\\augmented_cluster0_nk100_2642_2024-04-15_21-04-19.dat.csv\n",
      "Warning: C:/Users/SKTPJ15/real/traindata_au\\augmented_cluster0_nk100_2642_2024-04-15_21-04-19.dat.csv is empty.\n",
      "Processing file: C:/Users/SKTPJ15/real/traindata_au\\augmented_cluster0_nk100_2642_2024-04-15_21-14-19.dat.csv\n",
      "Processing file: C:/Users/SKTPJ15/real/traindata_au\\augmented_cluster0_nk100_2642_2024-04-15_21-24-19.dat.csv\n",
      "Processing file: C:/Users/SKTPJ15/real/traindata_au\\augmented_cluster0_nk100_2642_2024-04-15_21-34-19.dat.csv\n",
      "Warning: C:/Users/SKTPJ15/real/traindata_au\\augmented_cluster0_nk100_2642_2024-04-15_21-34-19.dat.csv is empty.\n",
      "Processing file: C:/Users/SKTPJ15/real/traindata_au\\augmented_cluster0_nk100_2642_2024-04-15_21-44-19.dat.csv\n",
      "Warning: C:/Users/SKTPJ15/real/traindata_au\\augmented_cluster0_nk100_2642_2024-04-15_21-44-19.dat.csv is empty.\n",
      "Processing file: C:/Users/SKTPJ15/real/traindata_au\\augmented_cluster0_nk100_2642_2024-04-15_21-54-19.dat.csv\n",
      "Warning: C:/Users/SKTPJ15/real/traindata_au\\augmented_cluster0_nk100_2642_2024-04-15_21-54-19.dat.csv is empty.\n",
      "Processing file: C:/Users/SKTPJ15/real/traindata_au\\augmented_cluster0_nk100_2642_2024-04-15_22-04-19.dat.csv\n",
      "Warning: C:/Users/SKTPJ15/real/traindata_au\\augmented_cluster0_nk100_2642_2024-04-15_22-04-19.dat.csv is empty.\n",
      "Processing file: C:/Users/SKTPJ15/real/traindata_au\\augmented_cluster0_nk100_2642_2024-04-15_22-14-19.dat.csv\n",
      "Processing file: C:/Users/SKTPJ15/real/traindata_au\\augmented_cluster0_nk100_2642_2024-04-15_22-24-19.dat.csv\n",
      "Warning: C:/Users/SKTPJ15/real/traindata_au\\augmented_cluster0_nk100_2642_2024-04-15_22-24-19.dat.csv is empty.\n",
      "Processing file: C:/Users/SKTPJ15/real/traindata_au\\augmented_cluster0_nk100_2642_2024-04-15_22-34-19.dat.csv\n",
      "Warning: C:/Users/SKTPJ15/real/traindata_au\\augmented_cluster0_nk100_2642_2024-04-15_22-34-19.dat.csv is empty.\n",
      "Processing file: C:/Users/SKTPJ15/real/traindata_au\\augmented_cluster0_nk100_2642_2024-04-15_22-44-19.dat.csv\n",
      "Processing file: C:/Users/SKTPJ15/real/traindata_au\\augmented_cluster0_nk100_2642_2024-04-15_22-54-19.dat.csv\n",
      "Warning: C:/Users/SKTPJ15/real/traindata_au\\augmented_cluster0_nk100_2642_2024-04-15_22-54-19.dat.csv is empty.\n",
      "Processing file: C:/Users/SKTPJ15/real/traindata_au\\augmented_cluster0_nk100_2642_2024-04-15_23-04-19.dat.csv\n",
      "Warning: C:/Users/SKTPJ15/real/traindata_au\\augmented_cluster0_nk100_2642_2024-04-15_23-04-19.dat.csv is empty.\n",
      "Processing file: C:/Users/SKTPJ15/real/traindata_au\\augmented_cluster0_nk100_2642_2024-04-15_23-14-19.dat.csv\n",
      "Processing file: C:/Users/SKTPJ15/real/traindata_au\\augmented_cluster0_nk100_720_2023-07-03_23-27-22.dat.csv\n",
      "Processing file: C:/Users/SKTPJ15/real/traindata_au\\augmented_cluster0_nk100_720_2023-07-03_23-47-29.dat.csv\n",
      "Processing file: C:/Users/SKTPJ15/real/traindata_au\\augmented_cluster0_nk100_720_2023-07-04_03-18-47.dat.csv\n",
      "Warning: C:/Users/SKTPJ15/real/traindata_au\\augmented_cluster0_nk100_720_2023-07-04_03-18-47.dat.csv is empty.\n",
      "Processing file: C:/Users/SKTPJ15/real/traindata_au\\augmented_cluster0_nk100_720_2023-07-04_03-28-50.dat.csv\n",
      "Warning: C:/Users/SKTPJ15/real/traindata_au\\augmented_cluster0_nk100_720_2023-07-04_03-28-50.dat.csv is empty.\n",
      "Processing file: C:/Users/SKTPJ15/real/traindata_au\\augmented_cluster0_nk100_720_2023-07-04_04-29-12.dat.csv\n",
      "Warning: C:/Users/SKTPJ15/real/traindata_au\\augmented_cluster0_nk100_720_2023-07-04_04-29-12.dat.csv is empty.\n",
      "Processing file: C:/Users/SKTPJ15/real/traindata_au\\augmented_cluster0_nk100_720_2023-07-04_04-39-15.dat.csv\n",
      "Warning: C:/Users/SKTPJ15/real/traindata_au\\augmented_cluster0_nk100_720_2023-07-04_04-39-15.dat.csv is empty.\n",
      "Processing file: C:/Users/SKTPJ15/real/traindata_au\\augmented_cluster0_nk100_720_2023-07-04_04-49-19.dat.csv\n",
      "Warning: C:/Users/SKTPJ15/real/traindata_au\\augmented_cluster0_nk100_720_2023-07-04_04-49-19.dat.csv is empty.\n",
      "Processing file: C:/Users/SKTPJ15/real/traindata_au\\augmented_cluster0_nk100_720_2023-07-04_04-59-22.dat.csv\n",
      "Warning: C:/Users/SKTPJ15/real/traindata_au\\augmented_cluster0_nk100_720_2023-07-04_04-59-22.dat.csv is empty.\n",
      "Processing file: C:/Users/SKTPJ15/real/traindata_au\\augmented_cluster0_nk100_720_2023-07-04_05-09-26.dat.csv\n",
      "Warning: C:/Users/SKTPJ15/real/traindata_au\\augmented_cluster0_nk100_720_2023-07-04_05-09-26.dat.csv is empty.\n",
      "Processing file: C:/Users/SKTPJ15/real/traindata_au\\augmented_cluster0_nk100_720_2023-07-04_05-39-38.dat.csv\n",
      "Warning: C:/Users/SKTPJ15/real/traindata_au\\augmented_cluster0_nk100_720_2023-07-04_05-39-38.dat.csv is empty.\n",
      "Processing file: C:/Users/SKTPJ15/real/traindata_au\\augmented_cluster0_nk100_720_2023-07-04_05-49-42.dat.csv\n",
      "Warning: C:/Users/SKTPJ15/real/traindata_au\\augmented_cluster0_nk100_720_2023-07-04_05-49-42.dat.csv is empty.\n",
      "Processing file: C:/Users/SKTPJ15/real/traindata_au\\augmented_cluster0_nk100_720_2023-07-04_06-29-56.dat.csv\n",
      "Processing file: C:/Users/SKTPJ15/real/traindata_au\\augmented_cluster0_nk100_720_2023-07-04_06-40-00.dat.csv\n",
      "Processing file: C:/Users/SKTPJ15/real/traindata_au\\augmented_cluster0_nk100_720_2023-07-04_07-10-10.dat.csv\n",
      "Processing file: C:/Users/SKTPJ15/real/traindata_au\\augmented_cluster0_nk100_720_2023-07-04_07-40-21.dat.csv\n",
      "Processing file: C:/Users/SKTPJ15/real/traindata_au\\augmented_cluster0_nk100_720_2023-07-04_09-41-06.dat.csv\n",
      "Warning: C:/Users/SKTPJ15/real/traindata_au\\augmented_cluster0_nk100_720_2023-07-04_09-41-06.dat.csv is empty.\n",
      "Processing file: C:/Users/SKTPJ15/real/traindata_au\\augmented_cluster0_nk100_720_2023-07-04_10-21-20.dat.csv\n",
      "Warning: C:/Users/SKTPJ15/real/traindata_au\\augmented_cluster0_nk100_720_2023-07-04_10-21-20.dat.csv is empty.\n",
      "Processing file: C:/Users/SKTPJ15/real/traindata_au\\augmented_cluster0_nk100_720_2023-07-04_10-31-24.dat.csv\n",
      "Warning: C:/Users/SKTPJ15/real/traindata_au\\augmented_cluster0_nk100_720_2023-07-04_10-31-24.dat.csv is empty.\n",
      "Processing file: C:/Users/SKTPJ15/real/traindata_au\\augmented_cluster0_nk100_720_2023-07-04_11-01-36.dat.csv\n",
      "Warning: C:/Users/SKTPJ15/real/traindata_au\\augmented_cluster0_nk100_720_2023-07-04_11-01-36.dat.csv is empty.\n",
      "Processing file: C:/Users/SKTPJ15/real/traindata_au\\augmented_cluster0_nk100_720_2023-07-04_11-41-51.dat.csv\n",
      "Warning: C:/Users/SKTPJ15/real/traindata_au\\augmented_cluster0_nk100_720_2023-07-04_11-41-51.dat.csv is empty.\n",
      "Processing file: C:/Users/SKTPJ15/real/traindata_au\\augmented_cluster0_nk100_720_2023-07-04_12-22-05.dat.csv\n",
      "Warning: C:/Users/SKTPJ15/real/traindata_au\\augmented_cluster0_nk100_720_2023-07-04_12-22-05.dat.csv is empty.\n",
      "Processing file: C:/Users/SKTPJ15/real/traindata_au\\augmented_cluster0_nk100_720_2023-07-04_12-32-09.dat.csv\n",
      "Processing file: C:/Users/SKTPJ15/real/traindata_au\\augmented_cluster0_nk100_720_2023-07-04_12-42-12.dat.csv\n",
      "Processing file: C:/Users/SKTPJ15/real/traindata_au\\augmented_cluster0_nk100_720_2023-07-04_12-52-16.dat.csv\n",
      "Warning: C:/Users/SKTPJ15/real/traindata_au\\augmented_cluster0_nk100_720_2023-07-04_12-52-16.dat.csv is empty.\n",
      "Processing file: C:/Users/SKTPJ15/real/traindata_au\\augmented_cluster0_nk100_720_2023-07-04_13-22-28.dat.csv\n",
      "Warning: C:/Users/SKTPJ15/real/traindata_au\\augmented_cluster0_nk100_720_2023-07-04_13-22-28.dat.csv is empty.\n",
      "Processing file: C:/Users/SKTPJ15/real/traindata_au\\augmented_cluster0_nk100_720_2023-07-04_13-42-36.dat.csv\n",
      "Processing file: C:/Users/SKTPJ15/real/traindata_au\\augmented_cluster0_nk100_720_2023-07-04_15-03-05.dat.csv\n",
      "Warning: C:/Users/SKTPJ15/real/traindata_au\\augmented_cluster0_nk100_720_2023-07-04_15-03-05.dat.csv is empty.\n",
      "Processing file: C:/Users/SKTPJ15/real/traindata_au\\augmented_cluster0_nk100_720_2023-07-04_15-13-08.dat.csv\n",
      "Warning: C:/Users/SKTPJ15/real/traindata_au\\augmented_cluster0_nk100_720_2023-07-04_15-13-08.dat.csv is empty.\n",
      "Processing file: C:/Users/SKTPJ15/real/traindata_au\\augmented_cluster0_nk100_720_2023-07-04_23-26-11.dat.csv\n",
      "Warning: C:/Users/SKTPJ15/real/traindata_au\\augmented_cluster0_nk100_720_2023-07-04_23-26-11.dat.csv is empty.\n",
      "Processing file: C:/Users/SKTPJ15/real/traindata_au\\augmented_cluster0_nk100_720_2023-07-04_23-36-15.dat.csv\n",
      "Warning: C:/Users/SKTPJ15/real/traindata_au\\augmented_cluster0_nk100_720_2023-07-04_23-36-15.dat.csv is empty.\n",
      "Processing file: C:/Users/SKTPJ15/real/traindata_au\\augmented_cluster0_nk100_720_2023-07-04_23-46-19.dat.csv\n",
      "Warning: C:/Users/SKTPJ15/real/traindata_au\\augmented_cluster0_nk100_720_2023-07-04_23-46-19.dat.csv is empty.\n",
      "Processing file: C:/Users/SKTPJ15/real/traindata_au\\augmented_cluster0_nk100_720_2023-07-04_23-56-22.dat.csv\n",
      "Processing file: C:/Users/SKTPJ15/real/traindata_au\\augmented_cluster0_nk100_720_2023-07-05_01-37-01.dat.csv\n",
      "Warning: C:/Users/SKTPJ15/real/traindata_au\\augmented_cluster0_nk100_720_2023-07-05_01-37-01.dat.csv is empty.\n",
      "Processing file: C:/Users/SKTPJ15/real/traindata_au\\augmented_cluster0_nk100_720_2023-07-05_01-47-04.dat.csv\n",
      "Warning: C:/Users/SKTPJ15/real/traindata_au\\augmented_cluster0_nk100_720_2023-07-05_01-47-04.dat.csv is empty.\n",
      "Processing file: C:/Users/SKTPJ15/real/traindata_au\\augmented_cluster0_nk100_720_2023-07-05_01-57-08.dat.csv\n",
      "Warning: C:/Users/SKTPJ15/real/traindata_au\\augmented_cluster0_nk100_720_2023-07-05_01-57-08.dat.csv is empty.\n",
      "Processing file: C:/Users/SKTPJ15/real/traindata_au\\augmented_cluster0_nk100_720_2023-07-05_03-07-35.dat.csv\n",
      "Processing file: C:/Users/SKTPJ15/real/traindata_au\\augmented_cluster0_nk100_720_2023-07-05_03-17-39.dat.csv\n",
      "Processing file: C:/Users/SKTPJ15/real/traindata_au\\augmented_cluster0_nk100_720_2023-07-05_03-27-43.dat.csv\n",
      "Processing file: C:/Users/SKTPJ15/real/traindata_au\\augmented_cluster0_nk100_720_2023-07-05_06-38-56.dat.csv\n",
      "Warning: C:/Users/SKTPJ15/real/traindata_au\\augmented_cluster0_nk100_720_2023-07-05_06-38-56.dat.csv is empty.\n",
      "Processing file: C:/Users/SKTPJ15/real/traindata_au\\augmented_cluster0_nk100_720_2023-07-05_06-48-59.dat.csv\n",
      "Warning: C:/Users/SKTPJ15/real/traindata_au\\augmented_cluster0_nk100_720_2023-07-05_06-48-59.dat.csv is empty.\n",
      "Processing file: C:/Users/SKTPJ15/real/traindata_au\\augmented_cluster0_nk100_720_2023-07-05_06-59-03.dat.csv\n",
      "Warning: C:/Users/SKTPJ15/real/traindata_au\\augmented_cluster0_nk100_720_2023-07-05_06-59-03.dat.csv is empty.\n",
      "Processing file: C:/Users/SKTPJ15/real/traindata_au\\augmented_cluster0_nk100_720_2023-07-05_07-09-07.dat.csv\n",
      "Warning: C:/Users/SKTPJ15/real/traindata_au\\augmented_cluster0_nk100_720_2023-07-05_07-09-07.dat.csv is empty.\n",
      "Processing file: C:/Users/SKTPJ15/real/traindata_au\\augmented_cluster0_nk100_740_2023-07-03_18-45-38.dat.csv\n",
      "Warning: C:/Users/SKTPJ15/real/traindata_au\\augmented_cluster0_nk100_740_2023-07-03_18-45-38.dat.csv is empty.\n",
      "Processing file: C:/Users/SKTPJ15/real/traindata_au\\augmented_cluster0_nk100_740_2023-07-03_20-16-09.dat.csv\n",
      "Warning: C:/Users/SKTPJ15/real/traindata_au\\augmented_cluster0_nk100_740_2023-07-03_20-16-09.dat.csv is empty.\n",
      "Processing file: C:/Users/SKTPJ15/real/traindata_au\\augmented_cluster0_nk100_740_2023-07-03_20-26-12.dat.csv\n",
      "Warning: C:/Users/SKTPJ15/real/traindata_au\\augmented_cluster0_nk100_740_2023-07-03_20-26-12.dat.csv is empty.\n",
      "Processing file: C:/Users/SKTPJ15/real/traindata_au\\augmented_cluster0_nk100_740_2023-07-03_20-36-16.dat.csv\n",
      "Warning: C:/Users/SKTPJ15/real/traindata_au\\augmented_cluster0_nk100_740_2023-07-03_20-36-16.dat.csv is empty.\n",
      "Processing file: C:/Users/SKTPJ15/real/traindata_au\\augmented_cluster0_nk100_740_2023-07-03_20-46-19.dat.csv\n",
      "Warning: C:/Users/SKTPJ15/real/traindata_au\\augmented_cluster0_nk100_740_2023-07-03_20-46-19.dat.csv is empty.\n",
      "Processing file: C:/Users/SKTPJ15/real/traindata_au\\augmented_cluster0_nk100_740_2023-07-03_20-56-23.dat.csv\n",
      "Warning: C:/Users/SKTPJ15/real/traindata_au\\augmented_cluster0_nk100_740_2023-07-03_20-56-23.dat.csv is empty.\n",
      "Processing file: C:/Users/SKTPJ15/real/traindata_au\\augmented_cluster0_nk100_740_2023-07-03_22-47-02.dat.csv\n",
      "Warning: C:/Users/SKTPJ15/real/traindata_au\\augmented_cluster0_nk100_740_2023-07-03_22-47-02.dat.csv is empty.\n",
      "Processing file: C:/Users/SKTPJ15/real/traindata_au\\augmented_cluster0_nk100_740_2023-07-03_22-57-06.dat.csv\n",
      "Warning: C:/Users/SKTPJ15/real/traindata_au\\augmented_cluster0_nk100_740_2023-07-03_22-57-06.dat.csv is empty.\n",
      "Processing file: C:/Users/SKTPJ15/real/traindata_au\\augmented_cluster0_nk100_740_2023-07-03_23-07-09.dat.csv\n",
      "Warning: C:/Users/SKTPJ15/real/traindata_au\\augmented_cluster0_nk100_740_2023-07-03_23-07-09.dat.csv is empty.\n",
      "Processing file: C:/Users/SKTPJ15/real/traindata_au\\augmented_cluster0_nk100_740_2023-07-03_23-27-16.dat.csv\n",
      "Warning: C:/Users/SKTPJ15/real/traindata_au\\augmented_cluster0_nk100_740_2023-07-03_23-27-16.dat.csv is empty.\n",
      "Processing file: C:/Users/SKTPJ15/real/traindata_au\\augmented_cluster0_nk100_740_2023-07-03_23-57-26.dat.csv\n",
      "Warning: C:/Users/SKTPJ15/real/traindata_au\\augmented_cluster0_nk100_740_2023-07-03_23-57-26.dat.csv is empty.\n",
      "Processing file: C:/Users/SKTPJ15/real/traindata_au\\augmented_cluster0_nk100_740_2023-07-04_00-17-33.dat.csv\n",
      "Warning: C:/Users/SKTPJ15/real/traindata_au\\augmented_cluster0_nk100_740_2023-07-04_00-17-33.dat.csv is empty.\n",
      "Processing file: C:/Users/SKTPJ15/real/traindata_au\\augmented_cluster0_nk100_740_2023-07-04_00-27-37.dat.csv\n",
      "Warning: C:/Users/SKTPJ15/real/traindata_au\\augmented_cluster0_nk100_740_2023-07-04_00-27-37.dat.csv is empty.\n",
      "Processing file: C:/Users/SKTPJ15/real/traindata_au\\augmented_cluster0_nk100_740_2023-07-04_00-37-41.dat.csv\n",
      "Warning: C:/Users/SKTPJ15/real/traindata_au\\augmented_cluster0_nk100_740_2023-07-04_00-37-41.dat.csv is empty.\n",
      "Processing file: C:/Users/SKTPJ15/real/traindata_au\\augmented_cluster0_nk100_740_2023-07-04_00-47-44.dat.csv\n",
      "Warning: C:/Users/SKTPJ15/real/traindata_au\\augmented_cluster0_nk100_740_2023-07-04_00-47-44.dat.csv is empty.\n",
      "Processing file: C:/Users/SKTPJ15/real/traindata_au\\augmented_cluster0_nk100_740_2023-07-04_01-38-01.dat.csv\n",
      "Warning: C:/Users/SKTPJ15/real/traindata_au\\augmented_cluster0_nk100_740_2023-07-04_01-38-01.dat.csv is empty.\n",
      "Processing file: C:/Users/SKTPJ15/real/traindata_au\\augmented_cluster0_nk100_740_2023-07-04_02-08-12.dat.csv\n",
      "Warning: C:/Users/SKTPJ15/real/traindata_au\\augmented_cluster0_nk100_740_2023-07-04_02-08-12.dat.csv is empty.\n",
      "Processing file: C:/Users/SKTPJ15/real/traindata_au\\augmented_cluster0_nk100_740_2023-07-04_02-18-15.dat.csv\n",
      "Warning: C:/Users/SKTPJ15/real/traindata_au\\augmented_cluster0_nk100_740_2023-07-04_02-18-15.dat.csv is empty.\n",
      "Processing file: C:/Users/SKTPJ15/real/traindata_au\\augmented_cluster0_nk100_740_2023-07-04_02-48-28.dat.csv\n",
      "Processing file: C:/Users/SKTPJ15/real/traindata_au\\augmented_cluster0_nk100_740_2023-07-04_02-58-31.dat.csv\n",
      "Processing file: C:/Users/SKTPJ15/real/traindata_au\\augmented_cluster0_nk100_740_2023-07-04_05-59-35.dat.csv\n",
      "Warning: C:/Users/SKTPJ15/real/traindata_au\\augmented_cluster0_nk100_740_2023-07-04_05-59-35.dat.csv is empty.\n",
      "Processing file: C:/Users/SKTPJ15/real/traindata_au\\augmented_cluster0_nk100_740_2023-07-04_06-09-38.dat.csv\n",
      "Warning: C:/Users/SKTPJ15/real/traindata_au\\augmented_cluster0_nk100_740_2023-07-04_06-09-38.dat.csv is empty.\n",
      "Processing file: C:/Users/SKTPJ15/real/traindata_au\\augmented_cluster0_nk100_740_2023-07-04_07-30-06.dat.csv\n",
      "Processing file: C:/Users/SKTPJ15/real/traindata_au\\augmented_cluster0_nk100_740_2023-07-04_09-10-43.dat.csv\n",
      "Warning: C:/Users/SKTPJ15/real/traindata_au\\augmented_cluster0_nk100_740_2023-07-04_09-10-43.dat.csv is empty.\n",
      "Processing file: C:/Users/SKTPJ15/real/traindata_au\\augmented_cluster0_nk100_740_2023-07-04_11-41-35.dat.csv\n",
      "Warning: C:/Users/SKTPJ15/real/traindata_au\\augmented_cluster0_nk100_740_2023-07-04_11-41-35.dat.csv is empty.\n",
      "Processing file: C:/Users/SKTPJ15/real/traindata_au\\augmented_cluster0_nk100_740_2023-07-04_13-52-24.dat.csv\n",
      "Processing file: C:/Users/SKTPJ15/real/traindata_au\\augmented_cluster0_nk100_740_2023-07-04_14-22-34.dat.csv\n",
      "Processing file: C:/Users/SKTPJ15/real/traindata_au\\augmented_cluster0_nk100_740_2023-07-04_14-32-38.dat.csv\n",
      "Processing file: C:/Users/SKTPJ15/real/traindata_au\\augmented_cluster0_nk100_740_2023-07-04_14-42-41.dat.csv\n",
      "Processing file: C:/Users/SKTPJ15/real/traindata_au\\augmented_cluster0_nk100_740_2023-07-04_14-52-45.dat.csv\n",
      "Processing file: C:/Users/SKTPJ15/real/traindata_au\\augmented_cluster0_nk100_740_2023-07-04_17-13-34.dat.csv\n",
      "Warning: C:/Users/SKTPJ15/real/traindata_au\\augmented_cluster0_nk100_740_2023-07-04_17-13-34.dat.csv is empty.\n",
      "Processing file: C:/Users/SKTPJ15/real/traindata_au\\augmented_cluster0_nk100_740_2023-07-04_17-43-45.dat.csv\n",
      "Warning: C:/Users/SKTPJ15/real/traindata_au\\augmented_cluster0_nk100_740_2023-07-04_17-43-45.dat.csv is empty.\n",
      "Processing file: C:/Users/SKTPJ15/real/traindata_au\\augmented_cluster0_nk100_740_2023-07-04_20-44-51.dat.csv\n",
      "Processing file: C:/Users/SKTPJ15/real/traindata_au\\augmented_cluster0_nk100_740_2023-07-04_21-15-01.dat.csv\n",
      "Processing file: C:/Users/SKTPJ15/real/traindata_au\\augmented_cluster0_nk100_740_2023-07-04_23-55-59.dat.csv\n",
      "Warning: C:/Users/SKTPJ15/real/traindata_au\\augmented_cluster0_nk100_740_2023-07-04_23-55-59.dat.csv is empty.\n",
      "Processing file: C:/Users/SKTPJ15/real/traindata_au\\augmented_cluster0_nk100_740_2023-07-05_02-26-55.dat.csv\n",
      "Processing file: C:/Users/SKTPJ15/real/traindata_au\\augmented_cluster0_nk100_740_2023-07-05_03-57-27.dat.csv\n",
      "Warning: C:/Users/SKTPJ15/real/traindata_au\\augmented_cluster0_nk100_740_2023-07-05_03-57-27.dat.csv is empty.\n",
      "Processing file: C:/Users/SKTPJ15/real/traindata_au\\augmented_cluster0_nk100_740_2023-07-05_10-09-43.dat.csv\n",
      "Warning: C:/Users/SKTPJ15/real/traindata_au\\augmented_cluster0_nk100_740_2023-07-05_10-09-43.dat.csv is empty.\n",
      "Processing file: C:/Users/SKTPJ15/real/traindata_au\\augmented_cluster0_nk100_749_2023-07-03_16-14-45.dat.csv\n",
      "Warning: C:/Users/SKTPJ15/real/traindata_au\\augmented_cluster0_nk100_749_2023-07-03_16-14-45.dat.csv is empty.\n",
      "Processing file: C:/Users/SKTPJ15/real/traindata_au\\augmented_cluster0_nk100_749_2023-07-03_16-24-49.dat.csv\n",
      "Warning: C:/Users/SKTPJ15/real/traindata_au\\augmented_cluster0_nk100_749_2023-07-03_16-24-49.dat.csv is empty.\n",
      "Processing file: C:/Users/SKTPJ15/real/traindata_au\\augmented_cluster0_nk100_749_2023-07-03_16-34-52.dat.csv\n",
      "Warning: C:/Users/SKTPJ15/real/traindata_au\\augmented_cluster0_nk100_749_2023-07-03_16-34-52.dat.csv is empty.\n",
      "Processing file: C:/Users/SKTPJ15/real/traindata_au\\augmented_cluster0_nk100_749_2023-07-03_17-15-06.dat.csv\n",
      "Warning: C:/Users/SKTPJ15/real/traindata_au\\augmented_cluster0_nk100_749_2023-07-03_17-15-06.dat.csv is empty.\n",
      "Processing file: C:/Users/SKTPJ15/real/traindata_au\\augmented_cluster0_nk100_749_2023-07-03_17-25-09.dat.csv\n",
      "Warning: C:/Users/SKTPJ15/real/traindata_au\\augmented_cluster0_nk100_749_2023-07-03_17-25-09.dat.csv is empty.\n",
      "Processing file: C:/Users/SKTPJ15/real/traindata_au\\augmented_cluster0_nk100_749_2023-07-03_17-35-13.dat.csv\n",
      "Warning: C:/Users/SKTPJ15/real/traindata_au\\augmented_cluster0_nk100_749_2023-07-03_17-35-13.dat.csv is empty.\n",
      "Processing file: C:/Users/SKTPJ15/real/traindata_au\\augmented_cluster0_nk100_749_2023-07-03_18-35-34.dat.csv\n",
      "Warning: C:/Users/SKTPJ15/real/traindata_au\\augmented_cluster0_nk100_749_2023-07-03_18-35-34.dat.csv is empty.\n",
      "Processing file: C:/Users/SKTPJ15/real/traindata_au\\augmented_cluster0_nk100_749_2023-07-03_18-55-41.dat.csv\n",
      "Processing file: C:/Users/SKTPJ15/real/traindata_au\\augmented_cluster0_nk100_749_2023-07-03_19-05-44.dat.csv\n",
      "Processing file: C:/Users/SKTPJ15/real/traindata_au\\augmented_cluster0_nk100_749_2023-07-03_19-15-48.dat.csv\n",
      "Processing file: C:/Users/SKTPJ15/real/traindata_au\\augmented_cluster0_nk100_749_2023-07-03_19-35-54.dat.csv\n",
      "Warning: C:/Users/SKTPJ15/real/traindata_au\\augmented_cluster0_nk100_749_2023-07-03_19-35-54.dat.csv is empty.\n",
      "Processing file: C:/Users/SKTPJ15/real/traindata_au\\augmented_cluster0_nk100_749_2023-07-03_19-45-58.dat.csv\n",
      "Warning: C:/Users/SKTPJ15/real/traindata_au\\augmented_cluster0_nk100_749_2023-07-03_19-45-58.dat.csv is empty.\n",
      "Processing file: C:/Users/SKTPJ15/real/traindata_au\\augmented_cluster0_nk100_749_2023-07-03_19-56-01.dat.csv\n",
      "Warning: C:/Users/SKTPJ15/real/traindata_au\\augmented_cluster0_nk100_749_2023-07-03_19-56-01.dat.csv is empty.\n",
      "Processing file: C:/Users/SKTPJ15/real/traindata_au\\augmented_cluster0_nk100_749_2023-07-03_20-06-05.dat.csv\n",
      "Warning: C:/Users/SKTPJ15/real/traindata_au\\augmented_cluster0_nk100_749_2023-07-03_20-06-05.dat.csv is empty.\n",
      "Processing file: C:/Users/SKTPJ15/real/traindata_au\\augmented_cluster0_nk100_749_2023-07-03_21-26-34.dat.csv\n",
      "Warning: C:/Users/SKTPJ15/real/traindata_au\\augmented_cluster0_nk100_749_2023-07-03_21-26-34.dat.csv is empty.\n",
      "Processing file: C:/Users/SKTPJ15/real/traindata_au\\augmented_cluster0_nk100_749_2023-07-03_21-36-38.dat.csv\n",
      "Warning: C:/Users/SKTPJ15/real/traindata_au\\augmented_cluster0_nk100_749_2023-07-03_21-36-38.dat.csv is empty.\n",
      "Processing file: C:/Users/SKTPJ15/real/traindata_au\\augmented_cluster0_nk100_749_2023-07-03_21-56-45.dat.csv\n",
      "Warning: C:/Users/SKTPJ15/real/traindata_au\\augmented_cluster0_nk100_749_2023-07-03_21-56-45.dat.csv is empty.\n",
      "Processing file: C:/Users/SKTPJ15/real/traindata_au\\augmented_cluster0_nk100_749_2023-07-03_22-06-48.dat.csv\n",
      "Warning: C:/Users/SKTPJ15/real/traindata_au\\augmented_cluster0_nk100_749_2023-07-03_22-06-48.dat.csv is empty.\n",
      "Processing file: C:/Users/SKTPJ15/real/traindata_au\\augmented_cluster0_nk100_749_2023-07-03_22-16-52.dat.csv\n",
      "Warning: C:/Users/SKTPJ15/real/traindata_au\\augmented_cluster0_nk100_749_2023-07-03_22-16-52.dat.csv is empty.\n",
      "Processing file: C:/Users/SKTPJ15/real/traindata_au\\augmented_cluster0_nk100_749_2023-07-03_23-37-19.dat.csv\n",
      "Processing file: C:/Users/SKTPJ15/real/traindata_au\\augmented_cluster0_nk100_749_2023-07-03_23-47-23.dat.csv\n",
      "Processing file: C:/Users/SKTPJ15/real/traindata_au\\augmented_cluster0_nk100_749_2023-07-03_23-57-27.dat.csv\n",
      "Processing file: C:/Users/SKTPJ15/real/traindata_au\\augmented_cluster0_nk100_749_2023-07-04_00-07-30.dat.csv\n",
      "Processing file: C:/Users/SKTPJ15/real/traindata_au\\augmented_cluster0_nk100_749_2023-07-04_00-17-34.dat.csv\n",
      "Processing file: C:/Users/SKTPJ15/real/traindata_au\\augmented_cluster0_nk100_749_2023-07-04_00-27-37.dat.csv\n",
      "Warning: C:/Users/SKTPJ15/real/traindata_au\\augmented_cluster0_nk100_749_2023-07-04_00-27-37.dat.csv is empty.\n",
      "Processing file: C:/Users/SKTPJ15/real/traindata_au\\augmented_cluster0_nk100_749_2023-07-04_00-37-41.dat.csv\n",
      "Warning: C:/Users/SKTPJ15/real/traindata_au\\augmented_cluster0_nk100_749_2023-07-04_00-37-41.dat.csv is empty.\n",
      "Processing file: C:/Users/SKTPJ15/real/traindata_au\\augmented_cluster0_nk100_749_2023-07-04_00-47-44.dat.csv\n",
      "Warning: C:/Users/SKTPJ15/real/traindata_au\\augmented_cluster0_nk100_749_2023-07-04_00-47-44.dat.csv is empty.\n",
      "Processing file: C:/Users/SKTPJ15/real/traindata_au\\augmented_cluster0_nk100_749_2023-07-04_01-07-51.dat.csv\n",
      "Processing file: C:/Users/SKTPJ15/real/traindata_au\\augmented_cluster0_nk100_749_2023-07-04_01-27-58.dat.csv\n",
      "Processing file: C:/Users/SKTPJ15/real/traindata_au\\augmented_cluster0_nk100_749_2023-07-04_03-08-35.dat.csv\n",
      "Warning: C:/Users/SKTPJ15/real/traindata_au\\augmented_cluster0_nk100_749_2023-07-04_03-08-35.dat.csv is empty.\n",
      "Processing file: C:/Users/SKTPJ15/real/traindata_au\\augmented_cluster0_nk100_749_2023-07-04_03-18-38.dat.csv\n",
      "Warning: C:/Users/SKTPJ15/real/traindata_au\\augmented_cluster0_nk100_749_2023-07-04_03-18-38.dat.csv is empty.\n",
      "Processing file: C:/Users/SKTPJ15/real/traindata_au\\augmented_cluster0_nk100_749_2023-07-04_03-28-42.dat.csv\n",
      "Warning: C:/Users/SKTPJ15/real/traindata_au\\augmented_cluster0_nk100_749_2023-07-04_03-28-42.dat.csv is empty.\n",
      "Processing file: C:/Users/SKTPJ15/real/traindata_au\\augmented_cluster0_nk100_749_2023-07-04_03-48-49.dat.csv\n",
      "Warning: C:/Users/SKTPJ15/real/traindata_au\\augmented_cluster0_nk100_749_2023-07-04_03-48-49.dat.csv is empty.\n",
      "Processing file: C:/Users/SKTPJ15/real/traindata_au\\augmented_cluster0_nk100_749_2023-07-04_03-58-52.dat.csv\n",
      "Warning: C:/Users/SKTPJ15/real/traindata_au\\augmented_cluster0_nk100_749_2023-07-04_03-58-52.dat.csv is empty.\n",
      "Processing file: C:/Users/SKTPJ15/real/traindata_au\\augmented_cluster0_nk100_749_2023-07-04_04-29-03.dat.csv\n",
      "Warning: C:/Users/SKTPJ15/real/traindata_au\\augmented_cluster0_nk100_749_2023-07-04_04-29-03.dat.csv is empty.\n",
      "Processing file: C:/Users/SKTPJ15/real/traindata_au\\augmented_cluster0_nk100_749_2023-07-04_07-30-06.dat.csv\n",
      "Processing file: C:/Users/SKTPJ15/real/traindata_au\\augmented_cluster0_nk100_749_2023-07-04_08-00-19.dat.csv\n",
      "Processing file: C:/Users/SKTPJ15/real/traindata_au\\augmented_cluster0_nk100_749_2023-07-04_08-10-22.dat.csv\n",
      "Warning: C:/Users/SKTPJ15/real/traindata_au\\augmented_cluster0_nk100_749_2023-07-04_08-10-22.dat.csv is empty.\n",
      "Processing file: C:/Users/SKTPJ15/real/traindata_au\\augmented_cluster0_nk100_749_2023-07-04_08-20-26.dat.csv\n",
      "Warning: C:/Users/SKTPJ15/real/traindata_au\\augmented_cluster0_nk100_749_2023-07-04_08-20-26.dat.csv is empty.\n",
      "Processing file: C:/Users/SKTPJ15/real/traindata_au\\augmented_cluster0_nk100_749_2023-07-04_11-51-40.dat.csv\n",
      "Processing file: C:/Users/SKTPJ15/real/traindata_au\\augmented_cluster0_nk100_750_2023-07-03_18-35-33.dat.csv\n",
      "Warning: C:/Users/SKTPJ15/real/traindata_au\\augmented_cluster0_nk100_750_2023-07-03_18-35-33.dat.csv is empty.\n",
      "Processing file: C:/Users/SKTPJ15/real/traindata_au\\augmented_cluster0_nk100_750_2023-07-03_20-06-04.dat.csv\n",
      "Warning: C:/Users/SKTPJ15/real/traindata_au\\augmented_cluster0_nk100_750_2023-07-03_20-06-04.dat.csv is empty.\n",
      "Processing file: C:/Users/SKTPJ15/real/traindata_au\\augmented_cluster0_nk100_750_2023-07-03_20-16-07.dat.csv\n",
      "Processing file: C:/Users/SKTPJ15/real/traindata_au\\augmented_cluster0_nk100_750_2023-07-03_21-06-25.dat.csv\n",
      "Processing file: C:/Users/SKTPJ15/real/traindata_au\\augmented_cluster0_nk100_750_2023-07-03_21-16-28.dat.csv\n",
      "Processing file: C:/Users/SKTPJ15/real/traindata_au\\augmented_cluster0_nk100_750_2023-07-03_21-26-33.dat.csv\n",
      "Processing file: C:/Users/SKTPJ15/real/traindata_au\\augmented_cluster0_nk100_750_2023-07-04_01-58-08.dat.csv\n",
      "Warning: C:/Users/SKTPJ15/real/traindata_au\\augmented_cluster0_nk100_750_2023-07-04_01-58-08.dat.csv is empty.\n",
      "Processing file: C:/Users/SKTPJ15/real/traindata_au\\augmented_cluster0_nk100_750_2023-07-04_05-49-30.dat.csv\n",
      "Warning: C:/Users/SKTPJ15/real/traindata_au\\augmented_cluster0_nk100_750_2023-07-04_05-49-30.dat.csv is empty.\n",
      "Processing file: C:/Users/SKTPJ15/real/traindata_au\\augmented_cluster0_nk100_750_2023-07-04_05-59-34.dat.csv\n",
      "Warning: C:/Users/SKTPJ15/real/traindata_au\\augmented_cluster0_nk100_750_2023-07-04_05-59-34.dat.csv is empty.\n",
      "Processing file: C:/Users/SKTPJ15/real/traindata_au\\augmented_cluster0_nk100_750_2023-07-04_06-09-37.dat.csv\n",
      "Warning: C:/Users/SKTPJ15/real/traindata_au\\augmented_cluster0_nk100_750_2023-07-04_06-09-37.dat.csv is empty.\n",
      "Processing file: C:/Users/SKTPJ15/real/traindata_au\\augmented_cluster0_nk100_750_2023-07-04_10-41-14.dat.csv\n",
      "Processing file: C:/Users/SKTPJ15/real/traindata_au\\augmented_cluster0_nk100_750_2023-07-04_11-51-40.dat.csv\n",
      "Processing file: C:/Users/SKTPJ15/real/traindata_au\\augmented_cluster0_nk100_750_2023-07-04_12-01-43.dat.csv\n",
      "Processing file: C:/Users/SKTPJ15/real/traindata_au\\augmented_cluster0_nk100_750_2023-07-04_12-11-47.dat.csv\n",
      "Warning: C:/Users/SKTPJ15/real/traindata_au\\augmented_cluster0_nk100_750_2023-07-04_12-11-47.dat.csv is empty.\n",
      "Processing file: C:/Users/SKTPJ15/real/traindata_au\\augmented_cluster0_nk100_750_2023-07-04_12-31-54.dat.csv\n",
      "Warning: C:/Users/SKTPJ15/real/traindata_au\\augmented_cluster0_nk100_750_2023-07-04_12-31-54.dat.csv is empty.\n",
      "Processing file: C:/Users/SKTPJ15/real/traindata_au\\augmented_cluster0_nk100_750_2023-07-04_12-41-58.dat.csv\n",
      "Warning: C:/Users/SKTPJ15/real/traindata_au\\augmented_cluster0_nk100_750_2023-07-04_12-41-58.dat.csv is empty.\n",
      "Processing file: C:/Users/SKTPJ15/real/traindata_au\\augmented_cluster0_nk100_750_2023-07-04_13-22-12.dat.csv\n",
      "Warning: C:/Users/SKTPJ15/real/traindata_au\\augmented_cluster0_nk100_750_2023-07-04_13-22-12.dat.csv is empty.\n",
      "Processing file: C:/Users/SKTPJ15/real/traindata_au\\augmented_cluster0_nk100_750_2023-07-04_14-02-29.dat.csv\n",
      "Processing file: C:/Users/SKTPJ15/real/traindata_au\\augmented_cluster0_nk100_750_2023-07-04_14-32-39.dat.csv\n",
      "Processing file: C:/Users/SKTPJ15/real/traindata_au\\augmented_cluster0_nk100_751_2023-07-03_17-55-21.dat.csv\n",
      "Warning: C:/Users/SKTPJ15/real/traindata_au\\augmented_cluster0_nk100_751_2023-07-03_17-55-21.dat.csv is empty.\n",
      "Processing file: C:/Users/SKTPJ15/real/traindata_au\\augmented_cluster0_nk100_751_2023-07-03_18-05-25.dat.csv\n",
      "Warning: C:/Users/SKTPJ15/real/traindata_au\\augmented_cluster0_nk100_751_2023-07-03_18-05-25.dat.csv is empty.\n",
      "Processing file: C:/Users/SKTPJ15/real/traindata_au\\augmented_cluster0_nk100_751_2023-07-03_19-56-03.dat.csv\n",
      "Warning: C:/Users/SKTPJ15/real/traindata_au\\augmented_cluster0_nk100_751_2023-07-03_19-56-03.dat.csv is empty.\n",
      "Processing file: C:/Users/SKTPJ15/real/traindata_au\\augmented_cluster0_nk100_751_2023-07-03_22-16-53.dat.csv\n",
      "Warning: C:/Users/SKTPJ15/real/traindata_au\\augmented_cluster0_nk100_751_2023-07-03_22-16-53.dat.csv is empty.\n",
      "Processing file: C:/Users/SKTPJ15/real/traindata_au\\augmented_cluster0_nk100_751_2023-07-04_00-47-45.dat.csv\n",
      "Warning: C:/Users/SKTPJ15/real/traindata_au\\augmented_cluster0_nk100_751_2023-07-04_00-47-45.dat.csv is empty.\n",
      "Processing file: C:/Users/SKTPJ15/real/traindata_au\\augmented_cluster0_nk100_751_2023-07-04_02-58-33.dat.csv\n",
      "Processing file: C:/Users/SKTPJ15/real/traindata_au\\augmented_cluster0_nk100_751_2023-07-04_03-08-36.dat.csv\n",
      "Processing file: C:/Users/SKTPJ15/real/traindata_au\\augmented_cluster0_nk100_751_2023-07-04_03-48-50.dat.csv\n",
      "Processing file: C:/Users/SKTPJ15/real/traindata_au\\augmented_cluster0_nk100_751_2023-07-04_05-39-29.dat.csv\n",
      "Warning: C:/Users/SKTPJ15/real/traindata_au\\augmented_cluster0_nk100_751_2023-07-04_05-39-29.dat.csv is empty.\n",
      "Processing file: C:/Users/SKTPJ15/real/traindata_au\\augmented_cluster0_nk100_751_2023-07-04_05-49-32.dat.csv\n",
      "Warning: C:/Users/SKTPJ15/real/traindata_au\\augmented_cluster0_nk100_751_2023-07-04_05-49-32.dat.csv is empty.\n",
      "Processing file: C:/Users/SKTPJ15/real/traindata_au\\augmented_cluster0_nk100_751_2023-07-04_05-59-36.dat.csv\n",
      "Processing file: C:/Users/SKTPJ15/real/traindata_au\\augmented_cluster0_nk100_751_2023-07-04_16-23-20.dat.csv\n",
      "Warning: C:/Users/SKTPJ15/real/traindata_au\\augmented_cluster0_nk100_751_2023-07-04_16-23-20.dat.csv is empty.\n",
      "Processing file: C:/Users/SKTPJ15/real/traindata_au\\augmented_cluster0_nk100_751_2023-07-04_17-03-34.dat.csv\n",
      "Warning: C:/Users/SKTPJ15/real/traindata_au\\augmented_cluster0_nk100_751_2023-07-04_17-03-34.dat.csv is empty.\n",
      "Processing file: C:/Users/SKTPJ15/real/traindata_au\\augmented_cluster0_nk100_751_2023-07-04_17-13-38.dat.csv\n",
      "Warning: C:/Users/SKTPJ15/real/traindata_au\\augmented_cluster0_nk100_751_2023-07-04_17-13-38.dat.csv is empty.\n",
      "Processing file: C:/Users/SKTPJ15/real/traindata_au\\augmented_cluster0_nk100_751_2023-07-04_17-23-41.dat.csv\n",
      "Warning: C:/Users/SKTPJ15/real/traindata_au\\augmented_cluster0_nk100_751_2023-07-04_17-23-41.dat.csv is empty.\n",
      "Processing file: C:/Users/SKTPJ15/real/traindata_au\\augmented_cluster0_nk100_751_2023-07-04_17-33-45.dat.csv\n",
      "Warning: C:/Users/SKTPJ15/real/traindata_au\\augmented_cluster0_nk100_751_2023-07-04_17-33-45.dat.csv is empty.\n",
      "Processing file: C:/Users/SKTPJ15/real/traindata_au\\augmented_cluster0_nk100_751_2023-07-04_17-43-49.dat.csv\n",
      "Warning: C:/Users/SKTPJ15/real/traindata_au\\augmented_cluster0_nk100_751_2023-07-04_17-43-49.dat.csv is empty.\n",
      "Processing file: C:/Users/SKTPJ15/real/traindata_au\\augmented_cluster0_nk100_751_2023-07-04_18-13-59.dat.csv\n",
      "Warning: C:/Users/SKTPJ15/real/traindata_au\\augmented_cluster0_nk100_751_2023-07-04_18-13-59.dat.csv is empty.\n",
      "Processing file: C:/Users/SKTPJ15/real/traindata_au\\augmented_cluster0_nk100_751_2023-07-04_18-44-10.dat.csv\n",
      "Warning: C:/Users/SKTPJ15/real/traindata_au\\augmented_cluster0_nk100_751_2023-07-04_18-44-10.dat.csv is empty.\n",
      "Processing file: C:/Users/SKTPJ15/real/traindata_au\\augmented_cluster0_nk100_751_2023-07-04_19-44-33.dat.csv\n",
      "Processing file: C:/Users/SKTPJ15/real/traindata_au\\augmented_cluster0_nk100_751_2023-07-04_21-35-13.dat.csv\n",
      "Processing file: C:/Users/SKTPJ15/real/traindata_au\\augmented_cluster0_nk100_751_2023-07-04_23-45-59.dat.csv\n",
      "Warning: C:/Users/SKTPJ15/real/traindata_au\\augmented_cluster0_nk100_751_2023-07-04_23-45-59.dat.csv is empty.\n",
      "Processing file: C:/Users/SKTPJ15/real/traindata_au\\augmented_cluster0_nk100_751_2023-07-04_23-56-03.dat.csv\n",
      "Warning: C:/Users/SKTPJ15/real/traindata_au\\augmented_cluster0_nk100_751_2023-07-04_23-56-03.dat.csv is empty.\n",
      "Processing file: C:/Users/SKTPJ15/real/traindata_au\\augmented_cluster0_nk100_751_2023-07-05_00-06-06.dat.csv\n",
      "Warning: C:/Users/SKTPJ15/real/traindata_au\\augmented_cluster0_nk100_751_2023-07-05_00-06-06.dat.csv is empty.\n",
      "Processing file: C:/Users/SKTPJ15/real/traindata_au\\augmented_cluster0_nk100_751_2023-07-05_00-16-12.dat.csv\n",
      "Warning: C:/Users/SKTPJ15/real/traindata_au\\augmented_cluster0_nk100_751_2023-07-05_00-16-12.dat.csv is empty.\n",
      "Processing file: C:/Users/SKTPJ15/real/traindata_au\\augmented_cluster0_nk100_751_2023-07-05_01-06-30.dat.csv\n",
      "Processing file: C:/Users/SKTPJ15/real/traindata_au\\augmented_cluster0_nk100_751_2023-07-05_01-16-34.dat.csv\n",
      "Processing file: C:/Users/SKTPJ15/real/traindata_au\\augmented_cluster0_nk100_751_2023-07-05_02-06-52.dat.csv\n",
      "Processing file: C:/Users/SKTPJ15/real/traindata_au\\augmented_cluster0_nk100_751_2023-07-05_03-07-13.dat.csv\n",
      "Warning: C:/Users/SKTPJ15/real/traindata_au\\augmented_cluster0_nk100_751_2023-07-05_03-07-13.dat.csv is empty.\n",
      "Processing file: C:/Users/SKTPJ15/real/traindata_au\\augmented_cluster0_nk100_751_2023-07-05_03-17-17.dat.csv\n",
      "Warning: C:/Users/SKTPJ15/real/traindata_au\\augmented_cluster0_nk100_751_2023-07-05_03-17-17.dat.csv is empty.\n",
      "Processing file: C:/Users/SKTPJ15/real/traindata_au\\augmented_cluster0_nk100_751_2023-07-05_04-17-38.dat.csv\n",
      "Processing file: C:/Users/SKTPJ15/real/traindata_au\\cluster0_nk100_2642_2024-04-14_12-14-19.dat.csv\n",
      "Processing file: C:/Users/SKTPJ15/real/traindata_au\\cluster0_nk100_2642_2024-04-14_12-24-19.dat.csv\n",
      "Processing file: C:/Users/SKTPJ15/real/traindata_au\\cluster0_nk100_2642_2024-04-14_12-34-19.dat.csv\n",
      "Warning: C:/Users/SKTPJ15/real/traindata_au\\cluster0_nk100_2642_2024-04-14_12-34-19.dat.csv is empty.\n",
      "Processing file: C:/Users/SKTPJ15/real/traindata_au\\cluster0_nk100_2642_2024-04-14_12-44-19.dat.csv\n",
      "Warning: C:/Users/SKTPJ15/real/traindata_au\\cluster0_nk100_2642_2024-04-14_12-44-19.dat.csv is empty.\n",
      "Processing file: C:/Users/SKTPJ15/real/traindata_au\\cluster0_nk100_2642_2024-04-14_12-54-19.dat.csv\n",
      "Warning: C:/Users/SKTPJ15/real/traindata_au\\cluster0_nk100_2642_2024-04-14_12-54-19.dat.csv is empty.\n",
      "Processing file: C:/Users/SKTPJ15/real/traindata_au\\cluster0_nk100_2642_2024-04-14_13-04-19.dat.csv\n",
      "Warning: C:/Users/SKTPJ15/real/traindata_au\\cluster0_nk100_2642_2024-04-14_13-04-19.dat.csv is empty.\n",
      "Processing file: C:/Users/SKTPJ15/real/traindata_au\\cluster0_nk100_2642_2024-04-14_13-14-19.dat.csv\n",
      "Warning: C:/Users/SKTPJ15/real/traindata_au\\cluster0_nk100_2642_2024-04-14_13-14-19.dat.csv is empty.\n",
      "Processing file: C:/Users/SKTPJ15/real/traindata_au\\cluster0_nk100_2642_2024-04-14_13-24-19.dat.csv\n",
      "Warning: C:/Users/SKTPJ15/real/traindata_au\\cluster0_nk100_2642_2024-04-14_13-24-19.dat.csv is empty.\n",
      "Processing file: C:/Users/SKTPJ15/real/traindata_au\\cluster0_nk100_2642_2024-04-14_13-34-19.dat.csv\n",
      "Warning: C:/Users/SKTPJ15/real/traindata_au\\cluster0_nk100_2642_2024-04-14_13-34-19.dat.csv is empty.\n",
      "Processing file: C:/Users/SKTPJ15/real/traindata_au\\cluster0_nk100_2642_2024-04-14_13-44-19.dat.csv\n",
      "Warning: C:/Users/SKTPJ15/real/traindata_au\\cluster0_nk100_2642_2024-04-14_13-44-19.dat.csv is empty.\n",
      "Processing file: C:/Users/SKTPJ15/real/traindata_au\\cluster0_nk100_2642_2024-04-14_13-54-19.dat.csv\n",
      "Warning: C:/Users/SKTPJ15/real/traindata_au\\cluster0_nk100_2642_2024-04-14_13-54-19.dat.csv is empty.\n",
      "Processing file: C:/Users/SKTPJ15/real/traindata_au\\cluster0_nk100_2642_2024-04-14_14-04-19.dat.csv\n",
      "Warning: C:/Users/SKTPJ15/real/traindata_au\\cluster0_nk100_2642_2024-04-14_14-04-19.dat.csv is empty.\n",
      "Processing file: C:/Users/SKTPJ15/real/traindata_au\\cluster0_nk100_2642_2024-04-14_14-14-19.dat.csv\n",
      "Warning: C:/Users/SKTPJ15/real/traindata_au\\cluster0_nk100_2642_2024-04-14_14-14-19.dat.csv is empty.\n",
      "Processing file: C:/Users/SKTPJ15/real/traindata_au\\cluster0_nk100_2642_2024-04-14_14-24-19.dat.csv\n",
      "Warning: C:/Users/SKTPJ15/real/traindata_au\\cluster0_nk100_2642_2024-04-14_14-24-19.dat.csv is empty.\n",
      "Processing file: C:/Users/SKTPJ15/real/traindata_au\\cluster0_nk100_2642_2024-04-14_14-34-19.dat.csv\n",
      "Warning: C:/Users/SKTPJ15/real/traindata_au\\cluster0_nk100_2642_2024-04-14_14-34-19.dat.csv is empty.\n",
      "Processing file: C:/Users/SKTPJ15/real/traindata_au\\cluster0_nk100_2642_2024-04-14_14-44-19.dat.csv\n",
      "Warning: C:/Users/SKTPJ15/real/traindata_au\\cluster0_nk100_2642_2024-04-14_14-44-19.dat.csv is empty.\n",
      "Processing file: C:/Users/SKTPJ15/real/traindata_au\\cluster0_nk100_2642_2024-04-14_14-54-19.dat.csv\n",
      "Warning: C:/Users/SKTPJ15/real/traindata_au\\cluster0_nk100_2642_2024-04-14_14-54-19.dat.csv is empty.\n",
      "Processing file: C:/Users/SKTPJ15/real/traindata_au\\cluster0_nk100_2642_2024-04-14_15-04-19.dat.csv\n",
      "Warning: C:/Users/SKTPJ15/real/traindata_au\\cluster0_nk100_2642_2024-04-14_15-04-19.dat.csv is empty.\n",
      "Processing file: C:/Users/SKTPJ15/real/traindata_au\\cluster0_nk100_2642_2024-04-14_15-14-19.dat.csv\n",
      "Warning: C:/Users/SKTPJ15/real/traindata_au\\cluster0_nk100_2642_2024-04-14_15-14-19.dat.csv is empty.\n",
      "Processing file: C:/Users/SKTPJ15/real/traindata_au\\cluster0_nk100_2642_2024-04-14_15-24-19.dat.csv\n",
      "Warning: C:/Users/SKTPJ15/real/traindata_au\\cluster0_nk100_2642_2024-04-14_15-24-19.dat.csv is empty.\n",
      "Processing file: C:/Users/SKTPJ15/real/traindata_au\\cluster0_nk100_2642_2024-04-14_15-34-19.dat.csv\n",
      "Warning: C:/Users/SKTPJ15/real/traindata_au\\cluster0_nk100_2642_2024-04-14_15-34-19.dat.csv is empty.\n",
      "Processing file: C:/Users/SKTPJ15/real/traindata_au\\cluster0_nk100_2642_2024-04-14_15-44-19.dat.csv\n",
      "Warning: C:/Users/SKTPJ15/real/traindata_au\\cluster0_nk100_2642_2024-04-14_15-44-19.dat.csv is empty.\n",
      "Processing file: C:/Users/SKTPJ15/real/traindata_au\\cluster0_nk100_2642_2024-04-14_15-54-19.dat.csv\n",
      "Warning: C:/Users/SKTPJ15/real/traindata_au\\cluster0_nk100_2642_2024-04-14_15-54-19.dat.csv is empty.\n",
      "Processing file: C:/Users/SKTPJ15/real/traindata_au\\cluster0_nk100_2642_2024-04-14_16-04-19.dat.csv\n",
      "Warning: C:/Users/SKTPJ15/real/traindata_au\\cluster0_nk100_2642_2024-04-14_16-04-19.dat.csv is empty.\n",
      "Processing file: C:/Users/SKTPJ15/real/traindata_au\\cluster0_nk100_2642_2024-04-14_16-14-19.dat.csv\n",
      "Warning: C:/Users/SKTPJ15/real/traindata_au\\cluster0_nk100_2642_2024-04-14_16-14-19.dat.csv is empty.\n",
      "Processing file: C:/Users/SKTPJ15/real/traindata_au\\cluster0_nk100_2642_2024-04-14_16-24-19.dat.csv\n",
      "Warning: C:/Users/SKTPJ15/real/traindata_au\\cluster0_nk100_2642_2024-04-14_16-24-19.dat.csv is empty.\n",
      "Processing file: C:/Users/SKTPJ15/real/traindata_au\\cluster0_nk100_2642_2024-04-14_16-34-19.dat.csv\n",
      "Warning: C:/Users/SKTPJ15/real/traindata_au\\cluster0_nk100_2642_2024-04-14_16-34-19.dat.csv is empty.\n",
      "Processing file: C:/Users/SKTPJ15/real/traindata_au\\cluster0_nk100_2642_2024-04-14_16-44-19.dat.csv\n",
      "Warning: C:/Users/SKTPJ15/real/traindata_au\\cluster0_nk100_2642_2024-04-14_16-44-19.dat.csv is empty.\n",
      "Processing file: C:/Users/SKTPJ15/real/traindata_au\\cluster0_nk100_2642_2024-04-14_16-54-19.dat.csv\n",
      "Warning: C:/Users/SKTPJ15/real/traindata_au\\cluster0_nk100_2642_2024-04-14_16-54-19.dat.csv is empty.\n",
      "Processing file: C:/Users/SKTPJ15/real/traindata_au\\cluster0_nk100_2642_2024-04-14_17-04-19.dat.csv\n",
      "Warning: C:/Users/SKTPJ15/real/traindata_au\\cluster0_nk100_2642_2024-04-14_17-04-19.dat.csv is empty.\n",
      "Processing file: C:/Users/SKTPJ15/real/traindata_au\\cluster0_nk100_2642_2024-04-14_17-14-19.dat.csv\n",
      "Warning: C:/Users/SKTPJ15/real/traindata_au\\cluster0_nk100_2642_2024-04-14_17-14-19.dat.csv is empty.\n",
      "Processing file: C:/Users/SKTPJ15/real/traindata_au\\cluster0_nk100_2642_2024-04-14_17-24-19.dat.csv\n",
      "Warning: C:/Users/SKTPJ15/real/traindata_au\\cluster0_nk100_2642_2024-04-14_17-24-19.dat.csv is empty.\n",
      "Processing file: C:/Users/SKTPJ15/real/traindata_au\\cluster0_nk100_2642_2024-04-14_17-34-19.dat.csv\n",
      "Warning: C:/Users/SKTPJ15/real/traindata_au\\cluster0_nk100_2642_2024-04-14_17-34-19.dat.csv is empty.\n",
      "Processing file: C:/Users/SKTPJ15/real/traindata_au\\cluster0_nk100_2642_2024-04-14_17-44-19.dat.csv\n",
      "Warning: C:/Users/SKTPJ15/real/traindata_au\\cluster0_nk100_2642_2024-04-14_17-44-19.dat.csv is empty.\n",
      "Processing file: C:/Users/SKTPJ15/real/traindata_au\\cluster0_nk100_2642_2024-04-14_17-54-19.dat.csv\n",
      "Warning: C:/Users/SKTPJ15/real/traindata_au\\cluster0_nk100_2642_2024-04-14_17-54-19.dat.csv is empty.\n",
      "Processing file: C:/Users/SKTPJ15/real/traindata_au\\cluster0_nk100_2642_2024-04-14_18-04-19.dat.csv\n",
      "Warning: C:/Users/SKTPJ15/real/traindata_au\\cluster0_nk100_2642_2024-04-14_18-04-19.dat.csv is empty.\n",
      "Processing file: C:/Users/SKTPJ15/real/traindata_au\\cluster0_nk100_2642_2024-04-14_18-14-19.dat.csv\n",
      "Warning: C:/Users/SKTPJ15/real/traindata_au\\cluster0_nk100_2642_2024-04-14_18-14-19.dat.csv is empty.\n",
      "Processing file: C:/Users/SKTPJ15/real/traindata_au\\cluster0_nk100_2642_2024-04-14_18-24-19.dat.csv\n",
      "Warning: C:/Users/SKTPJ15/real/traindata_au\\cluster0_nk100_2642_2024-04-14_18-24-19.dat.csv is empty.\n",
      "Processing file: C:/Users/SKTPJ15/real/traindata_au\\cluster0_nk100_2642_2024-04-14_18-34-19.dat.csv\n",
      "Warning: C:/Users/SKTPJ15/real/traindata_au\\cluster0_nk100_2642_2024-04-14_18-34-19.dat.csv is empty.\n",
      "Processing file: C:/Users/SKTPJ15/real/traindata_au\\cluster0_nk100_2642_2024-04-14_18-44-19.dat.csv\n",
      "Warning: C:/Users/SKTPJ15/real/traindata_au\\cluster0_nk100_2642_2024-04-14_18-44-19.dat.csv is empty.\n",
      "Processing file: C:/Users/SKTPJ15/real/traindata_au\\cluster0_nk100_2642_2024-04-14_18-54-19.dat.csv\n",
      "Warning: C:/Users/SKTPJ15/real/traindata_au\\cluster0_nk100_2642_2024-04-14_18-54-19.dat.csv is empty.\n",
      "Processing file: C:/Users/SKTPJ15/real/traindata_au\\cluster0_nk100_2642_2024-04-14_19-04-19.dat.csv\n",
      "Warning: C:/Users/SKTPJ15/real/traindata_au\\cluster0_nk100_2642_2024-04-14_19-04-19.dat.csv is empty.\n",
      "Processing file: C:/Users/SKTPJ15/real/traindata_au\\cluster0_nk100_2642_2024-04-14_19-14-19.dat.csv\n",
      "Warning: C:/Users/SKTPJ15/real/traindata_au\\cluster0_nk100_2642_2024-04-14_19-14-19.dat.csv is empty.\n",
      "Processing file: C:/Users/SKTPJ15/real/traindata_au\\cluster0_nk100_2642_2024-04-14_19-24-19.dat.csv\n",
      "Warning: C:/Users/SKTPJ15/real/traindata_au\\cluster0_nk100_2642_2024-04-14_19-24-19.dat.csv is empty.\n",
      "Processing file: C:/Users/SKTPJ15/real/traindata_au\\cluster0_nk100_2642_2024-04-14_19-34-19.dat.csv\n",
      "Warning: C:/Users/SKTPJ15/real/traindata_au\\cluster0_nk100_2642_2024-04-14_19-34-19.dat.csv is empty.\n",
      "Processing file: C:/Users/SKTPJ15/real/traindata_au\\cluster0_nk100_2642_2024-04-14_19-44-19.dat.csv\n",
      "Warning: C:/Users/SKTPJ15/real/traindata_au\\cluster0_nk100_2642_2024-04-14_19-44-19.dat.csv is empty.\n",
      "Processing file: C:/Users/SKTPJ15/real/traindata_au\\cluster0_nk100_2642_2024-04-14_19-54-19.dat.csv\n",
      "Warning: C:/Users/SKTPJ15/real/traindata_au\\cluster0_nk100_2642_2024-04-14_19-54-19.dat.csv is empty.\n",
      "Processing file: C:/Users/SKTPJ15/real/traindata_au\\cluster0_nk100_2642_2024-04-14_20-04-19.dat.csv\n",
      "Warning: C:/Users/SKTPJ15/real/traindata_au\\cluster0_nk100_2642_2024-04-14_20-04-19.dat.csv is empty.\n",
      "Processing file: C:/Users/SKTPJ15/real/traindata_au\\cluster0_nk100_2642_2024-04-14_20-14-19.dat.csv\n",
      "Warning: C:/Users/SKTPJ15/real/traindata_au\\cluster0_nk100_2642_2024-04-14_20-14-19.dat.csv is empty.\n",
      "Processing file: C:/Users/SKTPJ15/real/traindata_au\\cluster0_nk100_2642_2024-04-14_20-24-19.dat.csv\n",
      "Warning: C:/Users/SKTPJ15/real/traindata_au\\cluster0_nk100_2642_2024-04-14_20-24-19.dat.csv is empty.\n",
      "Processing file: C:/Users/SKTPJ15/real/traindata_au\\cluster0_nk100_2642_2024-04-14_20-34-19.dat.csv\n",
      "Warning: C:/Users/SKTPJ15/real/traindata_au\\cluster0_nk100_2642_2024-04-14_20-34-19.dat.csv is empty.\n",
      "Processing file: C:/Users/SKTPJ15/real/traindata_au\\cluster0_nk100_2642_2024-04-14_20-44-19.dat.csv\n",
      "Warning: C:/Users/SKTPJ15/real/traindata_au\\cluster0_nk100_2642_2024-04-14_20-44-19.dat.csv is empty.\n",
      "Processing file: C:/Users/SKTPJ15/real/traindata_au\\cluster0_nk100_2642_2024-04-14_20-54-19.dat.csv\n",
      "Warning: C:/Users/SKTPJ15/real/traindata_au\\cluster0_nk100_2642_2024-04-14_20-54-19.dat.csv is empty.\n",
      "Processing file: C:/Users/SKTPJ15/real/traindata_au\\cluster0_nk100_2642_2024-04-14_21-04-19.dat.csv\n",
      "Warning: C:/Users/SKTPJ15/real/traindata_au\\cluster0_nk100_2642_2024-04-14_21-04-19.dat.csv is empty.\n",
      "Processing file: C:/Users/SKTPJ15/real/traindata_au\\cluster0_nk100_2642_2024-04-14_21-14-19.dat.csv\n",
      "Warning: C:/Users/SKTPJ15/real/traindata_au\\cluster0_nk100_2642_2024-04-14_21-14-19.dat.csv is empty.\n",
      "Processing file: C:/Users/SKTPJ15/real/traindata_au\\cluster0_nk100_2642_2024-04-14_21-24-19.dat.csv\n",
      "Warning: C:/Users/SKTPJ15/real/traindata_au\\cluster0_nk100_2642_2024-04-14_21-24-19.dat.csv is empty.\n",
      "Processing file: C:/Users/SKTPJ15/real/traindata_au\\cluster0_nk100_2642_2024-04-14_21-34-19.dat.csv\n",
      "Warning: C:/Users/SKTPJ15/real/traindata_au\\cluster0_nk100_2642_2024-04-14_21-34-19.dat.csv is empty.\n",
      "Processing file: C:/Users/SKTPJ15/real/traindata_au\\cluster0_nk100_2642_2024-04-14_21-44-19.dat.csv\n",
      "Warning: C:/Users/SKTPJ15/real/traindata_au\\cluster0_nk100_2642_2024-04-14_21-44-19.dat.csv is empty.\n",
      "Processing file: C:/Users/SKTPJ15/real/traindata_au\\cluster0_nk100_2642_2024-04-14_21-54-19.dat.csv\n",
      "Warning: C:/Users/SKTPJ15/real/traindata_au\\cluster0_nk100_2642_2024-04-14_21-54-19.dat.csv is empty.\n",
      "Processing file: C:/Users/SKTPJ15/real/traindata_au\\cluster0_nk100_2642_2024-04-14_22-04-19.dat.csv\n",
      "Warning: C:/Users/SKTPJ15/real/traindata_au\\cluster0_nk100_2642_2024-04-14_22-04-19.dat.csv is empty.\n",
      "Processing file: C:/Users/SKTPJ15/real/traindata_au\\cluster0_nk100_2642_2024-04-14_22-14-19.dat.csv\n",
      "Warning: C:/Users/SKTPJ15/real/traindata_au\\cluster0_nk100_2642_2024-04-14_22-14-19.dat.csv is empty.\n",
      "Processing file: C:/Users/SKTPJ15/real/traindata_au\\cluster0_nk100_2642_2024-04-14_22-24-19.dat.csv\n",
      "Warning: C:/Users/SKTPJ15/real/traindata_au\\cluster0_nk100_2642_2024-04-14_22-24-19.dat.csv is empty.\n",
      "Processing file: C:/Users/SKTPJ15/real/traindata_au\\cluster0_nk100_2642_2024-04-14_22-34-19.dat.csv\n",
      "Warning: C:/Users/SKTPJ15/real/traindata_au\\cluster0_nk100_2642_2024-04-14_22-34-19.dat.csv is empty.\n",
      "Processing file: C:/Users/SKTPJ15/real/traindata_au\\cluster0_nk100_2642_2024-04-14_22-44-19.dat.csv\n",
      "Warning: C:/Users/SKTPJ15/real/traindata_au\\cluster0_nk100_2642_2024-04-14_22-44-19.dat.csv is empty.\n",
      "Processing file: C:/Users/SKTPJ15/real/traindata_au\\cluster0_nk100_2642_2024-04-14_22-54-19.dat.csv\n",
      "Warning: C:/Users/SKTPJ15/real/traindata_au\\cluster0_nk100_2642_2024-04-14_22-54-19.dat.csv is empty.\n",
      "Processing file: C:/Users/SKTPJ15/real/traindata_au\\cluster0_nk100_2642_2024-04-14_23-04-19.dat.csv\n",
      "Warning: C:/Users/SKTPJ15/real/traindata_au\\cluster0_nk100_2642_2024-04-14_23-04-19.dat.csv is empty.\n",
      "Processing file: C:/Users/SKTPJ15/real/traindata_au\\cluster0_nk100_2642_2024-04-14_23-14-19.dat.csv\n",
      "Warning: C:/Users/SKTPJ15/real/traindata_au\\cluster0_nk100_2642_2024-04-14_23-14-19.dat.csv is empty.\n",
      "Processing file: C:/Users/SKTPJ15/real/traindata_au\\cluster0_nk100_2642_2024-04-14_23-24-19.dat.csv\n",
      "Warning: C:/Users/SKTPJ15/real/traindata_au\\cluster0_nk100_2642_2024-04-14_23-24-19.dat.csv is empty.\n",
      "Processing file: C:/Users/SKTPJ15/real/traindata_au\\cluster0_nk100_2642_2024-04-14_23-34-19.dat.csv\n",
      "Warning: C:/Users/SKTPJ15/real/traindata_au\\cluster0_nk100_2642_2024-04-14_23-34-19.dat.csv is empty.\n",
      "Processing file: C:/Users/SKTPJ15/real/traindata_au\\cluster0_nk100_2642_2024-04-14_23-44-19.dat.csv\n",
      "Warning: C:/Users/SKTPJ15/real/traindata_au\\cluster0_nk100_2642_2024-04-14_23-44-19.dat.csv is empty.\n",
      "Processing file: C:/Users/SKTPJ15/real/traindata_au\\cluster0_nk100_2642_2024-04-14_23-54-19.dat.csv\n",
      "Warning: C:/Users/SKTPJ15/real/traindata_au\\cluster0_nk100_2642_2024-04-14_23-54-19.dat.csv is empty.\n",
      "Processing file: C:/Users/SKTPJ15/real/traindata_au\\cluster0_nk100_2642_2024-04-15_00-04-19.dat.csv\n",
      "Warning: C:/Users/SKTPJ15/real/traindata_au\\cluster0_nk100_2642_2024-04-15_00-04-19.dat.csv is empty.\n",
      "Processing file: C:/Users/SKTPJ15/real/traindata_au\\cluster0_nk100_2642_2024-04-15_00-14-19.dat.csv\n",
      "Warning: C:/Users/SKTPJ15/real/traindata_au\\cluster0_nk100_2642_2024-04-15_00-14-19.dat.csv is empty.\n",
      "Processing file: C:/Users/SKTPJ15/real/traindata_au\\cluster0_nk100_2642_2024-04-15_00-24-19.dat.csv\n",
      "Warning: C:/Users/SKTPJ15/real/traindata_au\\cluster0_nk100_2642_2024-04-15_00-24-19.dat.csv is empty.\n",
      "Processing file: C:/Users/SKTPJ15/real/traindata_au\\cluster0_nk100_2642_2024-04-15_00-34-19.dat.csv\n",
      "Warning: C:/Users/SKTPJ15/real/traindata_au\\cluster0_nk100_2642_2024-04-15_00-34-19.dat.csv is empty.\n",
      "Processing file: C:/Users/SKTPJ15/real/traindata_au\\cluster0_nk100_2642_2024-04-15_00-44-19.dat.csv\n",
      "Warning: C:/Users/SKTPJ15/real/traindata_au\\cluster0_nk100_2642_2024-04-15_00-44-19.dat.csv is empty.\n",
      "Processing file: C:/Users/SKTPJ15/real/traindata_au\\cluster0_nk100_2642_2024-04-15_00-54-19.dat.csv\n",
      "Processing file: C:/Users/SKTPJ15/real/traindata_au\\cluster0_nk100_2642_2024-04-15_01-04-19.dat.csv\n",
      "Warning: C:/Users/SKTPJ15/real/traindata_au\\cluster0_nk100_2642_2024-04-15_01-04-19.dat.csv is empty.\n",
      "Processing file: C:/Users/SKTPJ15/real/traindata_au\\cluster0_nk100_2642_2024-04-15_01-14-19.dat.csv\n",
      "Warning: C:/Users/SKTPJ15/real/traindata_au\\cluster0_nk100_2642_2024-04-15_01-14-19.dat.csv is empty.\n",
      "Processing file: C:/Users/SKTPJ15/real/traindata_au\\cluster0_nk100_2642_2024-04-15_01-24-19.dat.csv\n",
      "Processing file: C:/Users/SKTPJ15/real/traindata_au\\cluster0_nk100_2642_2024-04-15_01-34-19.dat.csv\n",
      "Warning: C:/Users/SKTPJ15/real/traindata_au\\cluster0_nk100_2642_2024-04-15_01-34-19.dat.csv is empty.\n",
      "Processing file: C:/Users/SKTPJ15/real/traindata_au\\cluster0_nk100_2642_2024-04-15_01-44-19.dat.csv\n",
      "Warning: C:/Users/SKTPJ15/real/traindata_au\\cluster0_nk100_2642_2024-04-15_01-44-19.dat.csv is empty.\n",
      "Processing file: C:/Users/SKTPJ15/real/traindata_au\\cluster0_nk100_2642_2024-04-15_01-54-19.dat.csv\n",
      "Warning: C:/Users/SKTPJ15/real/traindata_au\\cluster0_nk100_2642_2024-04-15_01-54-19.dat.csv is empty.\n",
      "Processing file: C:/Users/SKTPJ15/real/traindata_au\\cluster0_nk100_2642_2024-04-15_02-04-19.dat.csv\n",
      "Warning: C:/Users/SKTPJ15/real/traindata_au\\cluster0_nk100_2642_2024-04-15_02-04-19.dat.csv is empty.\n",
      "Processing file: C:/Users/SKTPJ15/real/traindata_au\\cluster0_nk100_2642_2024-04-15_02-14-19.dat.csv\n",
      "Processing file: C:/Users/SKTPJ15/real/traindata_au\\cluster0_nk100_2642_2024-04-15_02-24-19.dat.csv\n",
      "Processing file: C:/Users/SKTPJ15/real/traindata_au\\cluster0_nk100_2642_2024-04-15_02-34-19.dat.csv\n",
      "Warning: C:/Users/SKTPJ15/real/traindata_au\\cluster0_nk100_2642_2024-04-15_02-34-19.dat.csv is empty.\n",
      "Processing file: C:/Users/SKTPJ15/real/traindata_au\\cluster0_nk100_2642_2024-04-15_02-44-19.dat.csv\n",
      "Processing file: C:/Users/SKTPJ15/real/traindata_au\\cluster0_nk100_2642_2024-04-15_02-54-19.dat.csv\n",
      "Warning: C:/Users/SKTPJ15/real/traindata_au\\cluster0_nk100_2642_2024-04-15_02-54-19.dat.csv is empty.\n",
      "Processing file: C:/Users/SKTPJ15/real/traindata_au\\cluster0_nk100_2642_2024-04-15_03-04-19.dat.csv\n",
      "Warning: C:/Users/SKTPJ15/real/traindata_au\\cluster0_nk100_2642_2024-04-15_03-04-19.dat.csv is empty.\n",
      "Processing file: C:/Users/SKTPJ15/real/traindata_au\\cluster0_nk100_2642_2024-04-15_03-14-19.dat.csv\n",
      "Processing file: C:/Users/SKTPJ15/real/traindata_au\\cluster0_nk100_2642_2024-04-15_03-24-19.dat.csv\n",
      "Processing file: C:/Users/SKTPJ15/real/traindata_au\\cluster0_nk100_2642_2024-04-15_03-34-19.dat.csv\n",
      "Warning: C:/Users/SKTPJ15/real/traindata_au\\cluster0_nk100_2642_2024-04-15_03-34-19.dat.csv is empty.\n",
      "Processing file: C:/Users/SKTPJ15/real/traindata_au\\cluster0_nk100_2642_2024-04-15_03-44-19.dat.csv\n",
      "Warning: C:/Users/SKTPJ15/real/traindata_au\\cluster0_nk100_2642_2024-04-15_03-44-19.dat.csv is empty.\n",
      "Processing file: C:/Users/SKTPJ15/real/traindata_au\\cluster0_nk100_2642_2024-04-15_03-54-19.dat.csv\n",
      "Processing file: C:/Users/SKTPJ15/real/traindata_au\\cluster0_nk100_2642_2024-04-15_04-04-19.dat.csv\n",
      "Warning: C:/Users/SKTPJ15/real/traindata_au\\cluster0_nk100_2642_2024-04-15_04-04-19.dat.csv is empty.\n",
      "Processing file: C:/Users/SKTPJ15/real/traindata_au\\cluster0_nk100_2642_2024-04-15_04-14-19.dat.csv\n",
      "Warning: C:/Users/SKTPJ15/real/traindata_au\\cluster0_nk100_2642_2024-04-15_04-14-19.dat.csv is empty.\n",
      "Processing file: C:/Users/SKTPJ15/real/traindata_au\\cluster0_nk100_2642_2024-04-15_04-24-19.dat.csv\n",
      "Warning: C:/Users/SKTPJ15/real/traindata_au\\cluster0_nk100_2642_2024-04-15_04-24-19.dat.csv is empty.\n",
      "Processing file: C:/Users/SKTPJ15/real/traindata_au\\cluster0_nk100_2642_2024-04-15_04-34-19.dat.csv\n",
      "Processing file: C:/Users/SKTPJ15/real/traindata_au\\cluster0_nk100_2642_2024-04-15_04-44-19.dat.csv\n",
      "Processing file: C:/Users/SKTPJ15/real/traindata_au\\cluster0_nk100_2642_2024-04-15_04-54-19.dat.csv\n",
      "Warning: C:/Users/SKTPJ15/real/traindata_au\\cluster0_nk100_2642_2024-04-15_04-54-19.dat.csv is empty.\n",
      "Processing file: C:/Users/SKTPJ15/real/traindata_au\\cluster0_nk100_2642_2024-04-15_05-04-19.dat.csv\n",
      "Warning: C:/Users/SKTPJ15/real/traindata_au\\cluster0_nk100_2642_2024-04-15_05-04-19.dat.csv is empty.\n",
      "Processing file: C:/Users/SKTPJ15/real/traindata_au\\cluster0_nk100_2642_2024-04-15_05-14-19.dat.csv\n",
      "Processing file: C:/Users/SKTPJ15/real/traindata_au\\cluster0_nk100_2642_2024-04-15_05-24-19.dat.csv\n",
      "Warning: C:/Users/SKTPJ15/real/traindata_au\\cluster0_nk100_2642_2024-04-15_05-24-19.dat.csv is empty.\n",
      "Processing file: C:/Users/SKTPJ15/real/traindata_au\\cluster0_nk100_2642_2024-04-15_05-34-19.dat.csv\n",
      "Processing file: C:/Users/SKTPJ15/real/traindata_au\\cluster0_nk100_2642_2024-04-15_05-44-19.dat.csv\n",
      "Warning: C:/Users/SKTPJ15/real/traindata_au\\cluster0_nk100_2642_2024-04-15_05-44-19.dat.csv is empty.\n",
      "Processing file: C:/Users/SKTPJ15/real/traindata_au\\cluster0_nk100_2642_2024-04-15_05-54-19.dat.csv\n",
      "Warning: C:/Users/SKTPJ15/real/traindata_au\\cluster0_nk100_2642_2024-04-15_05-54-19.dat.csv is empty.\n",
      "Processing file: C:/Users/SKTPJ15/real/traindata_au\\cluster0_nk100_2642_2024-04-15_06-04-19.dat.csv\n",
      "Processing file: C:/Users/SKTPJ15/real/traindata_au\\cluster0_nk100_2642_2024-04-15_06-14-19.dat.csv\n",
      "Warning: C:/Users/SKTPJ15/real/traindata_au\\cluster0_nk100_2642_2024-04-15_06-14-19.dat.csv is empty.\n",
      "Processing file: C:/Users/SKTPJ15/real/traindata_au\\cluster0_nk100_2642_2024-04-15_06-24-19.dat.csv\n",
      "Processing file: C:/Users/SKTPJ15/real/traindata_au\\cluster0_nk100_2642_2024-04-15_06-34-19.dat.csv\n",
      "Warning: C:/Users/SKTPJ15/real/traindata_au\\cluster0_nk100_2642_2024-04-15_06-34-19.dat.csv is empty.\n",
      "Processing file: C:/Users/SKTPJ15/real/traindata_au\\cluster0_nk100_2642_2024-04-15_06-44-19.dat.csv\n",
      "Warning: C:/Users/SKTPJ15/real/traindata_au\\cluster0_nk100_2642_2024-04-15_06-44-19.dat.csv is empty.\n",
      "Processing file: C:/Users/SKTPJ15/real/traindata_au\\cluster0_nk100_2642_2024-04-15_06-54-19.dat.csv\n",
      "Processing file: C:/Users/SKTPJ15/real/traindata_au\\cluster0_nk100_2642_2024-04-15_07-04-19.dat.csv\n",
      "Warning: C:/Users/SKTPJ15/real/traindata_au\\cluster0_nk100_2642_2024-04-15_07-04-19.dat.csv is empty.\n",
      "Processing file: C:/Users/SKTPJ15/real/traindata_au\\cluster0_nk100_2642_2024-04-15_07-14-19.dat.csv\n",
      "Warning: C:/Users/SKTPJ15/real/traindata_au\\cluster0_nk100_2642_2024-04-15_07-14-19.dat.csv is empty.\n",
      "Processing file: C:/Users/SKTPJ15/real/traindata_au\\cluster0_nk100_2642_2024-04-15_07-24-19.dat.csv\n",
      "Processing file: C:/Users/SKTPJ15/real/traindata_au\\cluster0_nk100_2642_2024-04-15_07-34-19.dat.csv\n",
      "Warning: C:/Users/SKTPJ15/real/traindata_au\\cluster0_nk100_2642_2024-04-15_07-34-19.dat.csv is empty.\n",
      "Processing file: C:/Users/SKTPJ15/real/traindata_au\\cluster0_nk100_2642_2024-04-15_07-44-19.dat.csv\n",
      "Warning: C:/Users/SKTPJ15/real/traindata_au\\cluster0_nk100_2642_2024-04-15_07-44-19.dat.csv is empty.\n",
      "Processing file: C:/Users/SKTPJ15/real/traindata_au\\cluster0_nk100_2642_2024-04-15_07-54-19.dat.csv\n",
      "Processing file: C:/Users/SKTPJ15/real/traindata_au\\cluster0_nk100_2642_2024-04-15_08-04-19.dat.csv\n",
      "Processing file: C:/Users/SKTPJ15/real/traindata_au\\cluster0_nk100_2642_2024-04-15_08-14-19.dat.csv\n",
      "Warning: C:/Users/SKTPJ15/real/traindata_au\\cluster0_nk100_2642_2024-04-15_08-14-19.dat.csv is empty.\n",
      "Processing file: C:/Users/SKTPJ15/real/traindata_au\\cluster0_nk100_2642_2024-04-15_08-24-19.dat.csv\n",
      "Warning: C:/Users/SKTPJ15/real/traindata_au\\cluster0_nk100_2642_2024-04-15_08-24-19.dat.csv is empty.\n",
      "Processing file: C:/Users/SKTPJ15/real/traindata_au\\cluster0_nk100_2642_2024-04-15_08-34-19.dat.csv\n",
      "Warning: C:/Users/SKTPJ15/real/traindata_au\\cluster0_nk100_2642_2024-04-15_08-34-19.dat.csv is empty.\n",
      "Processing file: C:/Users/SKTPJ15/real/traindata_au\\cluster0_nk100_2642_2024-04-15_08-44-19.dat.csv\n",
      "Warning: C:/Users/SKTPJ15/real/traindata_au\\cluster0_nk100_2642_2024-04-15_08-44-19.dat.csv is empty.\n",
      "Processing file: C:/Users/SKTPJ15/real/traindata_au\\cluster0_nk100_2642_2024-04-15_08-54-19.dat.csv\n",
      "Warning: C:/Users/SKTPJ15/real/traindata_au\\cluster0_nk100_2642_2024-04-15_08-54-19.dat.csv is empty.\n",
      "Processing file: C:/Users/SKTPJ15/real/traindata_au\\cluster0_nk100_2642_2024-04-15_09-04-19.dat.csv\n",
      "Warning: C:/Users/SKTPJ15/real/traindata_au\\cluster0_nk100_2642_2024-04-15_09-04-19.dat.csv is empty.\n",
      "Processing file: C:/Users/SKTPJ15/real/traindata_au\\cluster0_nk100_2642_2024-04-15_09-14-19.dat.csv\n",
      "Warning: C:/Users/SKTPJ15/real/traindata_au\\cluster0_nk100_2642_2024-04-15_09-14-19.dat.csv is empty.\n",
      "Processing file: C:/Users/SKTPJ15/real/traindata_au\\cluster0_nk100_2642_2024-04-15_09-24-19.dat.csv\n",
      "Warning: C:/Users/SKTPJ15/real/traindata_au\\cluster0_nk100_2642_2024-04-15_09-24-19.dat.csv is empty.\n",
      "Processing file: C:/Users/SKTPJ15/real/traindata_au\\cluster0_nk100_2642_2024-04-15_09-34-19.dat.csv\n",
      "Warning: C:/Users/SKTPJ15/real/traindata_au\\cluster0_nk100_2642_2024-04-15_09-34-19.dat.csv is empty.\n",
      "Processing file: C:/Users/SKTPJ15/real/traindata_au\\cluster0_nk100_2642_2024-04-15_09-44-19.dat.csv\n",
      "Warning: C:/Users/SKTPJ15/real/traindata_au\\cluster0_nk100_2642_2024-04-15_09-44-19.dat.csv is empty.\n",
      "Processing file: C:/Users/SKTPJ15/real/traindata_au\\cluster0_nk100_2642_2024-04-15_09-54-19.dat.csv\n",
      "Warning: C:/Users/SKTPJ15/real/traindata_au\\cluster0_nk100_2642_2024-04-15_09-54-19.dat.csv is empty.\n",
      "Processing file: C:/Users/SKTPJ15/real/traindata_au\\cluster0_nk100_2642_2024-04-15_10-04-19.dat.csv\n",
      "Warning: C:/Users/SKTPJ15/real/traindata_au\\cluster0_nk100_2642_2024-04-15_10-04-19.dat.csv is empty.\n",
      "Processing file: C:/Users/SKTPJ15/real/traindata_au\\cluster0_nk100_2642_2024-04-15_10-14-19.dat.csv\n",
      "Warning: C:/Users/SKTPJ15/real/traindata_au\\cluster0_nk100_2642_2024-04-15_10-14-19.dat.csv is empty.\n",
      "Processing file: C:/Users/SKTPJ15/real/traindata_au\\cluster0_nk100_2642_2024-04-15_10-24-19.dat.csv\n",
      "Warning: C:/Users/SKTPJ15/real/traindata_au\\cluster0_nk100_2642_2024-04-15_10-24-19.dat.csv is empty.\n",
      "Processing file: C:/Users/SKTPJ15/real/traindata_au\\cluster0_nk100_2642_2024-04-15_10-34-19.dat.csv\n",
      "Warning: C:/Users/SKTPJ15/real/traindata_au\\cluster0_nk100_2642_2024-04-15_10-34-19.dat.csv is empty.\n",
      "Processing file: C:/Users/SKTPJ15/real/traindata_au\\cluster0_nk100_2642_2024-04-15_10-44-19.dat.csv\n",
      "Warning: C:/Users/SKTPJ15/real/traindata_au\\cluster0_nk100_2642_2024-04-15_10-44-19.dat.csv is empty.\n",
      "Processing file: C:/Users/SKTPJ15/real/traindata_au\\cluster0_nk100_2642_2024-04-15_10-54-19.dat.csv\n",
      "Warning: C:/Users/SKTPJ15/real/traindata_au\\cluster0_nk100_2642_2024-04-15_10-54-19.dat.csv is empty.\n",
      "Processing file: C:/Users/SKTPJ15/real/traindata_au\\cluster0_nk100_2642_2024-04-15_11-04-19.dat.csv\n",
      "Warning: C:/Users/SKTPJ15/real/traindata_au\\cluster0_nk100_2642_2024-04-15_11-04-19.dat.csv is empty.\n",
      "Processing file: C:/Users/SKTPJ15/real/traindata_au\\cluster0_nk100_2642_2024-04-15_11-14-19.dat.csv\n",
      "Warning: C:/Users/SKTPJ15/real/traindata_au\\cluster0_nk100_2642_2024-04-15_11-14-19.dat.csv is empty.\n",
      "Processing file: C:/Users/SKTPJ15/real/traindata_au\\cluster0_nk100_2642_2024-04-15_11-24-19.dat.csv\n",
      "Warning: C:/Users/SKTPJ15/real/traindata_au\\cluster0_nk100_2642_2024-04-15_11-24-19.dat.csv is empty.\n",
      "Processing file: C:/Users/SKTPJ15/real/traindata_au\\cluster0_nk100_2642_2024-04-15_11-34-19.dat.csv\n",
      "Warning: C:/Users/SKTPJ15/real/traindata_au\\cluster0_nk100_2642_2024-04-15_11-34-19.dat.csv is empty.\n",
      "Processing file: C:/Users/SKTPJ15/real/traindata_au\\cluster0_nk100_2642_2024-04-15_11-44-19.dat.csv\n",
      "Warning: C:/Users/SKTPJ15/real/traindata_au\\cluster0_nk100_2642_2024-04-15_11-44-19.dat.csv is empty.\n",
      "Processing file: C:/Users/SKTPJ15/real/traindata_au\\cluster0_nk100_2642_2024-04-15_11-54-19.dat.csv\n",
      "Warning: C:/Users/SKTPJ15/real/traindata_au\\cluster0_nk100_2642_2024-04-15_11-54-19.dat.csv is empty.\n",
      "Processing file: C:/Users/SKTPJ15/real/traindata_au\\cluster0_nk100_2642_2024-04-15_12-04-19.dat.csv\n",
      "Warning: C:/Users/SKTPJ15/real/traindata_au\\cluster0_nk100_2642_2024-04-15_12-04-19.dat.csv is empty.\n",
      "Processing file: C:/Users/SKTPJ15/real/traindata_au\\cluster0_nk100_2642_2024-04-15_12-14-19.dat.csv\n",
      "Warning: C:/Users/SKTPJ15/real/traindata_au\\cluster0_nk100_2642_2024-04-15_12-14-19.dat.csv is empty.\n",
      "Processing file: C:/Users/SKTPJ15/real/traindata_au\\cluster0_nk100_2642_2024-04-15_12-24-19.dat.csv\n",
      "Warning: C:/Users/SKTPJ15/real/traindata_au\\cluster0_nk100_2642_2024-04-15_12-24-19.dat.csv is empty.\n",
      "Processing file: C:/Users/SKTPJ15/real/traindata_au\\cluster0_nk100_2642_2024-04-15_12-34-19.dat.csv\n",
      "Warning: C:/Users/SKTPJ15/real/traindata_au\\cluster0_nk100_2642_2024-04-15_12-34-19.dat.csv is empty.\n",
      "Processing file: C:/Users/SKTPJ15/real/traindata_au\\cluster0_nk100_2642_2024-04-15_12-44-19.dat.csv\n",
      "Warning: C:/Users/SKTPJ15/real/traindata_au\\cluster0_nk100_2642_2024-04-15_12-44-19.dat.csv is empty.\n",
      "Processing file: C:/Users/SKTPJ15/real/traindata_au\\cluster0_nk100_2642_2024-04-15_12-54-19.dat.csv\n",
      "Warning: C:/Users/SKTPJ15/real/traindata_au\\cluster0_nk100_2642_2024-04-15_12-54-19.dat.csv is empty.\n",
      "Processing file: C:/Users/SKTPJ15/real/traindata_au\\cluster0_nk100_2642_2024-04-15_13-04-19.dat.csv\n",
      "Warning: C:/Users/SKTPJ15/real/traindata_au\\cluster0_nk100_2642_2024-04-15_13-04-19.dat.csv is empty.\n",
      "Processing file: C:/Users/SKTPJ15/real/traindata_au\\cluster0_nk100_2642_2024-04-15_13-14-19.dat.csv\n",
      "Warning: C:/Users/SKTPJ15/real/traindata_au\\cluster0_nk100_2642_2024-04-15_13-14-19.dat.csv is empty.\n",
      "Processing file: C:/Users/SKTPJ15/real/traindata_au\\cluster0_nk100_2642_2024-04-15_13-24-19.dat.csv\n",
      "Warning: C:/Users/SKTPJ15/real/traindata_au\\cluster0_nk100_2642_2024-04-15_13-24-19.dat.csv is empty.\n",
      "Processing file: C:/Users/SKTPJ15/real/traindata_au\\cluster0_nk100_2642_2024-04-15_13-34-19.dat.csv\n",
      "Warning: C:/Users/SKTPJ15/real/traindata_au\\cluster0_nk100_2642_2024-04-15_13-34-19.dat.csv is empty.\n",
      "Processing file: C:/Users/SKTPJ15/real/traindata_au\\cluster0_nk100_2642_2024-04-15_13-44-19.dat.csv\n",
      "Warning: C:/Users/SKTPJ15/real/traindata_au\\cluster0_nk100_2642_2024-04-15_13-44-19.dat.csv is empty.\n",
      "Processing file: C:/Users/SKTPJ15/real/traindata_au\\cluster0_nk100_2642_2024-04-15_13-54-19.dat.csv\n",
      "Warning: C:/Users/SKTPJ15/real/traindata_au\\cluster0_nk100_2642_2024-04-15_13-54-19.dat.csv is empty.\n",
      "Processing file: C:/Users/SKTPJ15/real/traindata_au\\cluster0_nk100_2642_2024-04-15_14-04-19.dat.csv\n",
      "Warning: C:/Users/SKTPJ15/real/traindata_au\\cluster0_nk100_2642_2024-04-15_14-04-19.dat.csv is empty.\n",
      "Processing file: C:/Users/SKTPJ15/real/traindata_au\\cluster0_nk100_2642_2024-04-15_14-14-19.dat.csv\n",
      "Warning: C:/Users/SKTPJ15/real/traindata_au\\cluster0_nk100_2642_2024-04-15_14-14-19.dat.csv is empty.\n",
      "Processing file: C:/Users/SKTPJ15/real/traindata_au\\cluster0_nk100_2642_2024-04-15_14-24-19.dat.csv\n",
      "Warning: C:/Users/SKTPJ15/real/traindata_au\\cluster0_nk100_2642_2024-04-15_14-24-19.dat.csv is empty.\n",
      "Processing file: C:/Users/SKTPJ15/real/traindata_au\\cluster0_nk100_2642_2024-04-15_14-34-19.dat.csv\n",
      "Warning: C:/Users/SKTPJ15/real/traindata_au\\cluster0_nk100_2642_2024-04-15_14-34-19.dat.csv is empty.\n",
      "Processing file: C:/Users/SKTPJ15/real/traindata_au\\cluster0_nk100_2642_2024-04-15_14-44-19.dat.csv\n",
      "Warning: C:/Users/SKTPJ15/real/traindata_au\\cluster0_nk100_2642_2024-04-15_14-44-19.dat.csv is empty.\n",
      "Processing file: C:/Users/SKTPJ15/real/traindata_au\\cluster0_nk100_2642_2024-04-15_14-54-19.dat.csv\n",
      "Warning: C:/Users/SKTPJ15/real/traindata_au\\cluster0_nk100_2642_2024-04-15_14-54-19.dat.csv is empty.\n",
      "Processing file: C:/Users/SKTPJ15/real/traindata_au\\cluster0_nk100_2642_2024-04-15_15-04-19.dat.csv\n",
      "Warning: C:/Users/SKTPJ15/real/traindata_au\\cluster0_nk100_2642_2024-04-15_15-04-19.dat.csv is empty.\n",
      "Processing file: C:/Users/SKTPJ15/real/traindata_au\\cluster0_nk100_2642_2024-04-15_15-14-19.dat.csv\n",
      "Warning: C:/Users/SKTPJ15/real/traindata_au\\cluster0_nk100_2642_2024-04-15_15-14-19.dat.csv is empty.\n",
      "Processing file: C:/Users/SKTPJ15/real/traindata_au\\cluster0_nk100_2642_2024-04-15_15-24-19.dat.csv\n",
      "Warning: C:/Users/SKTPJ15/real/traindata_au\\cluster0_nk100_2642_2024-04-15_15-24-19.dat.csv is empty.\n",
      "Processing file: C:/Users/SKTPJ15/real/traindata_au\\cluster0_nk100_2642_2024-04-15_15-34-19.dat.csv\n",
      "Warning: C:/Users/SKTPJ15/real/traindata_au\\cluster0_nk100_2642_2024-04-15_15-34-19.dat.csv is empty.\n",
      "Processing file: C:/Users/SKTPJ15/real/traindata_au\\cluster0_nk100_2642_2024-04-15_15-44-19.dat.csv\n",
      "Warning: C:/Users/SKTPJ15/real/traindata_au\\cluster0_nk100_2642_2024-04-15_15-44-19.dat.csv is empty.\n",
      "Processing file: C:/Users/SKTPJ15/real/traindata_au\\cluster0_nk100_2642_2024-04-15_15-54-19.dat.csv\n",
      "Warning: C:/Users/SKTPJ15/real/traindata_au\\cluster0_nk100_2642_2024-04-15_15-54-19.dat.csv is empty.\n",
      "Processing file: C:/Users/SKTPJ15/real/traindata_au\\cluster0_nk100_2642_2024-04-15_16-04-19.dat.csv\n",
      "Warning: C:/Users/SKTPJ15/real/traindata_au\\cluster0_nk100_2642_2024-04-15_16-04-19.dat.csv is empty.\n",
      "Processing file: C:/Users/SKTPJ15/real/traindata_au\\cluster0_nk100_2642_2024-04-15_16-14-19.dat.csv\n",
      "Warning: C:/Users/SKTPJ15/real/traindata_au\\cluster0_nk100_2642_2024-04-15_16-14-19.dat.csv is empty.\n",
      "Processing file: C:/Users/SKTPJ15/real/traindata_au\\cluster0_nk100_2642_2024-04-15_16-24-19.dat.csv\n",
      "Warning: C:/Users/SKTPJ15/real/traindata_au\\cluster0_nk100_2642_2024-04-15_16-24-19.dat.csv is empty.\n",
      "Processing file: C:/Users/SKTPJ15/real/traindata_au\\cluster0_nk100_2642_2024-04-15_16-34-19.dat.csv\n",
      "Warning: C:/Users/SKTPJ15/real/traindata_au\\cluster0_nk100_2642_2024-04-15_16-34-19.dat.csv is empty.\n",
      "Processing file: C:/Users/SKTPJ15/real/traindata_au\\cluster0_nk100_2642_2024-04-15_16-44-19.dat.csv\n",
      "Warning: C:/Users/SKTPJ15/real/traindata_au\\cluster0_nk100_2642_2024-04-15_16-44-19.dat.csv is empty.\n",
      "Processing file: C:/Users/SKTPJ15/real/traindata_au\\cluster0_nk100_2642_2024-04-15_16-54-19.dat.csv\n",
      "Warning: C:/Users/SKTPJ15/real/traindata_au\\cluster0_nk100_2642_2024-04-15_16-54-19.dat.csv is empty.\n",
      "Processing file: C:/Users/SKTPJ15/real/traindata_au\\cluster0_nk100_2642_2024-04-15_17-04-19.dat.csv\n",
      "Warning: C:/Users/SKTPJ15/real/traindata_au\\cluster0_nk100_2642_2024-04-15_17-04-19.dat.csv is empty.\n",
      "Processing file: C:/Users/SKTPJ15/real/traindata_au\\cluster0_nk100_2642_2024-04-15_17-14-19.dat.csv\n",
      "Warning: C:/Users/SKTPJ15/real/traindata_au\\cluster0_nk100_2642_2024-04-15_17-14-19.dat.csv is empty.\n",
      "Processing file: C:/Users/SKTPJ15/real/traindata_au\\cluster0_nk100_2642_2024-04-15_17-24-19.dat.csv\n",
      "Warning: C:/Users/SKTPJ15/real/traindata_au\\cluster0_nk100_2642_2024-04-15_17-24-19.dat.csv is empty.\n",
      "Processing file: C:/Users/SKTPJ15/real/traindata_au\\cluster0_nk100_2642_2024-04-15_17-34-19.dat.csv\n",
      "Warning: C:/Users/SKTPJ15/real/traindata_au\\cluster0_nk100_2642_2024-04-15_17-34-19.dat.csv is empty.\n",
      "Processing file: C:/Users/SKTPJ15/real/traindata_au\\cluster0_nk100_2642_2024-04-15_17-44-19.dat.csv\n",
      "Warning: C:/Users/SKTPJ15/real/traindata_au\\cluster0_nk100_2642_2024-04-15_17-44-19.dat.csv is empty.\n",
      "Processing file: C:/Users/SKTPJ15/real/traindata_au\\cluster0_nk100_2642_2024-04-15_17-54-19.dat.csv\n",
      "Warning: C:/Users/SKTPJ15/real/traindata_au\\cluster0_nk100_2642_2024-04-15_17-54-19.dat.csv is empty.\n",
      "Processing file: C:/Users/SKTPJ15/real/traindata_au\\cluster0_nk100_2642_2024-04-15_18-04-19.dat.csv\n",
      "Warning: C:/Users/SKTPJ15/real/traindata_au\\cluster0_nk100_2642_2024-04-15_18-04-19.dat.csv is empty.\n",
      "Processing file: C:/Users/SKTPJ15/real/traindata_au\\cluster0_nk100_2642_2024-04-15_18-14-19.dat.csv\n",
      "Warning: C:/Users/SKTPJ15/real/traindata_au\\cluster0_nk100_2642_2024-04-15_18-14-19.dat.csv is empty.\n",
      "Processing file: C:/Users/SKTPJ15/real/traindata_au\\cluster0_nk100_2642_2024-04-15_18-24-19.dat.csv\n",
      "Warning: C:/Users/SKTPJ15/real/traindata_au\\cluster0_nk100_2642_2024-04-15_18-24-19.dat.csv is empty.\n",
      "Processing file: C:/Users/SKTPJ15/real/traindata_au\\cluster0_nk100_2642_2024-04-15_18-34-19.dat.csv\n",
      "Warning: C:/Users/SKTPJ15/real/traindata_au\\cluster0_nk100_2642_2024-04-15_18-34-19.dat.csv is empty.\n",
      "Processing file: C:/Users/SKTPJ15/real/traindata_au\\cluster0_nk100_2642_2024-04-15_18-44-19.dat.csv\n",
      "Warning: C:/Users/SKTPJ15/real/traindata_au\\cluster0_nk100_2642_2024-04-15_18-44-19.dat.csv is empty.\n",
      "Processing file: C:/Users/SKTPJ15/real/traindata_au\\cluster0_nk100_2642_2024-04-15_18-54-19.dat.csv\n",
      "Warning: C:/Users/SKTPJ15/real/traindata_au\\cluster0_nk100_2642_2024-04-15_18-54-19.dat.csv is empty.\n",
      "Processing file: C:/Users/SKTPJ15/real/traindata_au\\cluster0_nk100_2642_2024-04-15_19-04-19.dat.csv\n",
      "Warning: C:/Users/SKTPJ15/real/traindata_au\\cluster0_nk100_2642_2024-04-15_19-04-19.dat.csv is empty.\n",
      "Processing file: C:/Users/SKTPJ15/real/traindata_au\\cluster0_nk100_2642_2024-04-15_19-14-19.dat.csv\n",
      "Warning: C:/Users/SKTPJ15/real/traindata_au\\cluster0_nk100_2642_2024-04-15_19-14-19.dat.csv is empty.\n",
      "Processing file: C:/Users/SKTPJ15/real/traindata_au\\cluster0_nk100_2642_2024-04-15_19-24-19.dat.csv\n",
      "Processing file: C:/Users/SKTPJ15/real/traindata_au\\cluster0_nk100_2642_2024-04-15_19-34-19.dat.csv\n",
      "Processing file: C:/Users/SKTPJ15/real/traindata_au\\cluster0_nk100_2642_2024-04-15_19-44-19.dat.csv\n",
      "Warning: C:/Users/SKTPJ15/real/traindata_au\\cluster0_nk100_2642_2024-04-15_19-44-19.dat.csv is empty.\n",
      "Processing file: C:/Users/SKTPJ15/real/traindata_au\\cluster0_nk100_2642_2024-04-15_19-54-19.dat.csv\n",
      "Warning: C:/Users/SKTPJ15/real/traindata_au\\cluster0_nk100_2642_2024-04-15_19-54-19.dat.csv is empty.\n",
      "Processing file: C:/Users/SKTPJ15/real/traindata_au\\cluster0_nk100_2642_2024-04-15_20-04-19.dat.csv\n",
      "Processing file: C:/Users/SKTPJ15/real/traindata_au\\cluster0_nk100_2642_2024-04-15_20-14-19.dat.csv\n",
      "Warning: C:/Users/SKTPJ15/real/traindata_au\\cluster0_nk100_2642_2024-04-15_20-14-19.dat.csv is empty.\n",
      "Processing file: C:/Users/SKTPJ15/real/traindata_au\\cluster0_nk100_2642_2024-04-15_20-24-19.dat.csv\n",
      "Warning: C:/Users/SKTPJ15/real/traindata_au\\cluster0_nk100_2642_2024-04-15_20-24-19.dat.csv is empty.\n",
      "Processing file: C:/Users/SKTPJ15/real/traindata_au\\cluster0_nk100_2642_2024-04-15_20-34-19.dat.csv\n",
      "Processing file: C:/Users/SKTPJ15/real/traindata_au\\cluster0_nk100_2642_2024-04-15_20-44-19.dat.csv\n",
      "Processing file: C:/Users/SKTPJ15/real/traindata_au\\cluster0_nk100_2642_2024-04-15_20-54-19.dat.csv\n",
      "Processing file: C:/Users/SKTPJ15/real/traindata_au\\cluster0_nk100_2642_2024-04-15_21-04-19.dat.csv\n",
      "Warning: C:/Users/SKTPJ15/real/traindata_au\\cluster0_nk100_2642_2024-04-15_21-04-19.dat.csv is empty.\n",
      "Processing file: C:/Users/SKTPJ15/real/traindata_au\\cluster0_nk100_2642_2024-04-15_21-14-19.dat.csv\n",
      "Processing file: C:/Users/SKTPJ15/real/traindata_au\\cluster0_nk100_2642_2024-04-15_21-24-19.dat.csv\n",
      "Processing file: C:/Users/SKTPJ15/real/traindata_au\\cluster0_nk100_2642_2024-04-15_21-34-19.dat.csv\n",
      "Warning: C:/Users/SKTPJ15/real/traindata_au\\cluster0_nk100_2642_2024-04-15_21-34-19.dat.csv is empty.\n",
      "Processing file: C:/Users/SKTPJ15/real/traindata_au\\cluster0_nk100_2642_2024-04-15_21-44-19.dat.csv\n",
      "Warning: C:/Users/SKTPJ15/real/traindata_au\\cluster0_nk100_2642_2024-04-15_21-44-19.dat.csv is empty.\n",
      "Processing file: C:/Users/SKTPJ15/real/traindata_au\\cluster0_nk100_2642_2024-04-15_21-54-19.dat.csv\n",
      "Warning: C:/Users/SKTPJ15/real/traindata_au\\cluster0_nk100_2642_2024-04-15_21-54-19.dat.csv is empty.\n",
      "Processing file: C:/Users/SKTPJ15/real/traindata_au\\cluster0_nk100_2642_2024-04-15_22-04-19.dat.csv\n",
      "Warning: C:/Users/SKTPJ15/real/traindata_au\\cluster0_nk100_2642_2024-04-15_22-04-19.dat.csv is empty.\n",
      "Processing file: C:/Users/SKTPJ15/real/traindata_au\\cluster0_nk100_2642_2024-04-15_22-14-19.dat.csv\n",
      "Processing file: C:/Users/SKTPJ15/real/traindata_au\\cluster0_nk100_2642_2024-04-15_22-24-19.dat.csv\n",
      "Warning: C:/Users/SKTPJ15/real/traindata_au\\cluster0_nk100_2642_2024-04-15_22-24-19.dat.csv is empty.\n",
      "Processing file: C:/Users/SKTPJ15/real/traindata_au\\cluster0_nk100_2642_2024-04-15_22-34-19.dat.csv\n",
      "Warning: C:/Users/SKTPJ15/real/traindata_au\\cluster0_nk100_2642_2024-04-15_22-34-19.dat.csv is empty.\n",
      "Processing file: C:/Users/SKTPJ15/real/traindata_au\\cluster0_nk100_2642_2024-04-15_22-44-19.dat.csv\n",
      "Processing file: C:/Users/SKTPJ15/real/traindata_au\\cluster0_nk100_2642_2024-04-15_22-54-19.dat.csv\n",
      "Warning: C:/Users/SKTPJ15/real/traindata_au\\cluster0_nk100_2642_2024-04-15_22-54-19.dat.csv is empty.\n",
      "Processing file: C:/Users/SKTPJ15/real/traindata_au\\cluster0_nk100_2642_2024-04-15_23-04-19.dat.csv\n",
      "Warning: C:/Users/SKTPJ15/real/traindata_au\\cluster0_nk100_2642_2024-04-15_23-04-19.dat.csv is empty.\n",
      "Processing file: C:/Users/SKTPJ15/real/traindata_au\\cluster0_nk100_2642_2024-04-15_23-14-19.dat.csv\n",
      "Processing file: C:/Users/SKTPJ15/real/traindata_au\\cluster0_nk100_720_2023-07-03_23-27-22.dat.csv\n",
      "Processing file: C:/Users/SKTPJ15/real/traindata_au\\cluster0_nk100_720_2023-07-03_23-47-29.dat.csv\n",
      "Processing file: C:/Users/SKTPJ15/real/traindata_au\\cluster0_nk100_720_2023-07-04_03-18-47.dat.csv\n",
      "Warning: C:/Users/SKTPJ15/real/traindata_au\\cluster0_nk100_720_2023-07-04_03-18-47.dat.csv is empty.\n",
      "Processing file: C:/Users/SKTPJ15/real/traindata_au\\cluster0_nk100_720_2023-07-04_03-28-50.dat.csv\n",
      "Warning: C:/Users/SKTPJ15/real/traindata_au\\cluster0_nk100_720_2023-07-04_03-28-50.dat.csv is empty.\n",
      "Processing file: C:/Users/SKTPJ15/real/traindata_au\\cluster0_nk100_720_2023-07-04_04-29-12.dat.csv\n",
      "Warning: C:/Users/SKTPJ15/real/traindata_au\\cluster0_nk100_720_2023-07-04_04-29-12.dat.csv is empty.\n",
      "Processing file: C:/Users/SKTPJ15/real/traindata_au\\cluster0_nk100_720_2023-07-04_04-39-15.dat.csv\n",
      "Warning: C:/Users/SKTPJ15/real/traindata_au\\cluster0_nk100_720_2023-07-04_04-39-15.dat.csv is empty.\n",
      "Processing file: C:/Users/SKTPJ15/real/traindata_au\\cluster0_nk100_720_2023-07-04_04-49-19.dat.csv\n",
      "Warning: C:/Users/SKTPJ15/real/traindata_au\\cluster0_nk100_720_2023-07-04_04-49-19.dat.csv is empty.\n",
      "Processing file: C:/Users/SKTPJ15/real/traindata_au\\cluster0_nk100_720_2023-07-04_04-59-22.dat.csv\n",
      "Warning: C:/Users/SKTPJ15/real/traindata_au\\cluster0_nk100_720_2023-07-04_04-59-22.dat.csv is empty.\n",
      "Processing file: C:/Users/SKTPJ15/real/traindata_au\\cluster0_nk100_720_2023-07-04_05-09-26.dat.csv\n",
      "Warning: C:/Users/SKTPJ15/real/traindata_au\\cluster0_nk100_720_2023-07-04_05-09-26.dat.csv is empty.\n",
      "Processing file: C:/Users/SKTPJ15/real/traindata_au\\cluster0_nk100_720_2023-07-04_05-39-38.dat.csv\n",
      "Warning: C:/Users/SKTPJ15/real/traindata_au\\cluster0_nk100_720_2023-07-04_05-39-38.dat.csv is empty.\n",
      "Processing file: C:/Users/SKTPJ15/real/traindata_au\\cluster0_nk100_720_2023-07-04_05-49-42.dat.csv\n",
      "Warning: C:/Users/SKTPJ15/real/traindata_au\\cluster0_nk100_720_2023-07-04_05-49-42.dat.csv is empty.\n",
      "Processing file: C:/Users/SKTPJ15/real/traindata_au\\cluster0_nk100_720_2023-07-04_06-29-56.dat.csv\n",
      "Processing file: C:/Users/SKTPJ15/real/traindata_au\\cluster0_nk100_720_2023-07-04_06-40-00.dat.csv\n",
      "Processing file: C:/Users/SKTPJ15/real/traindata_au\\cluster0_nk100_720_2023-07-04_07-10-10.dat.csv\n",
      "Processing file: C:/Users/SKTPJ15/real/traindata_au\\cluster0_nk100_720_2023-07-04_07-40-21.dat.csv\n",
      "Processing file: C:/Users/SKTPJ15/real/traindata_au\\cluster0_nk100_720_2023-07-04_09-41-06.dat.csv\n",
      "Warning: C:/Users/SKTPJ15/real/traindata_au\\cluster0_nk100_720_2023-07-04_09-41-06.dat.csv is empty.\n",
      "Processing file: C:/Users/SKTPJ15/real/traindata_au\\cluster0_nk100_720_2023-07-04_10-21-20.dat.csv\n",
      "Warning: C:/Users/SKTPJ15/real/traindata_au\\cluster0_nk100_720_2023-07-04_10-21-20.dat.csv is empty.\n",
      "Processing file: C:/Users/SKTPJ15/real/traindata_au\\cluster0_nk100_720_2023-07-04_10-31-24.dat.csv\n",
      "Warning: C:/Users/SKTPJ15/real/traindata_au\\cluster0_nk100_720_2023-07-04_10-31-24.dat.csv is empty.\n",
      "Processing file: C:/Users/SKTPJ15/real/traindata_au\\cluster0_nk100_720_2023-07-04_11-01-36.dat.csv\n",
      "Warning: C:/Users/SKTPJ15/real/traindata_au\\cluster0_nk100_720_2023-07-04_11-01-36.dat.csv is empty.\n",
      "Processing file: C:/Users/SKTPJ15/real/traindata_au\\cluster0_nk100_720_2023-07-04_11-41-51.dat.csv\n",
      "Warning: C:/Users/SKTPJ15/real/traindata_au\\cluster0_nk100_720_2023-07-04_11-41-51.dat.csv is empty.\n",
      "Processing file: C:/Users/SKTPJ15/real/traindata_au\\cluster0_nk100_720_2023-07-04_12-22-05.dat.csv\n",
      "Warning: C:/Users/SKTPJ15/real/traindata_au\\cluster0_nk100_720_2023-07-04_12-22-05.dat.csv is empty.\n",
      "Processing file: C:/Users/SKTPJ15/real/traindata_au\\cluster0_nk100_720_2023-07-04_12-32-09.dat.csv\n",
      "Processing file: C:/Users/SKTPJ15/real/traindata_au\\cluster0_nk100_720_2023-07-04_12-42-12.dat.csv\n",
      "Processing file: C:/Users/SKTPJ15/real/traindata_au\\cluster0_nk100_720_2023-07-04_12-52-16.dat.csv\n",
      "Warning: C:/Users/SKTPJ15/real/traindata_au\\cluster0_nk100_720_2023-07-04_12-52-16.dat.csv is empty.\n",
      "Processing file: C:/Users/SKTPJ15/real/traindata_au\\cluster0_nk100_720_2023-07-04_13-22-28.dat.csv\n",
      "Warning: C:/Users/SKTPJ15/real/traindata_au\\cluster0_nk100_720_2023-07-04_13-22-28.dat.csv is empty.\n",
      "Processing file: C:/Users/SKTPJ15/real/traindata_au\\cluster0_nk100_720_2023-07-04_13-42-36.dat.csv\n",
      "Processing file: C:/Users/SKTPJ15/real/traindata_au\\cluster0_nk100_720_2023-07-04_15-03-05.dat.csv\n",
      "Warning: C:/Users/SKTPJ15/real/traindata_au\\cluster0_nk100_720_2023-07-04_15-03-05.dat.csv is empty.\n",
      "Processing file: C:/Users/SKTPJ15/real/traindata_au\\cluster0_nk100_720_2023-07-04_15-13-08.dat.csv\n",
      "Warning: C:/Users/SKTPJ15/real/traindata_au\\cluster0_nk100_720_2023-07-04_15-13-08.dat.csv is empty.\n",
      "Processing file: C:/Users/SKTPJ15/real/traindata_au\\cluster0_nk100_720_2023-07-04_23-26-11.dat.csv\n",
      "Warning: C:/Users/SKTPJ15/real/traindata_au\\cluster0_nk100_720_2023-07-04_23-26-11.dat.csv is empty.\n",
      "Processing file: C:/Users/SKTPJ15/real/traindata_au\\cluster0_nk100_720_2023-07-04_23-36-15.dat.csv\n",
      "Warning: C:/Users/SKTPJ15/real/traindata_au\\cluster0_nk100_720_2023-07-04_23-36-15.dat.csv is empty.\n",
      "Processing file: C:/Users/SKTPJ15/real/traindata_au\\cluster0_nk100_720_2023-07-04_23-46-19.dat.csv\n",
      "Warning: C:/Users/SKTPJ15/real/traindata_au\\cluster0_nk100_720_2023-07-04_23-46-19.dat.csv is empty.\n",
      "Processing file: C:/Users/SKTPJ15/real/traindata_au\\cluster0_nk100_720_2023-07-04_23-56-22.dat.csv\n",
      "Processing file: C:/Users/SKTPJ15/real/traindata_au\\cluster0_nk100_720_2023-07-05_01-37-01.dat.csv\n",
      "Warning: C:/Users/SKTPJ15/real/traindata_au\\cluster0_nk100_720_2023-07-05_01-37-01.dat.csv is empty.\n",
      "Processing file: C:/Users/SKTPJ15/real/traindata_au\\cluster0_nk100_720_2023-07-05_01-47-04.dat.csv\n",
      "Warning: C:/Users/SKTPJ15/real/traindata_au\\cluster0_nk100_720_2023-07-05_01-47-04.dat.csv is empty.\n",
      "Processing file: C:/Users/SKTPJ15/real/traindata_au\\cluster0_nk100_720_2023-07-05_01-57-08.dat.csv\n",
      "Warning: C:/Users/SKTPJ15/real/traindata_au\\cluster0_nk100_720_2023-07-05_01-57-08.dat.csv is empty.\n",
      "Processing file: C:/Users/SKTPJ15/real/traindata_au\\cluster0_nk100_720_2023-07-05_03-07-35.dat.csv\n",
      "Processing file: C:/Users/SKTPJ15/real/traindata_au\\cluster0_nk100_720_2023-07-05_03-17-39.dat.csv\n",
      "Processing file: C:/Users/SKTPJ15/real/traindata_au\\cluster0_nk100_720_2023-07-05_03-27-43.dat.csv\n",
      "Processing file: C:/Users/SKTPJ15/real/traindata_au\\cluster0_nk100_720_2023-07-05_06-38-56.dat.csv\n",
      "Warning: C:/Users/SKTPJ15/real/traindata_au\\cluster0_nk100_720_2023-07-05_06-38-56.dat.csv is empty.\n",
      "Processing file: C:/Users/SKTPJ15/real/traindata_au\\cluster0_nk100_720_2023-07-05_06-48-59.dat.csv\n",
      "Warning: C:/Users/SKTPJ15/real/traindata_au\\cluster0_nk100_720_2023-07-05_06-48-59.dat.csv is empty.\n",
      "Processing file: C:/Users/SKTPJ15/real/traindata_au\\cluster0_nk100_720_2023-07-05_06-59-03.dat.csv\n",
      "Warning: C:/Users/SKTPJ15/real/traindata_au\\cluster0_nk100_720_2023-07-05_06-59-03.dat.csv is empty.\n",
      "Processing file: C:/Users/SKTPJ15/real/traindata_au\\cluster0_nk100_720_2023-07-05_07-09-07.dat.csv\n",
      "Warning: C:/Users/SKTPJ15/real/traindata_au\\cluster0_nk100_720_2023-07-05_07-09-07.dat.csv is empty.\n",
      "Processing file: C:/Users/SKTPJ15/real/traindata_au\\cluster0_nk100_740_2023-07-03_18-45-38.dat.csv\n",
      "Warning: C:/Users/SKTPJ15/real/traindata_au\\cluster0_nk100_740_2023-07-03_18-45-38.dat.csv is empty.\n",
      "Processing file: C:/Users/SKTPJ15/real/traindata_au\\cluster0_nk100_740_2023-07-03_20-16-09.dat.csv\n",
      "Warning: C:/Users/SKTPJ15/real/traindata_au\\cluster0_nk100_740_2023-07-03_20-16-09.dat.csv is empty.\n",
      "Processing file: C:/Users/SKTPJ15/real/traindata_au\\cluster0_nk100_740_2023-07-03_20-26-12.dat.csv\n",
      "Warning: C:/Users/SKTPJ15/real/traindata_au\\cluster0_nk100_740_2023-07-03_20-26-12.dat.csv is empty.\n",
      "Processing file: C:/Users/SKTPJ15/real/traindata_au\\cluster0_nk100_740_2023-07-03_20-36-16.dat.csv\n",
      "Warning: C:/Users/SKTPJ15/real/traindata_au\\cluster0_nk100_740_2023-07-03_20-36-16.dat.csv is empty.\n",
      "Processing file: C:/Users/SKTPJ15/real/traindata_au\\cluster0_nk100_740_2023-07-03_20-46-19.dat.csv\n",
      "Warning: C:/Users/SKTPJ15/real/traindata_au\\cluster0_nk100_740_2023-07-03_20-46-19.dat.csv is empty.\n",
      "Processing file: C:/Users/SKTPJ15/real/traindata_au\\cluster0_nk100_740_2023-07-03_20-56-23.dat.csv\n",
      "Warning: C:/Users/SKTPJ15/real/traindata_au\\cluster0_nk100_740_2023-07-03_20-56-23.dat.csv is empty.\n",
      "Processing file: C:/Users/SKTPJ15/real/traindata_au\\cluster0_nk100_740_2023-07-03_22-47-02.dat.csv\n",
      "Warning: C:/Users/SKTPJ15/real/traindata_au\\cluster0_nk100_740_2023-07-03_22-47-02.dat.csv is empty.\n",
      "Processing file: C:/Users/SKTPJ15/real/traindata_au\\cluster0_nk100_740_2023-07-03_22-57-06.dat.csv\n",
      "Warning: C:/Users/SKTPJ15/real/traindata_au\\cluster0_nk100_740_2023-07-03_22-57-06.dat.csv is empty.\n",
      "Processing file: C:/Users/SKTPJ15/real/traindata_au\\cluster0_nk100_740_2023-07-03_23-07-09.dat.csv\n",
      "Warning: C:/Users/SKTPJ15/real/traindata_au\\cluster0_nk100_740_2023-07-03_23-07-09.dat.csv is empty.\n",
      "Processing file: C:/Users/SKTPJ15/real/traindata_au\\cluster0_nk100_740_2023-07-03_23-27-16.dat.csv\n",
      "Warning: C:/Users/SKTPJ15/real/traindata_au\\cluster0_nk100_740_2023-07-03_23-27-16.dat.csv is empty.\n",
      "Processing file: C:/Users/SKTPJ15/real/traindata_au\\cluster0_nk100_740_2023-07-03_23-57-26.dat.csv\n",
      "Warning: C:/Users/SKTPJ15/real/traindata_au\\cluster0_nk100_740_2023-07-03_23-57-26.dat.csv is empty.\n",
      "Processing file: C:/Users/SKTPJ15/real/traindata_au\\cluster0_nk100_740_2023-07-04_00-17-33.dat.csv\n",
      "Warning: C:/Users/SKTPJ15/real/traindata_au\\cluster0_nk100_740_2023-07-04_00-17-33.dat.csv is empty.\n",
      "Processing file: C:/Users/SKTPJ15/real/traindata_au\\cluster0_nk100_740_2023-07-04_00-27-37.dat.csv\n",
      "Warning: C:/Users/SKTPJ15/real/traindata_au\\cluster0_nk100_740_2023-07-04_00-27-37.dat.csv is empty.\n",
      "Processing file: C:/Users/SKTPJ15/real/traindata_au\\cluster0_nk100_740_2023-07-04_00-37-41.dat.csv\n",
      "Warning: C:/Users/SKTPJ15/real/traindata_au\\cluster0_nk100_740_2023-07-04_00-37-41.dat.csv is empty.\n",
      "Processing file: C:/Users/SKTPJ15/real/traindata_au\\cluster0_nk100_740_2023-07-04_00-47-44.dat.csv\n",
      "Warning: C:/Users/SKTPJ15/real/traindata_au\\cluster0_nk100_740_2023-07-04_00-47-44.dat.csv is empty.\n",
      "Processing file: C:/Users/SKTPJ15/real/traindata_au\\cluster0_nk100_740_2023-07-04_01-38-01.dat.csv\n",
      "Warning: C:/Users/SKTPJ15/real/traindata_au\\cluster0_nk100_740_2023-07-04_01-38-01.dat.csv is empty.\n",
      "Processing file: C:/Users/SKTPJ15/real/traindata_au\\cluster0_nk100_740_2023-07-04_02-08-12.dat.csv\n",
      "Warning: C:/Users/SKTPJ15/real/traindata_au\\cluster0_nk100_740_2023-07-04_02-08-12.dat.csv is empty.\n",
      "Processing file: C:/Users/SKTPJ15/real/traindata_au\\cluster0_nk100_740_2023-07-04_02-18-15.dat.csv\n",
      "Warning: C:/Users/SKTPJ15/real/traindata_au\\cluster0_nk100_740_2023-07-04_02-18-15.dat.csv is empty.\n",
      "Processing file: C:/Users/SKTPJ15/real/traindata_au\\cluster0_nk100_740_2023-07-04_02-48-28.dat.csv\n",
      "Processing file: C:/Users/SKTPJ15/real/traindata_au\\cluster0_nk100_740_2023-07-04_02-58-31.dat.csv\n",
      "Processing file: C:/Users/SKTPJ15/real/traindata_au\\cluster0_nk100_740_2023-07-04_05-59-35.dat.csv\n",
      "Warning: C:/Users/SKTPJ15/real/traindata_au\\cluster0_nk100_740_2023-07-04_05-59-35.dat.csv is empty.\n",
      "Processing file: C:/Users/SKTPJ15/real/traindata_au\\cluster0_nk100_740_2023-07-04_06-09-38.dat.csv\n",
      "Warning: C:/Users/SKTPJ15/real/traindata_au\\cluster0_nk100_740_2023-07-04_06-09-38.dat.csv is empty.\n",
      "Processing file: C:/Users/SKTPJ15/real/traindata_au\\cluster0_nk100_740_2023-07-04_07-30-06.dat.csv\n",
      "Processing file: C:/Users/SKTPJ15/real/traindata_au\\cluster0_nk100_740_2023-07-04_09-10-43.dat.csv\n",
      "Warning: C:/Users/SKTPJ15/real/traindata_au\\cluster0_nk100_740_2023-07-04_09-10-43.dat.csv is empty.\n",
      "Processing file: C:/Users/SKTPJ15/real/traindata_au\\cluster0_nk100_740_2023-07-04_11-41-35.dat.csv\n",
      "Warning: C:/Users/SKTPJ15/real/traindata_au\\cluster0_nk100_740_2023-07-04_11-41-35.dat.csv is empty.\n",
      "Processing file: C:/Users/SKTPJ15/real/traindata_au\\cluster0_nk100_740_2023-07-04_13-52-24.dat.csv\n",
      "Processing file: C:/Users/SKTPJ15/real/traindata_au\\cluster0_nk100_740_2023-07-04_14-22-34.dat.csv\n",
      "Processing file: C:/Users/SKTPJ15/real/traindata_au\\cluster0_nk100_740_2023-07-04_14-32-38.dat.csv\n",
      "Processing file: C:/Users/SKTPJ15/real/traindata_au\\cluster0_nk100_740_2023-07-04_14-42-41.dat.csv\n",
      "Processing file: C:/Users/SKTPJ15/real/traindata_au\\cluster0_nk100_740_2023-07-04_14-52-45.dat.csv\n",
      "Processing file: C:/Users/SKTPJ15/real/traindata_au\\cluster0_nk100_740_2023-07-04_17-13-34.dat.csv\n",
      "Warning: C:/Users/SKTPJ15/real/traindata_au\\cluster0_nk100_740_2023-07-04_17-13-34.dat.csv is empty.\n",
      "Processing file: C:/Users/SKTPJ15/real/traindata_au\\cluster0_nk100_740_2023-07-04_17-43-45.dat.csv\n",
      "Warning: C:/Users/SKTPJ15/real/traindata_au\\cluster0_nk100_740_2023-07-04_17-43-45.dat.csv is empty.\n",
      "Processing file: C:/Users/SKTPJ15/real/traindata_au\\cluster0_nk100_740_2023-07-04_20-44-51.dat.csv\n",
      "Processing file: C:/Users/SKTPJ15/real/traindata_au\\cluster0_nk100_740_2023-07-04_21-15-01.dat.csv\n",
      "Processing file: C:/Users/SKTPJ15/real/traindata_au\\cluster0_nk100_740_2023-07-04_23-55-59.dat.csv\n",
      "Warning: C:/Users/SKTPJ15/real/traindata_au\\cluster0_nk100_740_2023-07-04_23-55-59.dat.csv is empty.\n",
      "Processing file: C:/Users/SKTPJ15/real/traindata_au\\cluster0_nk100_740_2023-07-05_02-26-55.dat.csv\n",
      "Processing file: C:/Users/SKTPJ15/real/traindata_au\\cluster0_nk100_740_2023-07-05_03-57-27.dat.csv\n",
      "Warning: C:/Users/SKTPJ15/real/traindata_au\\cluster0_nk100_740_2023-07-05_03-57-27.dat.csv is empty.\n",
      "Processing file: C:/Users/SKTPJ15/real/traindata_au\\cluster0_nk100_740_2023-07-05_10-09-43.dat.csv\n",
      "Warning: C:/Users/SKTPJ15/real/traindata_au\\cluster0_nk100_740_2023-07-05_10-09-43.dat.csv is empty.\n",
      "Processing file: C:/Users/SKTPJ15/real/traindata_au\\cluster0_nk100_749_2023-07-03_16-14-45.dat.csv\n",
      "Warning: C:/Users/SKTPJ15/real/traindata_au\\cluster0_nk100_749_2023-07-03_16-14-45.dat.csv is empty.\n",
      "Processing file: C:/Users/SKTPJ15/real/traindata_au\\cluster0_nk100_749_2023-07-03_16-24-49.dat.csv\n",
      "Warning: C:/Users/SKTPJ15/real/traindata_au\\cluster0_nk100_749_2023-07-03_16-24-49.dat.csv is empty.\n",
      "Processing file: C:/Users/SKTPJ15/real/traindata_au\\cluster0_nk100_749_2023-07-03_16-34-52.dat.csv\n",
      "Warning: C:/Users/SKTPJ15/real/traindata_au\\cluster0_nk100_749_2023-07-03_16-34-52.dat.csv is empty.\n",
      "Processing file: C:/Users/SKTPJ15/real/traindata_au\\cluster0_nk100_749_2023-07-03_17-15-06.dat.csv\n",
      "Warning: C:/Users/SKTPJ15/real/traindata_au\\cluster0_nk100_749_2023-07-03_17-15-06.dat.csv is empty.\n",
      "Processing file: C:/Users/SKTPJ15/real/traindata_au\\cluster0_nk100_749_2023-07-03_17-25-09.dat.csv\n",
      "Warning: C:/Users/SKTPJ15/real/traindata_au\\cluster0_nk100_749_2023-07-03_17-25-09.dat.csv is empty.\n",
      "Processing file: C:/Users/SKTPJ15/real/traindata_au\\cluster0_nk100_749_2023-07-03_17-35-13.dat.csv\n",
      "Warning: C:/Users/SKTPJ15/real/traindata_au\\cluster0_nk100_749_2023-07-03_17-35-13.dat.csv is empty.\n",
      "Processing file: C:/Users/SKTPJ15/real/traindata_au\\cluster0_nk100_749_2023-07-03_18-35-34.dat.csv\n",
      "Warning: C:/Users/SKTPJ15/real/traindata_au\\cluster0_nk100_749_2023-07-03_18-35-34.dat.csv is empty.\n",
      "Processing file: C:/Users/SKTPJ15/real/traindata_au\\cluster0_nk100_749_2023-07-03_18-55-41.dat.csv\n",
      "Processing file: C:/Users/SKTPJ15/real/traindata_au\\cluster0_nk100_749_2023-07-03_19-05-44.dat.csv\n",
      "Processing file: C:/Users/SKTPJ15/real/traindata_au\\cluster0_nk100_749_2023-07-03_19-15-48.dat.csv\n",
      "Processing file: C:/Users/SKTPJ15/real/traindata_au\\cluster0_nk100_749_2023-07-03_19-35-54.dat.csv\n",
      "Warning: C:/Users/SKTPJ15/real/traindata_au\\cluster0_nk100_749_2023-07-03_19-35-54.dat.csv is empty.\n",
      "Processing file: C:/Users/SKTPJ15/real/traindata_au\\cluster0_nk100_749_2023-07-03_19-45-58.dat.csv\n",
      "Warning: C:/Users/SKTPJ15/real/traindata_au\\cluster0_nk100_749_2023-07-03_19-45-58.dat.csv is empty.\n",
      "Processing file: C:/Users/SKTPJ15/real/traindata_au\\cluster0_nk100_749_2023-07-03_19-56-01.dat.csv\n",
      "Warning: C:/Users/SKTPJ15/real/traindata_au\\cluster0_nk100_749_2023-07-03_19-56-01.dat.csv is empty.\n",
      "Processing file: C:/Users/SKTPJ15/real/traindata_au\\cluster0_nk100_749_2023-07-03_20-06-05.dat.csv\n",
      "Warning: C:/Users/SKTPJ15/real/traindata_au\\cluster0_nk100_749_2023-07-03_20-06-05.dat.csv is empty.\n",
      "Processing file: C:/Users/SKTPJ15/real/traindata_au\\cluster0_nk100_749_2023-07-03_21-26-34.dat.csv\n",
      "Warning: C:/Users/SKTPJ15/real/traindata_au\\cluster0_nk100_749_2023-07-03_21-26-34.dat.csv is empty.\n",
      "Processing file: C:/Users/SKTPJ15/real/traindata_au\\cluster0_nk100_749_2023-07-03_21-36-38.dat.csv\n",
      "Warning: C:/Users/SKTPJ15/real/traindata_au\\cluster0_nk100_749_2023-07-03_21-36-38.dat.csv is empty.\n",
      "Processing file: C:/Users/SKTPJ15/real/traindata_au\\cluster0_nk100_749_2023-07-03_21-56-45.dat.csv\n",
      "Warning: C:/Users/SKTPJ15/real/traindata_au\\cluster0_nk100_749_2023-07-03_21-56-45.dat.csv is empty.\n",
      "Processing file: C:/Users/SKTPJ15/real/traindata_au\\cluster0_nk100_749_2023-07-03_22-06-48.dat.csv\n",
      "Warning: C:/Users/SKTPJ15/real/traindata_au\\cluster0_nk100_749_2023-07-03_22-06-48.dat.csv is empty.\n",
      "Processing file: C:/Users/SKTPJ15/real/traindata_au\\cluster0_nk100_749_2023-07-03_22-16-52.dat.csv\n",
      "Warning: C:/Users/SKTPJ15/real/traindata_au\\cluster0_nk100_749_2023-07-03_22-16-52.dat.csv is empty.\n",
      "Processing file: C:/Users/SKTPJ15/real/traindata_au\\cluster0_nk100_749_2023-07-03_23-37-19.dat.csv\n",
      "Processing file: C:/Users/SKTPJ15/real/traindata_au\\cluster0_nk100_749_2023-07-03_23-47-23.dat.csv\n",
      "Processing file: C:/Users/SKTPJ15/real/traindata_au\\cluster0_nk100_749_2023-07-03_23-57-27.dat.csv\n",
      "Processing file: C:/Users/SKTPJ15/real/traindata_au\\cluster0_nk100_749_2023-07-04_00-07-30.dat.csv\n",
      "Processing file: C:/Users/SKTPJ15/real/traindata_au\\cluster0_nk100_749_2023-07-04_00-17-34.dat.csv\n",
      "Processing file: C:/Users/SKTPJ15/real/traindata_au\\cluster0_nk100_749_2023-07-04_00-27-37.dat.csv\n",
      "Warning: C:/Users/SKTPJ15/real/traindata_au\\cluster0_nk100_749_2023-07-04_00-27-37.dat.csv is empty.\n",
      "Processing file: C:/Users/SKTPJ15/real/traindata_au\\cluster0_nk100_749_2023-07-04_00-37-41.dat.csv\n",
      "Warning: C:/Users/SKTPJ15/real/traindata_au\\cluster0_nk100_749_2023-07-04_00-37-41.dat.csv is empty.\n",
      "Processing file: C:/Users/SKTPJ15/real/traindata_au\\cluster0_nk100_749_2023-07-04_00-47-44.dat.csv\n",
      "Warning: C:/Users/SKTPJ15/real/traindata_au\\cluster0_nk100_749_2023-07-04_00-47-44.dat.csv is empty.\n",
      "Processing file: C:/Users/SKTPJ15/real/traindata_au\\cluster0_nk100_749_2023-07-04_01-07-51.dat.csv\n",
      "Processing file: C:/Users/SKTPJ15/real/traindata_au\\cluster0_nk100_749_2023-07-04_01-27-58.dat.csv\n",
      "Processing file: C:/Users/SKTPJ15/real/traindata_au\\cluster0_nk100_749_2023-07-04_03-08-35.dat.csv\n",
      "Warning: C:/Users/SKTPJ15/real/traindata_au\\cluster0_nk100_749_2023-07-04_03-08-35.dat.csv is empty.\n",
      "Processing file: C:/Users/SKTPJ15/real/traindata_au\\cluster0_nk100_749_2023-07-04_03-18-38.dat.csv\n",
      "Warning: C:/Users/SKTPJ15/real/traindata_au\\cluster0_nk100_749_2023-07-04_03-18-38.dat.csv is empty.\n",
      "Processing file: C:/Users/SKTPJ15/real/traindata_au\\cluster0_nk100_749_2023-07-04_03-28-42.dat.csv\n",
      "Warning: C:/Users/SKTPJ15/real/traindata_au\\cluster0_nk100_749_2023-07-04_03-28-42.dat.csv is empty.\n",
      "Processing file: C:/Users/SKTPJ15/real/traindata_au\\cluster0_nk100_749_2023-07-04_03-48-49.dat.csv\n",
      "Warning: C:/Users/SKTPJ15/real/traindata_au\\cluster0_nk100_749_2023-07-04_03-48-49.dat.csv is empty.\n",
      "Processing file: C:/Users/SKTPJ15/real/traindata_au\\cluster0_nk100_749_2023-07-04_03-58-52.dat.csv\n",
      "Warning: C:/Users/SKTPJ15/real/traindata_au\\cluster0_nk100_749_2023-07-04_03-58-52.dat.csv is empty.\n",
      "Processing file: C:/Users/SKTPJ15/real/traindata_au\\cluster0_nk100_749_2023-07-04_04-29-03.dat.csv\n",
      "Warning: C:/Users/SKTPJ15/real/traindata_au\\cluster0_nk100_749_2023-07-04_04-29-03.dat.csv is empty.\n",
      "Processing file: C:/Users/SKTPJ15/real/traindata_au\\cluster0_nk100_749_2023-07-04_07-30-06.dat.csv\n",
      "Processing file: C:/Users/SKTPJ15/real/traindata_au\\cluster0_nk100_749_2023-07-04_08-00-19.dat.csv\n",
      "Processing file: C:/Users/SKTPJ15/real/traindata_au\\cluster0_nk100_749_2023-07-04_08-10-22.dat.csv\n",
      "Warning: C:/Users/SKTPJ15/real/traindata_au\\cluster0_nk100_749_2023-07-04_08-10-22.dat.csv is empty.\n",
      "Processing file: C:/Users/SKTPJ15/real/traindata_au\\cluster0_nk100_749_2023-07-04_08-20-26.dat.csv\n",
      "Warning: C:/Users/SKTPJ15/real/traindata_au\\cluster0_nk100_749_2023-07-04_08-20-26.dat.csv is empty.\n",
      "Processing file: C:/Users/SKTPJ15/real/traindata_au\\cluster0_nk100_749_2023-07-04_11-51-40.dat.csv\n",
      "Processing file: C:/Users/SKTPJ15/real/traindata_au\\cluster0_nk100_750_2023-07-03_18-35-33.dat.csv\n",
      "Warning: C:/Users/SKTPJ15/real/traindata_au\\cluster0_nk100_750_2023-07-03_18-35-33.dat.csv is empty.\n",
      "Processing file: C:/Users/SKTPJ15/real/traindata_au\\cluster0_nk100_750_2023-07-03_20-06-04.dat.csv\n",
      "Warning: C:/Users/SKTPJ15/real/traindata_au\\cluster0_nk100_750_2023-07-03_20-06-04.dat.csv is empty.\n",
      "Processing file: C:/Users/SKTPJ15/real/traindata_au\\cluster0_nk100_750_2023-07-03_20-16-07.dat.csv\n",
      "Processing file: C:/Users/SKTPJ15/real/traindata_au\\cluster0_nk100_750_2023-07-03_21-06-25.dat.csv\n",
      "Processing file: C:/Users/SKTPJ15/real/traindata_au\\cluster0_nk100_750_2023-07-03_21-16-28.dat.csv\n",
      "Processing file: C:/Users/SKTPJ15/real/traindata_au\\cluster0_nk100_750_2023-07-03_21-26-33.dat.csv\n",
      "Processing file: C:/Users/SKTPJ15/real/traindata_au\\cluster0_nk100_750_2023-07-04_01-58-08.dat.csv\n",
      "Warning: C:/Users/SKTPJ15/real/traindata_au\\cluster0_nk100_750_2023-07-04_01-58-08.dat.csv is empty.\n",
      "Processing file: C:/Users/SKTPJ15/real/traindata_au\\cluster0_nk100_750_2023-07-04_05-49-30.dat.csv\n",
      "Warning: C:/Users/SKTPJ15/real/traindata_au\\cluster0_nk100_750_2023-07-04_05-49-30.dat.csv is empty.\n",
      "Processing file: C:/Users/SKTPJ15/real/traindata_au\\cluster0_nk100_750_2023-07-04_05-59-34.dat.csv\n",
      "Warning: C:/Users/SKTPJ15/real/traindata_au\\cluster0_nk100_750_2023-07-04_05-59-34.dat.csv is empty.\n",
      "Processing file: C:/Users/SKTPJ15/real/traindata_au\\cluster0_nk100_750_2023-07-04_06-09-37.dat.csv\n",
      "Warning: C:/Users/SKTPJ15/real/traindata_au\\cluster0_nk100_750_2023-07-04_06-09-37.dat.csv is empty.\n",
      "Processing file: C:/Users/SKTPJ15/real/traindata_au\\cluster0_nk100_750_2023-07-04_10-41-14.dat.csv\n",
      "Processing file: C:/Users/SKTPJ15/real/traindata_au\\cluster0_nk100_750_2023-07-04_11-51-40.dat.csv\n",
      "Processing file: C:/Users/SKTPJ15/real/traindata_au\\cluster0_nk100_750_2023-07-04_12-01-43.dat.csv\n",
      "Processing file: C:/Users/SKTPJ15/real/traindata_au\\cluster0_nk100_750_2023-07-04_12-11-47.dat.csv\n",
      "Warning: C:/Users/SKTPJ15/real/traindata_au\\cluster0_nk100_750_2023-07-04_12-11-47.dat.csv is empty.\n",
      "Processing file: C:/Users/SKTPJ15/real/traindata_au\\cluster0_nk100_750_2023-07-04_12-31-54.dat.csv\n",
      "Warning: C:/Users/SKTPJ15/real/traindata_au\\cluster0_nk100_750_2023-07-04_12-31-54.dat.csv is empty.\n",
      "Processing file: C:/Users/SKTPJ15/real/traindata_au\\cluster0_nk100_750_2023-07-04_12-41-58.dat.csv\n",
      "Warning: C:/Users/SKTPJ15/real/traindata_au\\cluster0_nk100_750_2023-07-04_12-41-58.dat.csv is empty.\n",
      "Processing file: C:/Users/SKTPJ15/real/traindata_au\\cluster0_nk100_750_2023-07-04_13-22-12.dat.csv\n",
      "Warning: C:/Users/SKTPJ15/real/traindata_au\\cluster0_nk100_750_2023-07-04_13-22-12.dat.csv is empty.\n",
      "Processing file: C:/Users/SKTPJ15/real/traindata_au\\cluster0_nk100_750_2023-07-04_14-02-29.dat.csv\n",
      "Processing file: C:/Users/SKTPJ15/real/traindata_au\\cluster0_nk100_750_2023-07-04_14-32-39.dat.csv\n",
      "Processing file: C:/Users/SKTPJ15/real/traindata_au\\cluster0_nk100_751_2023-07-03_17-55-21.dat.csv\n",
      "Warning: C:/Users/SKTPJ15/real/traindata_au\\cluster0_nk100_751_2023-07-03_17-55-21.dat.csv is empty.\n",
      "Processing file: C:/Users/SKTPJ15/real/traindata_au\\cluster0_nk100_751_2023-07-03_18-05-25.dat.csv\n",
      "Warning: C:/Users/SKTPJ15/real/traindata_au\\cluster0_nk100_751_2023-07-03_18-05-25.dat.csv is empty.\n",
      "Processing file: C:/Users/SKTPJ15/real/traindata_au\\cluster0_nk100_751_2023-07-03_19-56-03.dat.csv\n",
      "Warning: C:/Users/SKTPJ15/real/traindata_au\\cluster0_nk100_751_2023-07-03_19-56-03.dat.csv is empty.\n",
      "Processing file: C:/Users/SKTPJ15/real/traindata_au\\cluster0_nk100_751_2023-07-03_22-16-53.dat.csv\n",
      "Warning: C:/Users/SKTPJ15/real/traindata_au\\cluster0_nk100_751_2023-07-03_22-16-53.dat.csv is empty.\n",
      "Processing file: C:/Users/SKTPJ15/real/traindata_au\\cluster0_nk100_751_2023-07-04_00-47-45.dat.csv\n",
      "Warning: C:/Users/SKTPJ15/real/traindata_au\\cluster0_nk100_751_2023-07-04_00-47-45.dat.csv is empty.\n",
      "Processing file: C:/Users/SKTPJ15/real/traindata_au\\cluster0_nk100_751_2023-07-04_02-58-33.dat.csv\n",
      "Processing file: C:/Users/SKTPJ15/real/traindata_au\\cluster0_nk100_751_2023-07-04_03-08-36.dat.csv\n",
      "Processing file: C:/Users/SKTPJ15/real/traindata_au\\cluster0_nk100_751_2023-07-04_03-48-50.dat.csv\n",
      "Processing file: C:/Users/SKTPJ15/real/traindata_au\\cluster0_nk100_751_2023-07-04_05-39-29.dat.csv\n",
      "Warning: C:/Users/SKTPJ15/real/traindata_au\\cluster0_nk100_751_2023-07-04_05-39-29.dat.csv is empty.\n",
      "Processing file: C:/Users/SKTPJ15/real/traindata_au\\cluster0_nk100_751_2023-07-04_05-49-32.dat.csv\n",
      "Warning: C:/Users/SKTPJ15/real/traindata_au\\cluster0_nk100_751_2023-07-04_05-49-32.dat.csv is empty.\n",
      "Processing file: C:/Users/SKTPJ15/real/traindata_au\\cluster0_nk100_751_2023-07-04_05-59-36.dat.csv\n",
      "Processing file: C:/Users/SKTPJ15/real/traindata_au\\cluster0_nk100_751_2023-07-04_16-23-20.dat.csv\n",
      "Warning: C:/Users/SKTPJ15/real/traindata_au\\cluster0_nk100_751_2023-07-04_16-23-20.dat.csv is empty.\n",
      "Processing file: C:/Users/SKTPJ15/real/traindata_au\\cluster0_nk100_751_2023-07-04_17-03-34.dat.csv\n",
      "Warning: C:/Users/SKTPJ15/real/traindata_au\\cluster0_nk100_751_2023-07-04_17-03-34.dat.csv is empty.\n",
      "Processing file: C:/Users/SKTPJ15/real/traindata_au\\cluster0_nk100_751_2023-07-04_17-13-38.dat.csv\n",
      "Warning: C:/Users/SKTPJ15/real/traindata_au\\cluster0_nk100_751_2023-07-04_17-13-38.dat.csv is empty.\n",
      "Processing file: C:/Users/SKTPJ15/real/traindata_au\\cluster0_nk100_751_2023-07-04_17-23-41.dat.csv\n",
      "Warning: C:/Users/SKTPJ15/real/traindata_au\\cluster0_nk100_751_2023-07-04_17-23-41.dat.csv is empty.\n",
      "Processing file: C:/Users/SKTPJ15/real/traindata_au\\cluster0_nk100_751_2023-07-04_17-33-45.dat.csv\n",
      "Warning: C:/Users/SKTPJ15/real/traindata_au\\cluster0_nk100_751_2023-07-04_17-33-45.dat.csv is empty.\n",
      "Processing file: C:/Users/SKTPJ15/real/traindata_au\\cluster0_nk100_751_2023-07-04_17-43-49.dat.csv\n",
      "Warning: C:/Users/SKTPJ15/real/traindata_au\\cluster0_nk100_751_2023-07-04_17-43-49.dat.csv is empty.\n",
      "Processing file: C:/Users/SKTPJ15/real/traindata_au\\cluster0_nk100_751_2023-07-04_18-13-59.dat.csv\n",
      "Warning: C:/Users/SKTPJ15/real/traindata_au\\cluster0_nk100_751_2023-07-04_18-13-59.dat.csv is empty.\n",
      "Processing file: C:/Users/SKTPJ15/real/traindata_au\\cluster0_nk100_751_2023-07-04_18-44-10.dat.csv\n",
      "Warning: C:/Users/SKTPJ15/real/traindata_au\\cluster0_nk100_751_2023-07-04_18-44-10.dat.csv is empty.\n",
      "Processing file: C:/Users/SKTPJ15/real/traindata_au\\cluster0_nk100_751_2023-07-04_19-44-33.dat.csv\n",
      "Processing file: C:/Users/SKTPJ15/real/traindata_au\\cluster0_nk100_751_2023-07-04_21-35-13.dat.csv\n",
      "Processing file: C:/Users/SKTPJ15/real/traindata_au\\cluster0_nk100_751_2023-07-04_23-45-59.dat.csv\n",
      "Warning: C:/Users/SKTPJ15/real/traindata_au\\cluster0_nk100_751_2023-07-04_23-45-59.dat.csv is empty.\n",
      "Processing file: C:/Users/SKTPJ15/real/traindata_au\\cluster0_nk100_751_2023-07-04_23-56-03.dat.csv\n",
      "Warning: C:/Users/SKTPJ15/real/traindata_au\\cluster0_nk100_751_2023-07-04_23-56-03.dat.csv is empty.\n",
      "Processing file: C:/Users/SKTPJ15/real/traindata_au\\cluster0_nk100_751_2023-07-05_00-06-06.dat.csv\n",
      "Warning: C:/Users/SKTPJ15/real/traindata_au\\cluster0_nk100_751_2023-07-05_00-06-06.dat.csv is empty.\n",
      "Processing file: C:/Users/SKTPJ15/real/traindata_au\\cluster0_nk100_751_2023-07-05_00-16-12.dat.csv\n",
      "Warning: C:/Users/SKTPJ15/real/traindata_au\\cluster0_nk100_751_2023-07-05_00-16-12.dat.csv is empty.\n",
      "Processing file: C:/Users/SKTPJ15/real/traindata_au\\cluster0_nk100_751_2023-07-05_01-06-30.dat.csv\n",
      "Processing file: C:/Users/SKTPJ15/real/traindata_au\\cluster0_nk100_751_2023-07-05_01-16-34.dat.csv\n",
      "Processing file: C:/Users/SKTPJ15/real/traindata_au\\cluster0_nk100_751_2023-07-05_02-06-52.dat.csv\n",
      "Processing file: C:/Users/SKTPJ15/real/traindata_au\\cluster0_nk100_751_2023-07-05_03-07-13.dat.csv\n",
      "Warning: C:/Users/SKTPJ15/real/traindata_au\\cluster0_nk100_751_2023-07-05_03-07-13.dat.csv is empty.\n",
      "Processing file: C:/Users/SKTPJ15/real/traindata_au\\cluster0_nk100_751_2023-07-05_03-17-17.dat.csv\n",
      "Warning: C:/Users/SKTPJ15/real/traindata_au\\cluster0_nk100_751_2023-07-05_03-17-17.dat.csv is empty.\n",
      "Processing file: C:/Users/SKTPJ15/real/traindata_au\\cluster0_nk100_751_2023-07-05_04-17-38.dat.csv\n",
      "val\n",
      "Processing file: C:/Users/SKTPJ15/real/valdata\\cluster0_nk100_2143_2024-05-25_00-03-28.dat.csv\n",
      "Processing file: C:/Users/SKTPJ15/real/valdata\\cluster0_nk100_2143_2024-05-25_00-13-28.dat.csv\n",
      "Processing file: C:/Users/SKTPJ15/real/valdata\\cluster0_nk100_2143_2024-05-25_00-23-28.dat.csv\n",
      "Processing file: C:/Users/SKTPJ15/real/valdata\\cluster0_nk100_2143_2024-05-25_00-33-28.dat.csv\n",
      "Processing file: C:/Users/SKTPJ15/real/valdata\\cluster0_nk100_2143_2024-05-25_00-43-28.dat.csv\n",
      "Processing file: C:/Users/SKTPJ15/real/valdata\\cluster0_nk100_2143_2024-05-25_00-53-28.dat.csv\n",
      "Processing file: C:/Users/SKTPJ15/real/valdata\\cluster0_nk100_2143_2024-05-25_01-03-28.dat.csv\n",
      "Processing file: C:/Users/SKTPJ15/real/valdata\\cluster0_nk100_2143_2024-05-25_01-13-28.dat.csv\n",
      "Processing file: C:/Users/SKTPJ15/real/valdata\\cluster0_nk100_2143_2024-05-25_01-23-28.dat.csv\n",
      "Processing file: C:/Users/SKTPJ15/real/valdata\\cluster0_nk100_2143_2024-05-25_01-33-28.dat.csv\n",
      "Processing file: C:/Users/SKTPJ15/real/valdata\\cluster0_nk100_2143_2024-05-25_01-43-28.dat.csv\n",
      "Processing file: C:/Users/SKTPJ15/real/valdata\\cluster0_nk100_2143_2024-05-25_01-53-28.dat.csv\n",
      "Processing file: C:/Users/SKTPJ15/real/valdata\\cluster0_nk100_2143_2024-05-25_02-03-28.dat.csv\n",
      "Processing file: C:/Users/SKTPJ15/real/valdata\\cluster0_nk100_2143_2024-05-25_02-13-28.dat.csv\n",
      "Processing file: C:/Users/SKTPJ15/real/valdata\\cluster0_nk100_2143_2024-05-25_02-23-28.dat.csv\n",
      "Processing file: C:/Users/SKTPJ15/real/valdata\\cluster0_nk100_2143_2024-05-25_02-33-28.dat.csv\n",
      "Processing file: C:/Users/SKTPJ15/real/valdata\\cluster0_nk100_2143_2024-05-25_02-43-28.dat.csv\n",
      "Processing file: C:/Users/SKTPJ15/real/valdata\\cluster0_nk100_2143_2024-05-25_02-53-28.dat.csv\n",
      "Processing file: C:/Users/SKTPJ15/real/valdata\\cluster0_nk100_2143_2024-05-25_03-03-28.dat.csv\n",
      "Processing file: C:/Users/SKTPJ15/real/valdata\\cluster0_nk100_2143_2024-05-25_03-13-28.dat.csv\n",
      "Processing file: C:/Users/SKTPJ15/real/valdata\\cluster0_nk100_2143_2024-05-25_03-23-28.dat.csv\n",
      "Processing file: C:/Users/SKTPJ15/real/valdata\\cluster0_nk100_2143_2024-05-25_03-33-28.dat.csv\n",
      "Processing file: C:/Users/SKTPJ15/real/valdata\\cluster0_nk100_2143_2024-05-25_03-43-28.dat.csv\n",
      "Processing file: C:/Users/SKTPJ15/real/valdata\\cluster0_nk100_2143_2024-05-25_03-53-28.dat.csv\n",
      "Processing file: C:/Users/SKTPJ15/real/valdata\\cluster0_nk100_2143_2024-05-25_04-03-28.dat.csv\n",
      "Warning: C:/Users/SKTPJ15/real/valdata\\cluster0_nk100_2143_2024-05-25_04-03-28.dat.csv is empty.\n",
      "Processing file: C:/Users/SKTPJ15/real/valdata\\cluster0_nk100_2143_2024-05-25_04-13-28.dat.csv\n",
      "Warning: C:/Users/SKTPJ15/real/valdata\\cluster0_nk100_2143_2024-05-25_04-13-28.dat.csv is empty.\n",
      "Processing file: C:/Users/SKTPJ15/real/valdata\\cluster0_nk100_2143_2024-05-25_04-23-28.dat.csv\n",
      "Processing file: C:/Users/SKTPJ15/real/valdata\\cluster0_nk100_2143_2024-05-25_04-33-28.dat.csv\n",
      "Processing file: C:/Users/SKTPJ15/real/valdata\\cluster0_nk100_2143_2024-05-25_04-43-28.dat.csv\n",
      "Warning: C:/Users/SKTPJ15/real/valdata\\cluster0_nk100_2143_2024-05-25_04-43-28.dat.csv is empty.\n",
      "Processing file: C:/Users/SKTPJ15/real/valdata\\cluster0_nk100_2143_2024-05-25_04-53-28.dat.csv\n",
      "Warning: C:/Users/SKTPJ15/real/valdata\\cluster0_nk100_2143_2024-05-25_04-53-28.dat.csv is empty.\n",
      "Processing file: C:/Users/SKTPJ15/real/valdata\\cluster0_nk100_2143_2024-05-25_05-03-28.dat.csv\n",
      "Warning: C:/Users/SKTPJ15/real/valdata\\cluster0_nk100_2143_2024-05-25_05-03-28.dat.csv is empty.\n",
      "Processing file: C:/Users/SKTPJ15/real/valdata\\cluster0_nk100_2143_2024-05-25_05-13-28.dat.csv\n",
      "Processing file: C:/Users/SKTPJ15/real/valdata\\cluster0_nk100_2143_2024-05-25_05-23-28.dat.csv\n",
      "Processing file: C:/Users/SKTPJ15/real/valdata\\cluster0_nk100_2143_2024-05-25_05-33-28.dat.csv\n",
      "Processing file: C:/Users/SKTPJ15/real/valdata\\cluster0_nk100_2143_2024-05-25_05-43-28.dat.csv\n",
      "Processing file: C:/Users/SKTPJ15/real/valdata\\cluster0_nk100_2143_2024-05-25_05-53-28.dat.csv\n",
      "Processing file: C:/Users/SKTPJ15/real/valdata\\cluster0_nk100_2143_2024-05-25_06-03-28.dat.csv\n",
      "Processing file: C:/Users/SKTPJ15/real/valdata\\cluster0_nk100_2143_2024-05-25_06-13-28.dat.csv\n",
      "Processing file: C:/Users/SKTPJ15/real/valdata\\cluster0_nk100_2143_2024-05-25_06-23-28.dat.csv\n",
      "Processing file: C:/Users/SKTPJ15/real/valdata\\cluster0_nk100_2143_2024-05-25_06-33-28.dat.csv\n",
      "Processing file: C:/Users/SKTPJ15/real/valdata\\cluster0_nk100_2143_2024-05-25_06-43-28.dat.csv\n",
      "Processing file: C:/Users/SKTPJ15/real/valdata\\cluster0_nk100_2143_2024-05-25_06-53-28.dat.csv\n",
      "Processing file: C:/Users/SKTPJ15/real/valdata\\cluster0_nk100_2143_2024-05-25_07-03-28.dat.csv\n",
      "Processing file: C:/Users/SKTPJ15/real/valdata\\cluster0_nk100_2143_2024-05-25_07-13-28.dat.csv\n",
      "Processing file: C:/Users/SKTPJ15/real/valdata\\cluster0_nk100_2143_2024-05-25_07-23-28.dat.csv\n",
      "Warning: C:/Users/SKTPJ15/real/valdata\\cluster0_nk100_2143_2024-05-25_07-23-28.dat.csv is empty.\n",
      "Processing file: C:/Users/SKTPJ15/real/valdata\\cluster0_nk100_2143_2024-05-25_07-33-28.dat.csv\n",
      "Processing file: C:/Users/SKTPJ15/real/valdata\\cluster0_nk100_2143_2024-05-25_07-43-28.dat.csv\n",
      "Processing file: C:/Users/SKTPJ15/real/valdata\\cluster0_nk100_2143_2024-05-25_07-53-28.dat.csv\n",
      "Processing file: C:/Users/SKTPJ15/real/valdata\\cluster0_nk100_2143_2024-05-25_08-03-28.dat.csv\n",
      "Processing file: C:/Users/SKTPJ15/real/valdata\\cluster0_nk100_2143_2024-05-25_08-13-28.dat.csv\n",
      "Processing file: C:/Users/SKTPJ15/real/valdata\\cluster0_nk100_2143_2024-05-25_08-23-28.dat.csv\n",
      "Processing file: C:/Users/SKTPJ15/real/valdata\\cluster0_nk100_2143_2024-05-25_08-33-28.dat.csv\n",
      "Processing file: C:/Users/SKTPJ15/real/valdata\\cluster0_nk100_2143_2024-05-25_08-43-28.dat.csv\n",
      "Processing file: C:/Users/SKTPJ15/real/valdata\\cluster0_nk100_2143_2024-05-25_08-53-28.dat.csv\n",
      "Processing file: C:/Users/SKTPJ15/real/valdata\\cluster0_nk100_2143_2024-05-25_09-03-28.dat.csv\n",
      "Warning: C:/Users/SKTPJ15/real/valdata\\cluster0_nk100_2143_2024-05-25_09-03-28.dat.csv is empty.\n",
      "Processing file: C:/Users/SKTPJ15/real/valdata\\cluster0_nk100_2143_2024-05-25_09-13-28.dat.csv\n",
      "Processing file: C:/Users/SKTPJ15/real/valdata\\cluster0_nk100_2143_2024-05-25_09-23-28.dat.csv\n",
      "Processing file: C:/Users/SKTPJ15/real/valdata\\cluster0_nk100_2143_2024-05-25_09-33-28.dat.csv\n",
      "Processing file: C:/Users/SKTPJ15/real/valdata\\cluster0_nk100_2143_2024-05-25_09-43-28.dat.csv\n",
      "Processing file: C:/Users/SKTPJ15/real/valdata\\cluster0_nk100_2143_2024-05-25_09-53-28.dat.csv\n",
      "Processing file: C:/Users/SKTPJ15/real/valdata\\cluster0_nk100_2143_2024-05-25_10-03-28.dat.csv\n",
      "Processing file: C:/Users/SKTPJ15/real/valdata\\cluster0_nk100_2143_2024-05-25_10-13-28.dat.csv\n",
      "Processing file: C:/Users/SKTPJ15/real/valdata\\cluster0_nk100_2143_2024-05-25_10-23-28.dat.csv\n",
      "Processing file: C:/Users/SKTPJ15/real/valdata\\cluster0_nk100_2143_2024-05-25_10-33-28.dat.csv\n",
      "Processing file: C:/Users/SKTPJ15/real/valdata\\cluster0_nk100_2143_2024-05-25_10-43-28.dat.csv\n",
      "Processing file: C:/Users/SKTPJ15/real/valdata\\cluster0_nk100_2143_2024-05-25_10-53-28.dat.csv\n",
      "Processing file: C:/Users/SKTPJ15/real/valdata\\cluster0_nk100_2143_2024-05-25_11-03-28.dat.csv\n",
      "Processing file: C:/Users/SKTPJ15/real/valdata\\cluster0_nk100_2143_2024-05-25_11-13-28.dat.csv\n",
      "Processing file: C:/Users/SKTPJ15/real/valdata\\cluster0_nk100_2143_2024-05-25_11-23-28.dat.csv\n",
      "Processing file: C:/Users/SKTPJ15/real/valdata\\cluster0_nk100_2143_2024-05-25_11-33-28.dat.csv\n",
      "Processing file: C:/Users/SKTPJ15/real/valdata\\cluster0_nk100_2143_2024-05-25_11-43-28.dat.csv\n",
      "Warning: C:/Users/SKTPJ15/real/valdata\\cluster0_nk100_2143_2024-05-25_11-43-28.dat.csv is empty.\n",
      "Processing file: C:/Users/SKTPJ15/real/valdata\\cluster0_nk100_2143_2024-05-25_11-53-28.dat.csv\n",
      "Processing file: C:/Users/SKTPJ15/real/valdata\\cluster0_nk100_2143_2024-05-25_12-03-28.dat.csv\n",
      "Processing file: C:/Users/SKTPJ15/real/valdata\\cluster0_nk100_2143_2024-05-25_12-13-28.dat.csv\n",
      "Processing file: C:/Users/SKTPJ15/real/valdata\\cluster0_nk100_2143_2024-05-25_12-23-28.dat.csv\n",
      "Processing file: C:/Users/SKTPJ15/real/valdata\\cluster0_nk100_2641_2024-04-14_12-11-38.dat.csv\n",
      "Processing file: C:/Users/SKTPJ15/real/valdata\\cluster0_nk100_2641_2024-04-14_12-21-38.dat.csv\n",
      "Processing file: C:/Users/SKTPJ15/real/valdata\\cluster0_nk100_2641_2024-04-14_12-31-38.dat.csv\n",
      "Warning: C:/Users/SKTPJ15/real/valdata\\cluster0_nk100_2641_2024-04-14_12-31-38.dat.csv is empty.\n",
      "Processing file: C:/Users/SKTPJ15/real/valdata\\cluster0_nk100_2641_2024-04-14_12-41-38.dat.csv\n",
      "Warning: C:/Users/SKTPJ15/real/valdata\\cluster0_nk100_2641_2024-04-14_12-41-38.dat.csv is empty.\n",
      "Processing file: C:/Users/SKTPJ15/real/valdata\\cluster0_nk100_2641_2024-04-14_12-51-38.dat.csv\n",
      "Warning: C:/Users/SKTPJ15/real/valdata\\cluster0_nk100_2641_2024-04-14_12-51-38.dat.csv is empty.\n",
      "Processing file: C:/Users/SKTPJ15/real/valdata\\cluster0_nk100_2641_2024-04-14_13-01-38.dat.csv\n",
      "Warning: C:/Users/SKTPJ15/real/valdata\\cluster0_nk100_2641_2024-04-14_13-01-38.dat.csv is empty.\n",
      "Processing file: C:/Users/SKTPJ15/real/valdata\\cluster0_nk100_2641_2024-04-14_13-11-38.dat.csv\n",
      "Warning: C:/Users/SKTPJ15/real/valdata\\cluster0_nk100_2641_2024-04-14_13-11-38.dat.csv is empty.\n",
      "Processing file: C:/Users/SKTPJ15/real/valdata\\cluster0_nk100_2641_2024-04-14_13-21-38.dat.csv\n",
      "Warning: C:/Users/SKTPJ15/real/valdata\\cluster0_nk100_2641_2024-04-14_13-21-38.dat.csv is empty.\n",
      "Processing file: C:/Users/SKTPJ15/real/valdata\\cluster0_nk100_2641_2024-04-14_13-31-38.dat.csv\n",
      "Warning: C:/Users/SKTPJ15/real/valdata\\cluster0_nk100_2641_2024-04-14_13-31-38.dat.csv is empty.\n",
      "Processing file: C:/Users/SKTPJ15/real/valdata\\cluster0_nk100_2641_2024-04-14_13-41-38.dat.csv\n",
      "Warning: C:/Users/SKTPJ15/real/valdata\\cluster0_nk100_2641_2024-04-14_13-41-38.dat.csv is empty.\n",
      "Processing file: C:/Users/SKTPJ15/real/valdata\\cluster0_nk100_2641_2024-04-14_13-51-38.dat.csv\n",
      "Warning: C:/Users/SKTPJ15/real/valdata\\cluster0_nk100_2641_2024-04-14_13-51-38.dat.csv is empty.\n",
      "Processing file: C:/Users/SKTPJ15/real/valdata\\cluster0_nk100_2641_2024-04-14_14-01-38.dat.csv\n",
      "Warning: C:/Users/SKTPJ15/real/valdata\\cluster0_nk100_2641_2024-04-14_14-01-38.dat.csv is empty.\n",
      "Processing file: C:/Users/SKTPJ15/real/valdata\\cluster0_nk100_2641_2024-04-14_14-11-38.dat.csv\n",
      "Warning: C:/Users/SKTPJ15/real/valdata\\cluster0_nk100_2641_2024-04-14_14-11-38.dat.csv is empty.\n",
      "Processing file: C:/Users/SKTPJ15/real/valdata\\cluster0_nk100_2641_2024-04-14_14-21-38.dat.csv\n",
      "Warning: C:/Users/SKTPJ15/real/valdata\\cluster0_nk100_2641_2024-04-14_14-21-38.dat.csv is empty.\n",
      "Processing file: C:/Users/SKTPJ15/real/valdata\\cluster0_nk100_2641_2024-04-14_14-31-38.dat.csv\n",
      "Warning: C:/Users/SKTPJ15/real/valdata\\cluster0_nk100_2641_2024-04-14_14-31-38.dat.csv is empty.\n",
      "Processing file: C:/Users/SKTPJ15/real/valdata\\cluster0_nk100_2641_2024-04-14_14-41-38.dat.csv\n",
      "Processing file: C:/Users/SKTPJ15/real/valdata\\cluster0_nk100_2641_2024-04-14_14-51-38.dat.csv\n",
      "Processing file: C:/Users/SKTPJ15/real/valdata\\cluster0_nk100_2641_2024-04-14_15-01-38.dat.csv\n",
      "Processing file: C:/Users/SKTPJ15/real/valdata\\cluster0_nk100_2641_2024-04-14_15-11-38.dat.csv\n",
      "Processing file: C:/Users/SKTPJ15/real/valdata\\cluster0_nk100_2641_2024-04-14_15-21-38.dat.csv\n",
      "Warning: C:/Users/SKTPJ15/real/valdata\\cluster0_nk100_2641_2024-04-14_15-21-38.dat.csv is empty.\n",
      "Processing file: C:/Users/SKTPJ15/real/valdata\\cluster0_nk100_2641_2024-04-14_15-31-38.dat.csv\n",
      "Warning: C:/Users/SKTPJ15/real/valdata\\cluster0_nk100_2641_2024-04-14_15-31-38.dat.csv is empty.\n",
      "Processing file: C:/Users/SKTPJ15/real/valdata\\cluster0_nk100_2641_2024-04-14_15-41-38.dat.csv\n",
      "Processing file: C:/Users/SKTPJ15/real/valdata\\cluster0_nk100_2641_2024-04-14_15-51-38.dat.csv\n",
      "Processing file: C:/Users/SKTPJ15/real/valdata\\cluster0_nk100_2641_2024-04-14_16-01-38.dat.csv\n",
      "Processing file: C:/Users/SKTPJ15/real/valdata\\cluster0_nk100_2641_2024-04-14_16-11-38.dat.csv\n",
      "Processing file: C:/Users/SKTPJ15/real/valdata\\cluster0_nk100_2641_2024-04-14_16-21-38.dat.csv\n",
      "Processing file: C:/Users/SKTPJ15/real/valdata\\cluster0_nk100_2641_2024-04-14_16-31-38.dat.csv\n",
      "Processing file: C:/Users/SKTPJ15/real/valdata\\cluster0_nk100_2641_2024-04-14_16-41-38.dat.csv\n",
      "Processing file: C:/Users/SKTPJ15/real/valdata\\cluster0_nk100_2641_2024-04-14_16-51-38.dat.csv\n",
      "Processing file: C:/Users/SKTPJ15/real/valdata\\cluster0_nk100_2641_2024-04-14_17-01-38.dat.csv\n",
      "Processing file: C:/Users/SKTPJ15/real/valdata\\cluster0_nk100_2641_2024-04-14_17-11-38.dat.csv\n",
      "Processing file: C:/Users/SKTPJ15/real/valdata\\cluster0_nk100_2641_2024-04-14_17-21-38.dat.csv\n",
      "Processing file: C:/Users/SKTPJ15/real/valdata\\cluster0_nk100_2641_2024-04-14_17-31-38.dat.csv\n",
      "Processing file: C:/Users/SKTPJ15/real/valdata\\cluster0_nk100_2641_2024-04-14_17-41-38.dat.csv\n",
      "Processing file: C:/Users/SKTPJ15/real/valdata\\cluster0_nk100_2641_2024-04-14_17-51-38.dat.csv\n",
      "Processing file: C:/Users/SKTPJ15/real/valdata\\cluster0_nk100_2641_2024-04-14_18-01-38.dat.csv\n",
      "Warning: C:/Users/SKTPJ15/real/valdata\\cluster0_nk100_2641_2024-04-14_18-01-38.dat.csv is empty.\n",
      "Processing file: C:/Users/SKTPJ15/real/valdata\\cluster0_nk100_2641_2024-04-14_18-11-38.dat.csv\n",
      "Processing file: C:/Users/SKTPJ15/real/valdata\\cluster0_nk100_2641_2024-04-14_18-21-38.dat.csv\n",
      "Warning: C:/Users/SKTPJ15/real/valdata\\cluster0_nk100_2641_2024-04-14_18-21-38.dat.csv is empty.\n",
      "Processing file: C:/Users/SKTPJ15/real/valdata\\cluster0_nk100_2641_2024-04-14_18-31-38.dat.csv\n",
      "Processing file: C:/Users/SKTPJ15/real/valdata\\cluster0_nk100_2641_2024-04-14_18-41-38.dat.csv\n",
      "Processing file: C:/Users/SKTPJ15/real/valdata\\cluster0_nk100_2641_2024-04-14_18-51-38.dat.csv\n",
      "Warning: C:/Users/SKTPJ15/real/valdata\\cluster0_nk100_2641_2024-04-14_18-51-38.dat.csv is empty.\n",
      "Processing file: C:/Users/SKTPJ15/real/valdata\\cluster0_nk100_2641_2024-04-14_19-01-38.dat.csv\n",
      "Processing file: C:/Users/SKTPJ15/real/valdata\\cluster0_nk100_2641_2024-04-14_19-11-38.dat.csv\n",
      "Processing file: C:/Users/SKTPJ15/real/valdata\\cluster0_nk100_2641_2024-04-14_19-21-38.dat.csv\n",
      "Processing file: C:/Users/SKTPJ15/real/valdata\\cluster0_nk100_2641_2024-04-14_19-31-38.dat.csv\n",
      "Processing file: C:/Users/SKTPJ15/real/valdata\\cluster0_nk100_2641_2024-04-14_19-41-38.dat.csv\n",
      "Warning: C:/Users/SKTPJ15/real/valdata\\cluster0_nk100_2641_2024-04-14_19-41-38.dat.csv is empty.\n",
      "Processing file: C:/Users/SKTPJ15/real/valdata\\cluster0_nk100_2641_2024-04-14_19-51-38.dat.csv\n",
      "Warning: C:/Users/SKTPJ15/real/valdata\\cluster0_nk100_2641_2024-04-14_19-51-38.dat.csv is empty.\n",
      "Processing file: C:/Users/SKTPJ15/real/valdata\\cluster0_nk100_2641_2024-04-14_20-01-38.dat.csv\n",
      "Warning: C:/Users/SKTPJ15/real/valdata\\cluster0_nk100_2641_2024-04-14_20-01-38.dat.csv is empty.\n",
      "Processing file: C:/Users/SKTPJ15/real/valdata\\cluster0_nk100_2641_2024-04-14_20-11-38.dat.csv\n",
      "Warning: C:/Users/SKTPJ15/real/valdata\\cluster0_nk100_2641_2024-04-14_20-11-38.dat.csv is empty.\n",
      "Processing file: C:/Users/SKTPJ15/real/valdata\\cluster0_nk100_2641_2024-04-14_20-21-38.dat.csv\n",
      "Warning: C:/Users/SKTPJ15/real/valdata\\cluster0_nk100_2641_2024-04-14_20-21-38.dat.csv is empty.\n",
      "Processing file: C:/Users/SKTPJ15/real/valdata\\cluster0_nk100_2641_2024-04-14_20-31-38.dat.csv\n",
      "Warning: C:/Users/SKTPJ15/real/valdata\\cluster0_nk100_2641_2024-04-14_20-31-38.dat.csv is empty.\n",
      "Processing file: C:/Users/SKTPJ15/real/valdata\\cluster0_nk100_2641_2024-04-14_20-41-38.dat.csv\n",
      "Warning: C:/Users/SKTPJ15/real/valdata\\cluster0_nk100_2641_2024-04-14_20-41-38.dat.csv is empty.\n",
      "Processing file: C:/Users/SKTPJ15/real/valdata\\cluster0_nk100_2641_2024-04-14_20-51-38.dat.csv\n",
      "Warning: C:/Users/SKTPJ15/real/valdata\\cluster0_nk100_2641_2024-04-14_20-51-38.dat.csv is empty.\n",
      "Processing file: C:/Users/SKTPJ15/real/valdata\\cluster0_nk100_2641_2024-04-14_21-01-38.dat.csv\n",
      "Warning: C:/Users/SKTPJ15/real/valdata\\cluster0_nk100_2641_2024-04-14_21-01-38.dat.csv is empty.\n",
      "Processing file: C:/Users/SKTPJ15/real/valdata\\cluster0_nk100_2641_2024-04-14_21-11-38.dat.csv\n",
      "Warning: C:/Users/SKTPJ15/real/valdata\\cluster0_nk100_2641_2024-04-14_21-11-38.dat.csv is empty.\n",
      "Processing file: C:/Users/SKTPJ15/real/valdata\\cluster0_nk100_2641_2024-04-14_21-21-38.dat.csv\n",
      "Warning: C:/Users/SKTPJ15/real/valdata\\cluster0_nk100_2641_2024-04-14_21-21-38.dat.csv is empty.\n",
      "Processing file: C:/Users/SKTPJ15/real/valdata\\cluster0_nk100_2641_2024-04-14_21-31-38.dat.csv\n",
      "Warning: C:/Users/SKTPJ15/real/valdata\\cluster0_nk100_2641_2024-04-14_21-31-38.dat.csv is empty.\n",
      "Processing file: C:/Users/SKTPJ15/real/valdata\\cluster0_nk100_2641_2024-04-14_21-41-38.dat.csv\n",
      "Warning: C:/Users/SKTPJ15/real/valdata\\cluster0_nk100_2641_2024-04-14_21-41-38.dat.csv is empty.\n",
      "Processing file: C:/Users/SKTPJ15/real/valdata\\cluster0_nk100_2641_2024-04-14_21-51-38.dat.csv\n",
      "Warning: C:/Users/SKTPJ15/real/valdata\\cluster0_nk100_2641_2024-04-14_21-51-38.dat.csv is empty.\n",
      "Processing file: C:/Users/SKTPJ15/real/valdata\\cluster0_nk100_2641_2024-04-14_22-01-38.dat.csv\n",
      "Warning: C:/Users/SKTPJ15/real/valdata\\cluster0_nk100_2641_2024-04-14_22-01-38.dat.csv is empty.\n",
      "Processing file: C:/Users/SKTPJ15/real/valdata\\cluster0_nk100_2641_2024-04-14_22-11-38.dat.csv\n",
      "Warning: C:/Users/SKTPJ15/real/valdata\\cluster0_nk100_2641_2024-04-14_22-11-38.dat.csv is empty.\n",
      "Processing file: C:/Users/SKTPJ15/real/valdata\\cluster0_nk100_2641_2024-04-14_22-21-38.dat.csv\n",
      "Warning: C:/Users/SKTPJ15/real/valdata\\cluster0_nk100_2641_2024-04-14_22-21-38.dat.csv is empty.\n",
      "Processing file: C:/Users/SKTPJ15/real/valdata\\cluster0_nk100_2641_2024-04-14_22-31-38.dat.csv\n",
      "Warning: C:/Users/SKTPJ15/real/valdata\\cluster0_nk100_2641_2024-04-14_22-31-38.dat.csv is empty.\n",
      "Processing file: C:/Users/SKTPJ15/real/valdata\\cluster0_nk100_2641_2024-04-14_22-41-38.dat.csv\n",
      "Warning: C:/Users/SKTPJ15/real/valdata\\cluster0_nk100_2641_2024-04-14_22-41-38.dat.csv is empty.\n",
      "Processing file: C:/Users/SKTPJ15/real/valdata\\cluster0_nk100_2641_2024-04-14_22-51-38.dat.csv\n",
      "Warning: C:/Users/SKTPJ15/real/valdata\\cluster0_nk100_2641_2024-04-14_22-51-38.dat.csv is empty.\n",
      "Processing file: C:/Users/SKTPJ15/real/valdata\\cluster0_nk100_2641_2024-04-14_23-01-38.dat.csv\n",
      "Warning: C:/Users/SKTPJ15/real/valdata\\cluster0_nk100_2641_2024-04-14_23-01-38.dat.csv is empty.\n",
      "Processing file: C:/Users/SKTPJ15/real/valdata\\cluster0_nk100_2641_2024-04-14_23-11-38.dat.csv\n",
      "Warning: C:/Users/SKTPJ15/real/valdata\\cluster0_nk100_2641_2024-04-14_23-11-38.dat.csv is empty.\n",
      "Processing file: C:/Users/SKTPJ15/real/valdata\\cluster0_nk100_2641_2024-04-14_23-21-38.dat.csv\n",
      "Warning: C:/Users/SKTPJ15/real/valdata\\cluster0_nk100_2641_2024-04-14_23-21-38.dat.csv is empty.\n",
      "Processing file: C:/Users/SKTPJ15/real/valdata\\cluster0_nk100_2641_2024-04-14_23-31-38.dat.csv\n",
      "Warning: C:/Users/SKTPJ15/real/valdata\\cluster0_nk100_2641_2024-04-14_23-31-38.dat.csv is empty.\n",
      "Processing file: C:/Users/SKTPJ15/real/valdata\\cluster0_nk100_2641_2024-04-14_23-41-38.dat.csv\n",
      "Warning: C:/Users/SKTPJ15/real/valdata\\cluster0_nk100_2641_2024-04-14_23-41-38.dat.csv is empty.\n",
      "Processing file: C:/Users/SKTPJ15/real/valdata\\cluster0_nk100_2641_2024-04-14_23-51-38.dat.csv\n",
      "Warning: C:/Users/SKTPJ15/real/valdata\\cluster0_nk100_2641_2024-04-14_23-51-38.dat.csv is empty.\n",
      "Processing file: C:/Users/SKTPJ15/real/valdata\\cluster0_nk100_2641_2024-04-15_00-01-38.dat.csv\n",
      "Warning: C:/Users/SKTPJ15/real/valdata\\cluster0_nk100_2641_2024-04-15_00-01-38.dat.csv is empty.\n",
      "Processing file: C:/Users/SKTPJ15/real/valdata\\cluster0_nk100_2641_2024-04-15_00-11-38.dat.csv\n",
      "Warning: C:/Users/SKTPJ15/real/valdata\\cluster0_nk100_2641_2024-04-15_00-11-38.dat.csv is empty.\n",
      "Processing file: C:/Users/SKTPJ15/real/valdata\\cluster0_nk100_2641_2024-04-15_00-21-38.dat.csv\n",
      "Warning: C:/Users/SKTPJ15/real/valdata\\cluster0_nk100_2641_2024-04-15_00-21-38.dat.csv is empty.\n",
      "Processing file: C:/Users/SKTPJ15/real/valdata\\cluster0_nk100_2641_2024-04-15_00-31-38.dat.csv\n",
      "Warning: C:/Users/SKTPJ15/real/valdata\\cluster0_nk100_2641_2024-04-15_00-31-38.dat.csv is empty.\n",
      "Processing file: C:/Users/SKTPJ15/real/valdata\\cluster0_nk100_2641_2024-04-15_00-41-38.dat.csv\n",
      "Warning: C:/Users/SKTPJ15/real/valdata\\cluster0_nk100_2641_2024-04-15_00-41-38.dat.csv is empty.\n",
      "Processing file: C:/Users/SKTPJ15/real/valdata\\cluster0_nk100_2641_2024-04-15_00-51-38.dat.csv\n",
      "Warning: C:/Users/SKTPJ15/real/valdata\\cluster0_nk100_2641_2024-04-15_00-51-38.dat.csv is empty.\n",
      "Processing file: C:/Users/SKTPJ15/real/valdata\\cluster0_nk100_2641_2024-04-15_01-01-38.dat.csv\n",
      "Warning: C:/Users/SKTPJ15/real/valdata\\cluster0_nk100_2641_2024-04-15_01-01-38.dat.csv is empty.\n",
      "Processing file: C:/Users/SKTPJ15/real/valdata\\cluster0_nk100_2641_2024-04-15_01-11-38.dat.csv\n",
      "Warning: C:/Users/SKTPJ15/real/valdata\\cluster0_nk100_2641_2024-04-15_01-11-38.dat.csv is empty.\n",
      "Processing file: C:/Users/SKTPJ15/real/valdata\\cluster0_nk100_2641_2024-04-15_01-21-38.dat.csv\n",
      "Warning: C:/Users/SKTPJ15/real/valdata\\cluster0_nk100_2641_2024-04-15_01-21-38.dat.csv is empty.\n",
      "Processing file: C:/Users/SKTPJ15/real/valdata\\cluster0_nk100_2641_2024-04-15_01-31-38.dat.csv\n",
      "Warning: C:/Users/SKTPJ15/real/valdata\\cluster0_nk100_2641_2024-04-15_01-31-38.dat.csv is empty.\n",
      "Processing file: C:/Users/SKTPJ15/real/valdata\\cluster0_nk100_2641_2024-04-15_01-41-38.dat.csv\n",
      "Warning: C:/Users/SKTPJ15/real/valdata\\cluster0_nk100_2641_2024-04-15_01-41-38.dat.csv is empty.\n",
      "Processing file: C:/Users/SKTPJ15/real/valdata\\cluster0_nk100_2641_2024-04-15_01-51-38.dat.csv\n",
      "Warning: C:/Users/SKTPJ15/real/valdata\\cluster0_nk100_2641_2024-04-15_01-51-38.dat.csv is empty.\n",
      "Processing file: C:/Users/SKTPJ15/real/valdata\\cluster0_nk100_2641_2024-04-15_02-01-38.dat.csv\n",
      "Warning: C:/Users/SKTPJ15/real/valdata\\cluster0_nk100_2641_2024-04-15_02-01-38.dat.csv is empty.\n",
      "Processing file: C:/Users/SKTPJ15/real/valdata\\cluster0_nk100_2641_2024-04-15_02-11-38.dat.csv\n",
      "Warning: C:/Users/SKTPJ15/real/valdata\\cluster0_nk100_2641_2024-04-15_02-11-38.dat.csv is empty.\n",
      "Processing file: C:/Users/SKTPJ15/real/valdata\\cluster0_nk100_2641_2024-04-15_02-21-38.dat.csv\n",
      "Warning: C:/Users/SKTPJ15/real/valdata\\cluster0_nk100_2641_2024-04-15_02-21-38.dat.csv is empty.\n",
      "Processing file: C:/Users/SKTPJ15/real/valdata\\cluster0_nk100_2641_2024-04-15_02-31-38.dat.csv\n",
      "Warning: C:/Users/SKTPJ15/real/valdata\\cluster0_nk100_2641_2024-04-15_02-31-38.dat.csv is empty.\n",
      "Processing file: C:/Users/SKTPJ15/real/valdata\\cluster0_nk100_2641_2024-04-15_02-41-38.dat.csv\n",
      "Warning: C:/Users/SKTPJ15/real/valdata\\cluster0_nk100_2641_2024-04-15_02-41-38.dat.csv is empty.\n",
      "Processing file: C:/Users/SKTPJ15/real/valdata\\cluster0_nk100_2641_2024-04-15_02-51-38.dat.csv\n",
      "Warning: C:/Users/SKTPJ15/real/valdata\\cluster0_nk100_2641_2024-04-15_02-51-38.dat.csv is empty.\n",
      "Processing file: C:/Users/SKTPJ15/real/valdata\\cluster0_nk100_2641_2024-04-15_03-01-38.dat.csv\n",
      "Processing file: C:/Users/SKTPJ15/real/valdata\\cluster0_nk100_2641_2024-04-15_03-11-38.dat.csv\n",
      "Warning: C:/Users/SKTPJ15/real/valdata\\cluster0_nk100_2641_2024-04-15_03-11-38.dat.csv is empty.\n",
      "Processing file: C:/Users/SKTPJ15/real/valdata\\cluster0_nk100_2641_2024-04-15_03-21-38.dat.csv\n",
      "Warning: C:/Users/SKTPJ15/real/valdata\\cluster0_nk100_2641_2024-04-15_03-21-38.dat.csv is empty.\n",
      "Processing file: C:/Users/SKTPJ15/real/valdata\\cluster0_nk100_2641_2024-04-15_03-31-38.dat.csv\n",
      "Warning: C:/Users/SKTPJ15/real/valdata\\cluster0_nk100_2641_2024-04-15_03-31-38.dat.csv is empty.\n",
      "Processing file: C:/Users/SKTPJ15/real/valdata\\cluster0_nk100_2641_2024-04-15_03-41-38.dat.csv\n",
      "Processing file: C:/Users/SKTPJ15/real/valdata\\cluster0_nk100_2641_2024-04-15_03-51-38.dat.csv\n",
      "Processing file: C:/Users/SKTPJ15/real/valdata\\cluster0_nk100_2641_2024-04-15_04-01-38.dat.csv\n",
      "Processing file: C:/Users/SKTPJ15/real/valdata\\cluster0_nk100_2641_2024-04-15_04-11-38.dat.csv\n",
      "Processing file: C:/Users/SKTPJ15/real/valdata\\cluster0_nk100_2641_2024-04-15_04-21-38.dat.csv\n",
      "Processing file: C:/Users/SKTPJ15/real/valdata\\cluster0_nk100_2641_2024-04-15_04-31-38.dat.csv\n",
      "Processing file: C:/Users/SKTPJ15/real/valdata\\cluster0_nk100_2641_2024-04-15_04-41-38.dat.csv\n",
      "Warning: C:/Users/SKTPJ15/real/valdata\\cluster0_nk100_2641_2024-04-15_04-41-38.dat.csv is empty.\n",
      "Processing file: C:/Users/SKTPJ15/real/valdata\\cluster0_nk100_2641_2024-04-15_04-51-38.dat.csv\n",
      "Warning: C:/Users/SKTPJ15/real/valdata\\cluster0_nk100_2641_2024-04-15_04-51-38.dat.csv is empty.\n",
      "Processing file: C:/Users/SKTPJ15/real/valdata\\cluster0_nk100_2641_2024-04-15_05-01-38.dat.csv\n",
      "Processing file: C:/Users/SKTPJ15/real/valdata\\cluster0_nk100_2641_2024-04-15_05-11-38.dat.csv\n",
      "Processing file: C:/Users/SKTPJ15/real/valdata\\cluster0_nk100_2641_2024-04-15_05-21-38.dat.csv\n",
      "Warning: C:/Users/SKTPJ15/real/valdata\\cluster0_nk100_2641_2024-04-15_05-21-38.dat.csv is empty.\n",
      "Processing file: C:/Users/SKTPJ15/real/valdata\\cluster0_nk100_2641_2024-04-15_05-31-38.dat.csv\n",
      "Processing file: C:/Users/SKTPJ15/real/valdata\\cluster0_nk100_2641_2024-04-15_05-41-38.dat.csv\n",
      "Warning: C:/Users/SKTPJ15/real/valdata\\cluster0_nk100_2641_2024-04-15_05-41-38.dat.csv is empty.\n",
      "Processing file: C:/Users/SKTPJ15/real/valdata\\cluster0_nk100_2641_2024-04-15_05-51-38.dat.csv\n",
      "Warning: C:/Users/SKTPJ15/real/valdata\\cluster0_nk100_2641_2024-04-15_05-51-38.dat.csv is empty.\n",
      "Processing file: C:/Users/SKTPJ15/real/valdata\\cluster0_nk100_2641_2024-04-15_06-01-38.dat.csv\n",
      "Processing file: C:/Users/SKTPJ15/real/valdata\\cluster0_nk100_2641_2024-04-15_06-11-38.dat.csv\n",
      "Warning: C:/Users/SKTPJ15/real/valdata\\cluster0_nk100_2641_2024-04-15_06-11-38.dat.csv is empty.\n",
      "Processing file: C:/Users/SKTPJ15/real/valdata\\cluster0_nk100_2641_2024-04-15_06-21-38.dat.csv\n",
      "Warning: C:/Users/SKTPJ15/real/valdata\\cluster0_nk100_2641_2024-04-15_06-21-38.dat.csv is empty.\n",
      "Processing file: C:/Users/SKTPJ15/real/valdata\\cluster0_nk100_2641_2024-04-15_06-31-38.dat.csv\n",
      "Warning: C:/Users/SKTPJ15/real/valdata\\cluster0_nk100_2641_2024-04-15_06-31-38.dat.csv is empty.\n",
      "Processing file: C:/Users/SKTPJ15/real/valdata\\cluster0_nk100_2641_2024-04-15_06-41-38.dat.csv\n",
      "Processing file: C:/Users/SKTPJ15/real/valdata\\cluster0_nk100_2641_2024-04-15_06-51-38.dat.csv\n",
      "Warning: C:/Users/SKTPJ15/real/valdata\\cluster0_nk100_2641_2024-04-15_06-51-38.dat.csv is empty.\n",
      "Processing file: C:/Users/SKTPJ15/real/valdata\\cluster0_nk100_2641_2024-04-15_07-01-38.dat.csv\n",
      "Warning: C:/Users/SKTPJ15/real/valdata\\cluster0_nk100_2641_2024-04-15_07-01-38.dat.csv is empty.\n",
      "Processing file: C:/Users/SKTPJ15/real/valdata\\cluster0_nk100_2641_2024-04-15_07-11-38.dat.csv\n",
      "Warning: C:/Users/SKTPJ15/real/valdata\\cluster0_nk100_2641_2024-04-15_07-11-38.dat.csv is empty.\n",
      "Processing file: C:/Users/SKTPJ15/real/valdata\\cluster0_nk100_2641_2024-04-15_07-21-38.dat.csv\n",
      "Processing file: C:/Users/SKTPJ15/real/valdata\\cluster0_nk100_2641_2024-04-15_07-31-38.dat.csv\n",
      "Processing file: C:/Users/SKTPJ15/real/valdata\\cluster0_nk100_2641_2024-04-15_07-41-38.dat.csv\n",
      "Processing file: C:/Users/SKTPJ15/real/valdata\\cluster0_nk100_2641_2024-04-15_07-51-38.dat.csv\n",
      "Processing file: C:/Users/SKTPJ15/real/valdata\\cluster0_nk100_2641_2024-04-15_08-01-38.dat.csv\n",
      "Warning: C:/Users/SKTPJ15/real/valdata\\cluster0_nk100_2641_2024-04-15_08-01-38.dat.csv is empty.\n",
      "Processing file: C:/Users/SKTPJ15/real/valdata\\cluster0_nk100_2641_2024-04-15_08-11-38.dat.csv\n",
      "Warning: C:/Users/SKTPJ15/real/valdata\\cluster0_nk100_2641_2024-04-15_08-11-38.dat.csv is empty.\n",
      "Processing file: C:/Users/SKTPJ15/real/valdata\\cluster0_nk100_2641_2024-04-15_08-21-38.dat.csv\n",
      "Warning: C:/Users/SKTPJ15/real/valdata\\cluster0_nk100_2641_2024-04-15_08-21-38.dat.csv is empty.\n",
      "Processing file: C:/Users/SKTPJ15/real/valdata\\cluster0_nk100_2641_2024-04-15_08-31-38.dat.csv\n",
      "Warning: C:/Users/SKTPJ15/real/valdata\\cluster0_nk100_2641_2024-04-15_08-31-38.dat.csv is empty.\n",
      "Processing file: C:/Users/SKTPJ15/real/valdata\\cluster0_nk100_2641_2024-04-15_08-41-38.dat.csv\n",
      "Warning: C:/Users/SKTPJ15/real/valdata\\cluster0_nk100_2641_2024-04-15_08-41-38.dat.csv is empty.\n",
      "Processing file: C:/Users/SKTPJ15/real/valdata\\cluster0_nk100_2641_2024-04-15_08-51-38.dat.csv\n",
      "Processing file: C:/Users/SKTPJ15/real/valdata\\cluster0_nk100_2641_2024-04-15_09-01-38.dat.csv\n",
      "Processing file: C:/Users/SKTPJ15/real/valdata\\cluster0_nk100_2641_2024-04-15_09-11-38.dat.csv\n",
      "Warning: C:/Users/SKTPJ15/real/valdata\\cluster0_nk100_2641_2024-04-15_09-11-38.dat.csv is empty.\n",
      "Processing file: C:/Users/SKTPJ15/real/valdata\\cluster0_nk100_2641_2024-04-15_09-21-38.dat.csv\n",
      "Warning: C:/Users/SKTPJ15/real/valdata\\cluster0_nk100_2641_2024-04-15_09-21-38.dat.csv is empty.\n",
      "Processing file: C:/Users/SKTPJ15/real/valdata\\cluster0_nk100_2641_2024-04-15_09-31-38.dat.csv\n",
      "Warning: C:/Users/SKTPJ15/real/valdata\\cluster0_nk100_2641_2024-04-15_09-31-38.dat.csv is empty.\n",
      "Processing file: C:/Users/SKTPJ15/real/valdata\\cluster0_nk100_2641_2024-04-15_09-41-38.dat.csv\n",
      "Warning: C:/Users/SKTPJ15/real/valdata\\cluster0_nk100_2641_2024-04-15_09-41-38.dat.csv is empty.\n",
      "Processing file: C:/Users/SKTPJ15/real/valdata\\cluster0_nk100_2641_2024-04-15_09-51-38.dat.csv\n",
      "Warning: C:/Users/SKTPJ15/real/valdata\\cluster0_nk100_2641_2024-04-15_09-51-38.dat.csv is empty.\n",
      "Processing file: C:/Users/SKTPJ15/real/valdata\\cluster0_nk100_2641_2024-04-15_10-01-38.dat.csv\n",
      "Warning: C:/Users/SKTPJ15/real/valdata\\cluster0_nk100_2641_2024-04-15_10-01-38.dat.csv is empty.\n",
      "Processing file: C:/Users/SKTPJ15/real/valdata\\cluster0_nk100_2641_2024-04-15_10-11-38.dat.csv\n",
      "Warning: C:/Users/SKTPJ15/real/valdata\\cluster0_nk100_2641_2024-04-15_10-11-38.dat.csv is empty.\n",
      "Processing file: C:/Users/SKTPJ15/real/valdata\\cluster0_nk100_2641_2024-04-15_10-21-38.dat.csv\n",
      "Warning: C:/Users/SKTPJ15/real/valdata\\cluster0_nk100_2641_2024-04-15_10-21-38.dat.csv is empty.\n",
      "Processing file: C:/Users/SKTPJ15/real/valdata\\cluster0_nk100_2641_2024-04-15_10-31-38.dat.csv\n",
      "Warning: C:/Users/SKTPJ15/real/valdata\\cluster0_nk100_2641_2024-04-15_10-31-38.dat.csv is empty.\n",
      "Processing file: C:/Users/SKTPJ15/real/valdata\\cluster0_nk100_2641_2024-04-15_10-41-38.dat.csv\n",
      "Warning: C:/Users/SKTPJ15/real/valdata\\cluster0_nk100_2641_2024-04-15_10-41-38.dat.csv is empty.\n",
      "Processing file: C:/Users/SKTPJ15/real/valdata\\cluster0_nk100_2641_2024-04-15_10-51-38.dat.csv\n",
      "Warning: C:/Users/SKTPJ15/real/valdata\\cluster0_nk100_2641_2024-04-15_10-51-38.dat.csv is empty.\n",
      "Processing file: C:/Users/SKTPJ15/real/valdata\\cluster0_nk100_2641_2024-04-15_11-01-38.dat.csv\n",
      "Warning: C:/Users/SKTPJ15/real/valdata\\cluster0_nk100_2641_2024-04-15_11-01-38.dat.csv is empty.\n",
      "Processing file: C:/Users/SKTPJ15/real/valdata\\cluster0_nk100_2641_2024-04-15_11-11-38.dat.csv\n",
      "Warning: C:/Users/SKTPJ15/real/valdata\\cluster0_nk100_2641_2024-04-15_11-11-38.dat.csv is empty.\n",
      "Processing file: C:/Users/SKTPJ15/real/valdata\\cluster0_nk100_2641_2024-04-15_11-21-38.dat.csv\n",
      "Warning: C:/Users/SKTPJ15/real/valdata\\cluster0_nk100_2641_2024-04-15_11-21-38.dat.csv is empty.\n",
      "Processing file: C:/Users/SKTPJ15/real/valdata\\cluster0_nk100_2641_2024-04-15_11-31-38.dat.csv\n",
      "Warning: C:/Users/SKTPJ15/real/valdata\\cluster0_nk100_2641_2024-04-15_11-31-38.dat.csv is empty.\n",
      "Processing file: C:/Users/SKTPJ15/real/valdata\\cluster0_nk100_2641_2024-04-15_11-41-38.dat.csv\n",
      "Warning: C:/Users/SKTPJ15/real/valdata\\cluster0_nk100_2641_2024-04-15_11-41-38.dat.csv is empty.\n",
      "Processing file: C:/Users/SKTPJ15/real/valdata\\cluster0_nk100_2641_2024-04-15_11-51-38.dat.csv\n",
      "Processing file: C:/Users/SKTPJ15/real/valdata\\cluster0_nk100_2641_2024-04-15_12-01-38.dat.csv\n",
      "Warning: C:/Users/SKTPJ15/real/valdata\\cluster0_nk100_2641_2024-04-15_12-01-38.dat.csv is empty.\n",
      "Processing file: C:/Users/SKTPJ15/real/valdata\\cluster0_nk100_2641_2024-04-15_12-11-38.dat.csv\n",
      "Warning: C:/Users/SKTPJ15/real/valdata\\cluster0_nk100_2641_2024-04-15_12-11-38.dat.csv is empty.\n",
      "Processing file: C:/Users/SKTPJ15/real/valdata\\cluster0_nk100_2641_2024-04-15_12-21-38.dat.csv\n",
      "Warning: C:/Users/SKTPJ15/real/valdata\\cluster0_nk100_2641_2024-04-15_12-21-38.dat.csv is empty.\n",
      "Processing file: C:/Users/SKTPJ15/real/valdata\\cluster0_nk100_2641_2024-04-15_12-31-38.dat.csv\n",
      "Warning: C:/Users/SKTPJ15/real/valdata\\cluster0_nk100_2641_2024-04-15_12-31-38.dat.csv is empty.\n",
      "Processing file: C:/Users/SKTPJ15/real/valdata\\cluster0_nk100_2641_2024-04-15_12-41-38.dat.csv\n",
      "Processing file: C:/Users/SKTPJ15/real/valdata\\cluster0_nk100_2641_2024-04-15_12-51-38.dat.csv\n",
      "Processing file: C:/Users/SKTPJ15/real/valdata\\cluster0_nk100_2641_2024-04-15_13-01-38.dat.csv\n",
      "Warning: C:/Users/SKTPJ15/real/valdata\\cluster0_nk100_2641_2024-04-15_13-01-38.dat.csv is empty.\n",
      "Processing file: C:/Users/SKTPJ15/real/valdata\\cluster0_nk100_2641_2024-04-15_13-11-38.dat.csv\n",
      "Warning: C:/Users/SKTPJ15/real/valdata\\cluster0_nk100_2641_2024-04-15_13-11-38.dat.csv is empty.\n",
      "Processing file: C:/Users/SKTPJ15/real/valdata\\cluster0_nk100_2641_2024-04-15_13-21-38.dat.csv\n",
      "Processing file: C:/Users/SKTPJ15/real/valdata\\cluster0_nk100_2641_2024-04-15_13-31-38.dat.csv\n",
      "Processing file: C:/Users/SKTPJ15/real/valdata\\cluster0_nk100_2641_2024-04-15_13-41-38.dat.csv\n",
      "Processing file: C:/Users/SKTPJ15/real/valdata\\cluster0_nk100_2641_2024-04-15_13-51-38.dat.csv\n",
      "Processing file: C:/Users/SKTPJ15/real/valdata\\cluster0_nk100_2641_2024-04-15_14-01-38.dat.csv\n",
      "Warning: C:/Users/SKTPJ15/real/valdata\\cluster0_nk100_2641_2024-04-15_14-01-38.dat.csv is empty.\n",
      "Processing file: C:/Users/SKTPJ15/real/valdata\\cluster0_nk100_2641_2024-04-15_14-11-38.dat.csv\n",
      "Processing file: C:/Users/SKTPJ15/real/valdata\\cluster0_nk100_2641_2024-04-15_14-21-38.dat.csv\n",
      "Processing file: C:/Users/SKTPJ15/real/valdata\\cluster0_nk100_2641_2024-04-15_14-31-38.dat.csv\n",
      "Processing file: C:/Users/SKTPJ15/real/valdata\\cluster0_nk100_2641_2024-04-15_14-41-38.dat.csv\n",
      "Processing file: C:/Users/SKTPJ15/real/valdata\\cluster0_nk100_2641_2024-04-15_14-51-38.dat.csv\n",
      "Processing file: C:/Users/SKTPJ15/real/valdata\\cluster0_nk100_2641_2024-04-15_15-01-38.dat.csv\n",
      "Processing file: C:/Users/SKTPJ15/real/valdata\\cluster0_nk100_2641_2024-04-15_15-11-38.dat.csv\n",
      "Processing file: C:/Users/SKTPJ15/real/valdata\\cluster0_nk100_2641_2024-04-15_15-21-38.dat.csv\n",
      "Processing file: C:/Users/SKTPJ15/real/valdata\\cluster0_nk100_2641_2024-04-15_15-31-38.dat.csv\n",
      "Processing file: C:/Users/SKTPJ15/real/valdata\\cluster0_nk100_2641_2024-04-15_15-41-38.dat.csv\n",
      "Processing file: C:/Users/SKTPJ15/real/valdata\\cluster0_nk100_2641_2024-04-15_15-51-38.dat.csv\n",
      "Processing file: C:/Users/SKTPJ15/real/valdata\\cluster0_nk100_2641_2024-04-15_16-01-38.dat.csv\n",
      "Warning: C:/Users/SKTPJ15/real/valdata\\cluster0_nk100_2641_2024-04-15_16-01-38.dat.csv is empty.\n",
      "Processing file: C:/Users/SKTPJ15/real/valdata\\cluster0_nk100_2641_2024-04-15_16-11-38.dat.csv\n",
      "Warning: C:/Users/SKTPJ15/real/valdata\\cluster0_nk100_2641_2024-04-15_16-11-38.dat.csv is empty.\n",
      "Processing file: C:/Users/SKTPJ15/real/valdata\\cluster0_nk100_2641_2024-04-15_16-21-38.dat.csv\n",
      "Processing file: C:/Users/SKTPJ15/real/valdata\\cluster0_nk100_2641_2024-04-15_16-31-38.dat.csv\n",
      "Processing file: C:/Users/SKTPJ15/real/valdata\\cluster0_nk100_2641_2024-04-15_16-41-38.dat.csv\n",
      "Warning: C:/Users/SKTPJ15/real/valdata\\cluster0_nk100_2641_2024-04-15_16-41-38.dat.csv is empty.\n",
      "Processing file: C:/Users/SKTPJ15/real/valdata\\cluster0_nk100_2641_2024-04-15_16-51-38.dat.csv\n",
      "Warning: C:/Users/SKTPJ15/real/valdata\\cluster0_nk100_2641_2024-04-15_16-51-38.dat.csv is empty.\n",
      "Processing file: C:/Users/SKTPJ15/real/valdata\\cluster0_nk100_2641_2024-04-15_17-01-38.dat.csv\n",
      "Warning: C:/Users/SKTPJ15/real/valdata\\cluster0_nk100_2641_2024-04-15_17-01-38.dat.csv is empty.\n",
      "Processing file: C:/Users/SKTPJ15/real/valdata\\cluster0_nk100_2641_2024-04-15_17-11-38.dat.csv\n",
      "Warning: C:/Users/SKTPJ15/real/valdata\\cluster0_nk100_2641_2024-04-15_17-11-38.dat.csv is empty.\n",
      "Processing file: C:/Users/SKTPJ15/real/valdata\\cluster0_nk100_2641_2024-04-15_17-21-38.dat.csv\n",
      "Processing file: C:/Users/SKTPJ15/real/valdata\\cluster0_nk100_2641_2024-04-15_17-31-38.dat.csv\n",
      "Warning: C:/Users/SKTPJ15/real/valdata\\cluster0_nk100_2641_2024-04-15_17-31-38.dat.csv is empty.\n",
      "Processing file: C:/Users/SKTPJ15/real/valdata\\cluster0_nk100_2641_2024-04-15_17-41-38.dat.csv\n",
      "Warning: C:/Users/SKTPJ15/real/valdata\\cluster0_nk100_2641_2024-04-15_17-41-38.dat.csv is empty.\n",
      "Processing file: C:/Users/SKTPJ15/real/valdata\\cluster0_nk100_2641_2024-04-15_17-51-38.dat.csv\n",
      "Warning: C:/Users/SKTPJ15/real/valdata\\cluster0_nk100_2641_2024-04-15_17-51-38.dat.csv is empty.\n",
      "Processing file: C:/Users/SKTPJ15/real/valdata\\cluster0_nk100_2641_2024-04-15_18-01-38.dat.csv\n",
      "Warning: C:/Users/SKTPJ15/real/valdata\\cluster0_nk100_2641_2024-04-15_18-01-38.dat.csv is empty.\n",
      "Processing file: C:/Users/SKTPJ15/real/valdata\\cluster0_nk100_2641_2024-04-15_18-11-38.dat.csv\n",
      "Warning: C:/Users/SKTPJ15/real/valdata\\cluster0_nk100_2641_2024-04-15_18-11-38.dat.csv is empty.\n",
      "Processing file: C:/Users/SKTPJ15/real/valdata\\cluster0_nk100_2641_2024-04-15_18-21-38.dat.csv\n",
      "Warning: C:/Users/SKTPJ15/real/valdata\\cluster0_nk100_2641_2024-04-15_18-21-38.dat.csv is empty.\n",
      "Processing file: C:/Users/SKTPJ15/real/valdata\\cluster0_nk100_2641_2024-04-15_18-31-38.dat.csv\n",
      "Processing file: C:/Users/SKTPJ15/real/valdata\\cluster0_nk100_2641_2024-04-15_18-41-38.dat.csv\n",
      "Processing file: C:/Users/SKTPJ15/real/valdata\\cluster0_nk100_2641_2024-04-15_18-51-38.dat.csv\n",
      "Processing file: C:/Users/SKTPJ15/real/valdata\\cluster0_nk100_2641_2024-04-15_19-01-38.dat.csv\n",
      "Processing file: C:/Users/SKTPJ15/real/valdata\\cluster0_nk100_2641_2024-04-15_19-11-38.dat.csv\n",
      "Processing file: C:/Users/SKTPJ15/real/valdata\\cluster0_nk100_2641_2024-04-15_19-21-38.dat.csv\n",
      "Processing file: C:/Users/SKTPJ15/real/valdata\\cluster0_nk100_2641_2024-04-15_19-31-38.dat.csv\n",
      "Processing file: C:/Users/SKTPJ15/real/valdata\\cluster0_nk100_2641_2024-04-15_19-41-38.dat.csv\n",
      "Processing file: C:/Users/SKTPJ15/real/valdata\\cluster0_nk100_2641_2024-04-15_19-51-38.dat.csv\n",
      "Processing file: C:/Users/SKTPJ15/real/valdata\\cluster0_nk100_2641_2024-04-15_20-01-38.dat.csv\n",
      "Warning: C:/Users/SKTPJ15/real/valdata\\cluster0_nk100_2641_2024-04-15_20-01-38.dat.csv is empty.\n",
      "Processing file: C:/Users/SKTPJ15/real/valdata\\cluster0_nk100_2641_2024-04-15_20-11-38.dat.csv\n",
      "Processing file: C:/Users/SKTPJ15/real/valdata\\cluster0_nk100_2641_2024-04-15_20-21-38.dat.csv\n",
      "Processing file: C:/Users/SKTPJ15/real/valdata\\cluster0_nk100_2641_2024-04-15_20-31-38.dat.csv\n",
      "Warning: C:/Users/SKTPJ15/real/valdata\\cluster0_nk100_2641_2024-04-15_20-31-38.dat.csv is empty.\n",
      "Processing file: C:/Users/SKTPJ15/real/valdata\\cluster0_nk100_2641_2024-04-15_20-41-38.dat.csv\n",
      "Processing file: C:/Users/SKTPJ15/real/valdata\\cluster0_nk100_2641_2024-04-15_20-51-38.dat.csv\n",
      "Processing file: C:/Users/SKTPJ15/real/valdata\\cluster0_nk100_2641_2024-04-15_21-01-38.dat.csv\n",
      "Processing file: C:/Users/SKTPJ15/real/valdata\\cluster0_nk100_2641_2024-04-15_21-11-38.dat.csv\n",
      "Warning: C:/Users/SKTPJ15/real/valdata\\cluster0_nk100_2641_2024-04-15_21-11-38.dat.csv is empty.\n",
      "Processing file: C:/Users/SKTPJ15/real/valdata\\cluster0_nk100_2641_2024-04-15_21-21-38.dat.csv\n",
      "Warning: C:/Users/SKTPJ15/real/valdata\\cluster0_nk100_2641_2024-04-15_21-21-38.dat.csv is empty.\n",
      "Processing file: C:/Users/SKTPJ15/real/valdata\\cluster0_nk100_2641_2024-04-15_21-31-38.dat.csv\n",
      "Processing file: C:/Users/SKTPJ15/real/valdata\\cluster0_nk100_2641_2024-04-15_21-41-38.dat.csv\n",
      "Processing file: C:/Users/SKTPJ15/real/valdata\\cluster0_nk100_2641_2024-04-15_21-51-38.dat.csv\n",
      "Warning: C:/Users/SKTPJ15/real/valdata\\cluster0_nk100_2641_2024-04-15_21-51-38.dat.csv is empty.\n",
      "Processing file: C:/Users/SKTPJ15/real/valdata\\cluster0_nk100_2641_2024-04-15_22-01-38.dat.csv\n",
      "Warning: C:/Users/SKTPJ15/real/valdata\\cluster0_nk100_2641_2024-04-15_22-01-38.dat.csv is empty.\n",
      "Processing file: C:/Users/SKTPJ15/real/valdata\\cluster0_nk100_2641_2024-04-15_22-11-38.dat.csv\n",
      "Processing file: C:/Users/SKTPJ15/real/valdata\\cluster0_nk100_2641_2024-04-15_22-21-38.dat.csv\n",
      "Warning: C:/Users/SKTPJ15/real/valdata\\cluster0_nk100_2641_2024-04-15_22-21-38.dat.csv is empty.\n",
      "Processing file: C:/Users/SKTPJ15/real/valdata\\cluster0_nk100_2641_2024-04-15_22-31-38.dat.csv\n",
      "Processing file: C:/Users/SKTPJ15/real/valdata\\cluster0_nk100_2641_2024-04-15_22-41-38.dat.csv\n",
      "Processing file: C:/Users/SKTPJ15/real/valdata\\cluster0_nk100_2641_2024-04-15_22-51-38.dat.csv\n",
      "Warning: C:/Users/SKTPJ15/real/valdata\\cluster0_nk100_2641_2024-04-15_22-51-38.dat.csv is empty.\n",
      "Processing file: C:/Users/SKTPJ15/real/valdata\\cluster0_nk100_2641_2024-04-15_23-01-38.dat.csv\n",
      "Processing file: C:/Users/SKTPJ15/real/valdata\\cluster0_nk100_2641_2024-04-15_23-11-38.dat.csv\n",
      "Processing file: C:/Users/SKTPJ15/real/valdata\\cluster0_nk100_2641_2024-04-15_23-21-38.dat.csv\n",
      "Warning: C:/Users/SKTPJ15/real/valdata\\cluster0_nk100_2641_2024-04-15_23-21-38.dat.csv is empty.\n",
      "Processing file: C:/Users/SKTPJ15/real/valdata\\cluster0_nk100_2641_2024-04-15_23-31-38.dat.csv\n",
      "Warning: C:/Users/SKTPJ15/real/valdata\\cluster0_nk100_2641_2024-04-15_23-31-38.dat.csv is empty.\n",
      "Processing file: C:/Users/SKTPJ15/real/valdata\\cluster0_nk100_2641_2024-04-15_23-41-38.dat.csv\n",
      "Warning: C:/Users/SKTPJ15/real/valdata\\cluster0_nk100_2641_2024-04-15_23-41-38.dat.csv is empty.\n",
      "Processing file: C:/Users/SKTPJ15/real/valdata\\cluster0_nk100_2641_2024-04-15_23-51-38.dat.csv\n",
      "Processing file: C:/Users/SKTPJ15/real/valdata\\cluster0_nk100_2641_2024-04-16_00-01-38.dat.csv\n",
      "Processing file: C:/Users/SKTPJ15/real/valdata\\cluster0_nk100_2641_2024-04-16_00-11-38.dat.csv\n",
      "Processing file: C:/Users/SKTPJ15/real/valdata\\cluster0_nk100_2641_2024-04-16_00-21-38.dat.csv\n",
      "Warning: C:/Users/SKTPJ15/real/valdata\\cluster0_nk100_2641_2024-04-16_00-21-38.dat.csv is empty.\n",
      "Processing file: C:/Users/SKTPJ15/real/valdata\\cluster0_nk100_2641_2024-04-16_00-31-38.dat.csv\n",
      "Processing file: C:/Users/SKTPJ15/real/valdata\\cluster0_nk100_2641_2024-04-16_00-41-38.dat.csv\n",
      "Processing file: C:/Users/SKTPJ15/real/valdata\\cluster0_nk100_2641_2024-04-16_00-51-38.dat.csv\n",
      "Warning: C:/Users/SKTPJ15/real/valdata\\cluster0_nk100_2641_2024-04-16_00-51-38.dat.csv is empty.\n",
      "Processing file: C:/Users/SKTPJ15/real/valdata\\cluster0_nk100_2641_2024-04-16_01-01-38.dat.csv\n",
      "Processing file: C:/Users/SKTPJ15/real/valdata\\cluster0_nk100_2641_2024-04-16_01-11-38.dat.csv\n",
      "Processing file: C:/Users/SKTPJ15/real/valdata\\cluster0_nk100_2641_2024-04-16_01-21-38.dat.csv\n",
      "Processing file: C:/Users/SKTPJ15/real/valdata\\cluster0_nk100_2641_2024-04-16_01-31-38.dat.csv\n",
      "Processing file: C:/Users/SKTPJ15/real/valdata\\cluster0_nk100_2641_2024-04-16_01-41-38.dat.csv\n",
      "Warning: C:/Users/SKTPJ15/real/valdata\\cluster0_nk100_2641_2024-04-16_01-41-38.dat.csv is empty.\n",
      "Processing file: C:/Users/SKTPJ15/real/valdata\\cluster0_nk100_2641_2024-04-16_01-51-38.dat.csv\n",
      "Warning: C:/Users/SKTPJ15/real/valdata\\cluster0_nk100_2641_2024-04-16_01-51-38.dat.csv is empty.\n",
      "Processing file: C:/Users/SKTPJ15/real/valdata\\cluster0_nk100_2641_2024-04-16_02-01-38.dat.csv\n",
      "Warning: C:/Users/SKTPJ15/real/valdata\\cluster0_nk100_2641_2024-04-16_02-01-38.dat.csv is empty.\n",
      "Processing file: C:/Users/SKTPJ15/real/valdata\\cluster0_nk100_2650_2024-04-14_12-11-43.dat.csv\n",
      "Processing file: C:/Users/SKTPJ15/real/valdata\\cluster0_nk100_2650_2024-04-14_12-21-43.dat.csv\n",
      "Processing file: C:/Users/SKTPJ15/real/valdata\\cluster0_nk100_2650_2024-04-14_12-31-43.dat.csv\n",
      "Warning: C:/Users/SKTPJ15/real/valdata\\cluster0_nk100_2650_2024-04-14_12-31-43.dat.csv is empty.\n",
      "Processing file: C:/Users/SKTPJ15/real/valdata\\cluster0_nk100_2650_2024-04-14_12-41-43.dat.csv\n",
      "Warning: C:/Users/SKTPJ15/real/valdata\\cluster0_nk100_2650_2024-04-14_12-41-43.dat.csv is empty.\n",
      "Processing file: C:/Users/SKTPJ15/real/valdata\\cluster0_nk100_2650_2024-04-14_12-51-43.dat.csv\n",
      "Warning: C:/Users/SKTPJ15/real/valdata\\cluster0_nk100_2650_2024-04-14_12-51-43.dat.csv is empty.\n",
      "Processing file: C:/Users/SKTPJ15/real/valdata\\cluster0_nk100_2650_2024-04-14_13-01-43.dat.csv\n",
      "Warning: C:/Users/SKTPJ15/real/valdata\\cluster0_nk100_2650_2024-04-14_13-01-43.dat.csv is empty.\n",
      "Processing file: C:/Users/SKTPJ15/real/valdata\\cluster0_nk100_2650_2024-04-14_13-11-43.dat.csv\n",
      "Warning: C:/Users/SKTPJ15/real/valdata\\cluster0_nk100_2650_2024-04-14_13-11-43.dat.csv is empty.\n",
      "Processing file: C:/Users/SKTPJ15/real/valdata\\cluster0_nk100_2650_2024-04-14_13-21-43.dat.csv\n",
      "Warning: C:/Users/SKTPJ15/real/valdata\\cluster0_nk100_2650_2024-04-14_13-21-43.dat.csv is empty.\n",
      "Processing file: C:/Users/SKTPJ15/real/valdata\\cluster0_nk100_2650_2024-04-14_13-31-43.dat.csv\n",
      "Warning: C:/Users/SKTPJ15/real/valdata\\cluster0_nk100_2650_2024-04-14_13-31-43.dat.csv is empty.\n",
      "Processing file: C:/Users/SKTPJ15/real/valdata\\cluster0_nk100_2650_2024-04-14_13-41-43.dat.csv\n",
      "Warning: C:/Users/SKTPJ15/real/valdata\\cluster0_nk100_2650_2024-04-14_13-41-43.dat.csv is empty.\n",
      "Processing file: C:/Users/SKTPJ15/real/valdata\\cluster0_nk100_2650_2024-04-14_13-51-43.dat.csv\n",
      "Processing file: C:/Users/SKTPJ15/real/valdata\\cluster0_nk100_2650_2024-04-14_14-01-43.dat.csv\n",
      "Processing file: C:/Users/SKTPJ15/real/valdata\\cluster0_nk100_2650_2024-04-14_14-11-43.dat.csv\n",
      "Processing file: C:/Users/SKTPJ15/real/valdata\\cluster0_nk100_2650_2024-04-14_14-21-43.dat.csv\n",
      "Warning: C:/Users/SKTPJ15/real/valdata\\cluster0_nk100_2650_2024-04-14_14-21-43.dat.csv is empty.\n",
      "Processing file: C:/Users/SKTPJ15/real/valdata\\cluster0_nk100_2650_2024-04-14_14-31-43.dat.csv\n",
      "Warning: C:/Users/SKTPJ15/real/valdata\\cluster0_nk100_2650_2024-04-14_14-31-43.dat.csv is empty.\n",
      "Processing file: C:/Users/SKTPJ15/real/valdata\\cluster0_nk100_2650_2024-04-14_14-41-43.dat.csv\n",
      "Warning: C:/Users/SKTPJ15/real/valdata\\cluster0_nk100_2650_2024-04-14_14-41-43.dat.csv is empty.\n",
      "Processing file: C:/Users/SKTPJ15/real/valdata\\cluster0_nk100_2650_2024-04-14_14-51-43.dat.csv\n",
      "Warning: C:/Users/SKTPJ15/real/valdata\\cluster0_nk100_2650_2024-04-14_14-51-43.dat.csv is empty.\n",
      "Processing file: C:/Users/SKTPJ15/real/valdata\\cluster0_nk100_2650_2024-04-14_15-01-43.dat.csv\n",
      "Warning: C:/Users/SKTPJ15/real/valdata\\cluster0_nk100_2650_2024-04-14_15-01-43.dat.csv is empty.\n",
      "Processing file: C:/Users/SKTPJ15/real/valdata\\cluster0_nk100_2650_2024-04-14_15-11-43.dat.csv\n",
      "Warning: C:/Users/SKTPJ15/real/valdata\\cluster0_nk100_2650_2024-04-14_15-11-43.dat.csv is empty.\n",
      "Processing file: C:/Users/SKTPJ15/real/valdata\\cluster0_nk100_2650_2024-04-14_15-21-43.dat.csv\n",
      "Warning: C:/Users/SKTPJ15/real/valdata\\cluster0_nk100_2650_2024-04-14_15-21-43.dat.csv is empty.\n",
      "Processing file: C:/Users/SKTPJ15/real/valdata\\cluster0_nk100_2650_2024-04-14_15-31-43.dat.csv\n",
      "Warning: C:/Users/SKTPJ15/real/valdata\\cluster0_nk100_2650_2024-04-14_15-31-43.dat.csv is empty.\n",
      "Processing file: C:/Users/SKTPJ15/real/valdata\\cluster0_nk100_2650_2024-04-14_15-41-43.dat.csv\n",
      "Warning: C:/Users/SKTPJ15/real/valdata\\cluster0_nk100_2650_2024-04-14_15-41-43.dat.csv is empty.\n",
      "Processing file: C:/Users/SKTPJ15/real/valdata\\cluster0_nk100_2650_2024-04-14_15-51-43.dat.csv\n",
      "Warning: C:/Users/SKTPJ15/real/valdata\\cluster0_nk100_2650_2024-04-14_15-51-43.dat.csv is empty.\n",
      "Processing file: C:/Users/SKTPJ15/real/valdata\\cluster0_nk100_2650_2024-04-14_16-01-43.dat.csv\n",
      "Warning: C:/Users/SKTPJ15/real/valdata\\cluster0_nk100_2650_2024-04-14_16-01-43.dat.csv is empty.\n",
      "Processing file: C:/Users/SKTPJ15/real/valdata\\cluster0_nk100_2650_2024-04-14_16-11-43.dat.csv\n",
      "Warning: C:/Users/SKTPJ15/real/valdata\\cluster0_nk100_2650_2024-04-14_16-11-43.dat.csv is empty.\n",
      "Processing file: C:/Users/SKTPJ15/real/valdata\\cluster0_nk100_2650_2024-04-14_16-21-43.dat.csv\n",
      "Processing file: C:/Users/SKTPJ15/real/valdata\\cluster0_nk100_2650_2024-04-14_16-31-43.dat.csv\n",
      "Warning: C:/Users/SKTPJ15/real/valdata\\cluster0_nk100_2650_2024-04-14_16-31-43.dat.csv is empty.\n",
      "Processing file: C:/Users/SKTPJ15/real/valdata\\cluster0_nk100_2650_2024-04-14_16-41-43.dat.csv\n",
      "Warning: C:/Users/SKTPJ15/real/valdata\\cluster0_nk100_2650_2024-04-14_16-41-43.dat.csv is empty.\n",
      "Processing file: C:/Users/SKTPJ15/real/valdata\\cluster0_nk100_2650_2024-04-14_16-51-43.dat.csv\n",
      "Warning: C:/Users/SKTPJ15/real/valdata\\cluster0_nk100_2650_2024-04-14_16-51-43.dat.csv is empty.\n",
      "Processing file: C:/Users/SKTPJ15/real/valdata\\cluster0_nk100_2650_2024-04-14_17-01-43.dat.csv\n",
      "Processing file: C:/Users/SKTPJ15/real/valdata\\cluster0_nk100_2650_2024-04-14_17-11-43.dat.csv\n",
      "Processing file: C:/Users/SKTPJ15/real/valdata\\cluster0_nk100_2650_2024-04-14_17-21-43.dat.csv\n",
      "Warning: C:/Users/SKTPJ15/real/valdata\\cluster0_nk100_2650_2024-04-14_17-21-43.dat.csv is empty.\n",
      "Processing file: C:/Users/SKTPJ15/real/valdata\\cluster0_nk100_2650_2024-04-14_17-31-43.dat.csv\n",
      "Warning: C:/Users/SKTPJ15/real/valdata\\cluster0_nk100_2650_2024-04-14_17-31-43.dat.csv is empty.\n",
      "Processing file: C:/Users/SKTPJ15/real/valdata\\cluster0_nk100_2650_2024-04-14_17-41-43.dat.csv\n",
      "Warning: C:/Users/SKTPJ15/real/valdata\\cluster0_nk100_2650_2024-04-14_17-41-43.dat.csv is empty.\n",
      "Processing file: C:/Users/SKTPJ15/real/valdata\\cluster0_nk100_2650_2024-04-14_17-51-43.dat.csv\n",
      "Processing file: C:/Users/SKTPJ15/real/valdata\\cluster0_nk100_2650_2024-04-14_18-01-43.dat.csv\n",
      "Processing file: C:/Users/SKTPJ15/real/valdata\\cluster0_nk100_2650_2024-04-14_18-11-43.dat.csv\n",
      "Processing file: C:/Users/SKTPJ15/real/valdata\\cluster0_nk100_2650_2024-04-14_18-21-43.dat.csv\n",
      "Warning: C:/Users/SKTPJ15/real/valdata\\cluster0_nk100_2650_2024-04-14_18-21-43.dat.csv is empty.\n",
      "Processing file: C:/Users/SKTPJ15/real/valdata\\cluster0_nk100_2650_2024-04-14_18-31-43.dat.csv\n",
      "Warning: C:/Users/SKTPJ15/real/valdata\\cluster0_nk100_2650_2024-04-14_18-31-43.dat.csv is empty.\n",
      "Processing file: C:/Users/SKTPJ15/real/valdata\\cluster0_nk100_2650_2024-04-14_18-41-43.dat.csv\n",
      "Warning: C:/Users/SKTPJ15/real/valdata\\cluster0_nk100_2650_2024-04-14_18-41-43.dat.csv is empty.\n",
      "Processing file: C:/Users/SKTPJ15/real/valdata\\cluster0_nk100_2650_2024-04-14_18-51-43.dat.csv\n",
      "Processing file: C:/Users/SKTPJ15/real/valdata\\cluster0_nk100_2650_2024-04-14_19-01-43.dat.csv\n",
      "Processing file: C:/Users/SKTPJ15/real/valdata\\cluster0_nk100_2650_2024-04-14_19-11-43.dat.csv\n",
      "Warning: C:/Users/SKTPJ15/real/valdata\\cluster0_nk100_2650_2024-04-14_19-11-43.dat.csv is empty.\n",
      "Processing file: C:/Users/SKTPJ15/real/valdata\\cluster0_nk100_2650_2024-04-14_19-21-43.dat.csv\n",
      "Warning: C:/Users/SKTPJ15/real/valdata\\cluster0_nk100_2650_2024-04-14_19-21-43.dat.csv is empty.\n",
      "Processing file: C:/Users/SKTPJ15/real/valdata\\cluster0_nk100_2650_2024-04-14_19-31-43.dat.csv\n",
      "Warning: C:/Users/SKTPJ15/real/valdata\\cluster0_nk100_2650_2024-04-14_19-31-43.dat.csv is empty.\n",
      "Processing file: C:/Users/SKTPJ15/real/valdata\\cluster0_nk100_2650_2024-04-14_19-41-43.dat.csv\n",
      "Processing file: C:/Users/SKTPJ15/real/valdata\\cluster0_nk100_2650_2024-04-14_19-51-43.dat.csv\n",
      "Processing file: C:/Users/SKTPJ15/real/valdata\\cluster0_nk100_2650_2024-04-14_20-01-43.dat.csv\n",
      "Processing file: C:/Users/SKTPJ15/real/valdata\\cluster0_nk100_2650_2024-04-14_20-11-43.dat.csv\n",
      "Processing file: C:/Users/SKTPJ15/real/valdata\\cluster0_nk100_2650_2024-04-14_20-21-43.dat.csv\n",
      "Processing file: C:/Users/SKTPJ15/real/valdata\\cluster0_nk100_2650_2024-04-14_20-31-43.dat.csv\n",
      "Warning: C:/Users/SKTPJ15/real/valdata\\cluster0_nk100_2650_2024-04-14_20-31-43.dat.csv is empty.\n",
      "Processing file: C:/Users/SKTPJ15/real/valdata\\cluster0_nk100_2650_2024-04-14_20-41-43.dat.csv\n",
      "Processing file: C:/Users/SKTPJ15/real/valdata\\cluster0_nk100_2650_2024-04-14_20-51-43.dat.csv\n",
      "Processing file: C:/Users/SKTPJ15/real/valdata\\cluster0_nk100_2650_2024-04-14_21-01-43.dat.csv\n",
      "Processing file: C:/Users/SKTPJ15/real/valdata\\cluster0_nk100_2650_2024-04-14_21-11-43.dat.csv\n",
      "Warning: C:/Users/SKTPJ15/real/valdata\\cluster0_nk100_2650_2024-04-14_21-11-43.dat.csv is empty.\n",
      "Processing file: C:/Users/SKTPJ15/real/valdata\\cluster0_nk100_2650_2024-04-14_21-21-43.dat.csv\n",
      "Warning: C:/Users/SKTPJ15/real/valdata\\cluster0_nk100_2650_2024-04-14_21-21-43.dat.csv is empty.\n",
      "Processing file: C:/Users/SKTPJ15/real/valdata\\cluster0_nk100_2650_2024-04-14_21-31-43.dat.csv\n",
      "Processing file: C:/Users/SKTPJ15/real/valdata\\cluster0_nk100_2650_2024-04-14_21-41-43.dat.csv\n",
      "Processing file: C:/Users/SKTPJ15/real/valdata\\cluster0_nk100_2650_2024-04-14_21-51-43.dat.csv\n",
      "Processing file: C:/Users/SKTPJ15/real/valdata\\cluster0_nk100_2650_2024-04-14_22-01-43.dat.csv\n",
      "Processing file: C:/Users/SKTPJ15/real/valdata\\cluster0_nk100_2650_2024-04-14_22-11-43.dat.csv\n",
      "Processing file: C:/Users/SKTPJ15/real/valdata\\cluster0_nk100_2650_2024-04-14_22-21-43.dat.csv\n",
      "Processing file: C:/Users/SKTPJ15/real/valdata\\cluster0_nk100_2650_2024-04-14_22-31-43.dat.csv\n",
      "Warning: C:/Users/SKTPJ15/real/valdata\\cluster0_nk100_2650_2024-04-14_22-31-43.dat.csv is empty.\n",
      "Processing file: C:/Users/SKTPJ15/real/valdata\\cluster0_nk100_2650_2024-04-14_22-41-43.dat.csv\n",
      "Processing file: C:/Users/SKTPJ15/real/valdata\\cluster0_nk100_2650_2024-04-14_22-51-43.dat.csv\n",
      "Processing file: C:/Users/SKTPJ15/real/valdata\\cluster0_nk100_2650_2024-04-14_23-01-43.dat.csv\n",
      "Warning: C:/Users/SKTPJ15/real/valdata\\cluster0_nk100_2650_2024-04-14_23-01-43.dat.csv is empty.\n",
      "Processing file: C:/Users/SKTPJ15/real/valdata\\cluster0_nk100_2650_2024-04-14_23-11-43.dat.csv\n",
      "Warning: C:/Users/SKTPJ15/real/valdata\\cluster0_nk100_2650_2024-04-14_23-11-43.dat.csv is empty.\n",
      "Processing file: C:/Users/SKTPJ15/real/valdata\\cluster0_nk100_2650_2024-04-14_23-21-43.dat.csv\n",
      "Warning: C:/Users/SKTPJ15/real/valdata\\cluster0_nk100_2650_2024-04-14_23-21-43.dat.csv is empty.\n",
      "Processing file: C:/Users/SKTPJ15/real/valdata\\cluster0_nk100_2650_2024-04-14_23-31-43.dat.csv\n",
      "Warning: C:/Users/SKTPJ15/real/valdata\\cluster0_nk100_2650_2024-04-14_23-31-43.dat.csv is empty.\n",
      "Processing file: C:/Users/SKTPJ15/real/valdata\\cluster0_nk100_2650_2024-04-14_23-41-43.dat.csv\n",
      "Warning: C:/Users/SKTPJ15/real/valdata\\cluster0_nk100_2650_2024-04-14_23-41-43.dat.csv is empty.\n",
      "Processing file: C:/Users/SKTPJ15/real/valdata\\cluster0_nk100_2650_2024-04-14_23-51-43.dat.csv\n",
      "Warning: C:/Users/SKTPJ15/real/valdata\\cluster0_nk100_2650_2024-04-14_23-51-43.dat.csv is empty.\n",
      "Processing file: C:/Users/SKTPJ15/real/valdata\\cluster0_nk100_2650_2024-04-15_00-01-43.dat.csv\n",
      "Warning: C:/Users/SKTPJ15/real/valdata\\cluster0_nk100_2650_2024-04-15_00-01-43.dat.csv is empty.\n",
      "Processing file: C:/Users/SKTPJ15/real/valdata\\cluster0_nk100_2650_2024-04-15_00-11-43.dat.csv\n",
      "Warning: C:/Users/SKTPJ15/real/valdata\\cluster0_nk100_2650_2024-04-15_00-11-43.dat.csv is empty.\n",
      "Processing file: C:/Users/SKTPJ15/real/valdata\\cluster0_nk100_2650_2024-04-15_00-21-43.dat.csv\n",
      "Warning: C:/Users/SKTPJ15/real/valdata\\cluster0_nk100_2650_2024-04-15_00-21-43.dat.csv is empty.\n",
      "Processing file: C:/Users/SKTPJ15/real/valdata\\cluster0_nk100_2650_2024-04-15_00-31-43.dat.csv\n",
      "Warning: C:/Users/SKTPJ15/real/valdata\\cluster0_nk100_2650_2024-04-15_00-31-43.dat.csv is empty.\n",
      "Processing file: C:/Users/SKTPJ15/real/valdata\\cluster0_nk100_2650_2024-04-15_00-41-43.dat.csv\n",
      "Warning: C:/Users/SKTPJ15/real/valdata\\cluster0_nk100_2650_2024-04-15_00-41-43.dat.csv is empty.\n",
      "Processing file: C:/Users/SKTPJ15/real/valdata\\cluster0_nk100_2650_2024-04-15_00-51-43.dat.csv\n",
      "Warning: C:/Users/SKTPJ15/real/valdata\\cluster0_nk100_2650_2024-04-15_00-51-43.dat.csv is empty.\n",
      "Processing file: C:/Users/SKTPJ15/real/valdata\\cluster0_nk100_2650_2024-04-15_01-01-43.dat.csv\n",
      "Warning: C:/Users/SKTPJ15/real/valdata\\cluster0_nk100_2650_2024-04-15_01-01-43.dat.csv is empty.\n",
      "Processing file: C:/Users/SKTPJ15/real/valdata\\cluster0_nk100_2650_2024-04-15_01-11-43.dat.csv\n",
      "Warning: C:/Users/SKTPJ15/real/valdata\\cluster0_nk100_2650_2024-04-15_01-11-43.dat.csv is empty.\n",
      "Processing file: C:/Users/SKTPJ15/real/valdata\\cluster0_nk100_2650_2024-04-15_01-21-43.dat.csv\n",
      "Warning: C:/Users/SKTPJ15/real/valdata\\cluster0_nk100_2650_2024-04-15_01-21-43.dat.csv is empty.\n",
      "Processing file: C:/Users/SKTPJ15/real/valdata\\cluster0_nk100_2650_2024-04-15_01-31-43.dat.csv\n",
      "Warning: C:/Users/SKTPJ15/real/valdata\\cluster0_nk100_2650_2024-04-15_01-31-43.dat.csv is empty.\n",
      "Processing file: C:/Users/SKTPJ15/real/valdata\\cluster0_nk100_2650_2024-04-15_01-41-43.dat.csv\n",
      "Warning: C:/Users/SKTPJ15/real/valdata\\cluster0_nk100_2650_2024-04-15_01-41-43.dat.csv is empty.\n",
      "Processing file: C:/Users/SKTPJ15/real/valdata\\cluster0_nk100_2650_2024-04-15_01-51-43.dat.csv\n",
      "Warning: C:/Users/SKTPJ15/real/valdata\\cluster0_nk100_2650_2024-04-15_01-51-43.dat.csv is empty.\n",
      "Processing file: C:/Users/SKTPJ15/real/valdata\\cluster0_nk100_2650_2024-04-15_02-01-43.dat.csv\n",
      "Warning: C:/Users/SKTPJ15/real/valdata\\cluster0_nk100_2650_2024-04-15_02-01-43.dat.csv is empty.\n",
      "Processing file: C:/Users/SKTPJ15/real/valdata\\cluster0_nk100_2650_2024-04-15_02-11-43.dat.csv\n",
      "Warning: C:/Users/SKTPJ15/real/valdata\\cluster0_nk100_2650_2024-04-15_02-11-43.dat.csv is empty.\n",
      "Processing file: C:/Users/SKTPJ15/real/valdata\\cluster0_nk100_2650_2024-04-15_02-21-43.dat.csv\n",
      "Warning: C:/Users/SKTPJ15/real/valdata\\cluster0_nk100_2650_2024-04-15_02-21-43.dat.csv is empty.\n",
      "Processing file: C:/Users/SKTPJ15/real/valdata\\cluster0_nk100_2650_2024-04-15_02-31-43.dat.csv\n",
      "Warning: C:/Users/SKTPJ15/real/valdata\\cluster0_nk100_2650_2024-04-15_02-31-43.dat.csv is empty.\n",
      "Processing file: C:/Users/SKTPJ15/real/valdata\\cluster0_nk100_2650_2024-04-15_02-41-43.dat.csv\n",
      "Processing file: C:/Users/SKTPJ15/real/valdata\\cluster0_nk100_2650_2024-04-15_02-51-43.dat.csv\n",
      "Warning: C:/Users/SKTPJ15/real/valdata\\cluster0_nk100_2650_2024-04-15_02-51-43.dat.csv is empty.\n",
      "Processing file: C:/Users/SKTPJ15/real/valdata\\cluster0_nk100_2650_2024-04-15_03-01-43.dat.csv\n",
      "Warning: C:/Users/SKTPJ15/real/valdata\\cluster0_nk100_2650_2024-04-15_03-01-43.dat.csv is empty.\n",
      "Processing file: C:/Users/SKTPJ15/real/valdata\\cluster0_nk100_2650_2024-04-15_03-11-43.dat.csv\n",
      "Warning: C:/Users/SKTPJ15/real/valdata\\cluster0_nk100_2650_2024-04-15_03-11-43.dat.csv is empty.\n",
      "Processing file: C:/Users/SKTPJ15/real/valdata\\cluster0_nk100_2650_2024-04-15_03-21-43.dat.csv\n",
      "Warning: C:/Users/SKTPJ15/real/valdata\\cluster0_nk100_2650_2024-04-15_03-21-43.dat.csv is empty.\n",
      "Processing file: C:/Users/SKTPJ15/real/valdata\\cluster0_nk100_2650_2024-04-15_03-31-43.dat.csv\n",
      "Processing file: C:/Users/SKTPJ15/real/valdata\\cluster0_nk100_2650_2024-04-15_03-41-43.dat.csv\n",
      "Warning: C:/Users/SKTPJ15/real/valdata\\cluster0_nk100_2650_2024-04-15_03-41-43.dat.csv is empty.\n",
      "Processing file: C:/Users/SKTPJ15/real/valdata\\cluster0_nk100_2650_2024-04-15_03-51-43.dat.csv\n",
      "Warning: C:/Users/SKTPJ15/real/valdata\\cluster0_nk100_2650_2024-04-15_03-51-43.dat.csv is empty.\n",
      "Processing file: C:/Users/SKTPJ15/real/valdata\\cluster0_nk100_2650_2024-04-15_04-01-43.dat.csv\n",
      "Warning: C:/Users/SKTPJ15/real/valdata\\cluster0_nk100_2650_2024-04-15_04-01-43.dat.csv is empty.\n",
      "Processing file: C:/Users/SKTPJ15/real/valdata\\cluster0_nk100_2650_2024-04-15_04-11-43.dat.csv\n",
      "Warning: C:/Users/SKTPJ15/real/valdata\\cluster0_nk100_2650_2024-04-15_04-11-43.dat.csv is empty.\n",
      "Processing file: C:/Users/SKTPJ15/real/valdata\\cluster0_nk100_2650_2024-04-15_04-21-43.dat.csv\n",
      "Warning: C:/Users/SKTPJ15/real/valdata\\cluster0_nk100_2650_2024-04-15_04-21-43.dat.csv is empty.\n",
      "Processing file: C:/Users/SKTPJ15/real/valdata\\cluster0_nk100_2650_2024-04-15_04-31-43.dat.csv\n",
      "Processing file: C:/Users/SKTPJ15/real/valdata\\cluster0_nk100_2650_2024-04-15_04-41-43.dat.csv\n",
      "Processing file: C:/Users/SKTPJ15/real/valdata\\cluster0_nk100_2650_2024-04-15_04-51-43.dat.csv\n",
      "Processing file: C:/Users/SKTPJ15/real/valdata\\cluster0_nk100_2650_2024-04-15_05-01-43.dat.csv\n",
      "Warning: C:/Users/SKTPJ15/real/valdata\\cluster0_nk100_2650_2024-04-15_05-01-43.dat.csv is empty.\n",
      "Processing file: C:/Users/SKTPJ15/real/valdata\\cluster0_nk100_2650_2024-04-15_05-11-43.dat.csv\n",
      "Processing file: C:/Users/SKTPJ15/real/valdata\\cluster0_nk100_2650_2024-04-15_05-21-43.dat.csv\n",
      "Processing file: C:/Users/SKTPJ15/real/valdata\\cluster0_nk100_2650_2024-04-15_05-31-43.dat.csv\n",
      "Processing file: C:/Users/SKTPJ15/real/valdata\\cluster0_nk100_2650_2024-04-15_05-41-43.dat.csv\n",
      "Warning: C:/Users/SKTPJ15/real/valdata\\cluster0_nk100_2650_2024-04-15_05-41-43.dat.csv is empty.\n",
      "Processing file: C:/Users/SKTPJ15/real/valdata\\cluster0_nk100_2650_2024-04-15_05-51-43.dat.csv\n",
      "Processing file: C:/Users/SKTPJ15/real/valdata\\cluster0_nk100_2650_2024-04-15_06-01-43.dat.csv\n",
      "Processing file: C:/Users/SKTPJ15/real/valdata\\cluster0_nk100_2650_2024-04-15_06-11-43.dat.csv\n",
      "Warning: C:/Users/SKTPJ15/real/valdata\\cluster0_nk100_2650_2024-04-15_06-11-43.dat.csv is empty.\n",
      "Processing file: C:/Users/SKTPJ15/real/valdata\\cluster0_nk100_2650_2024-04-15_06-21-43.dat.csv\n",
      "Warning: C:/Users/SKTPJ15/real/valdata\\cluster0_nk100_2650_2024-04-15_06-21-43.dat.csv is empty.\n",
      "Processing file: C:/Users/SKTPJ15/real/valdata\\cluster0_nk100_2650_2024-04-15_06-31-43.dat.csv\n",
      "Warning: C:/Users/SKTPJ15/real/valdata\\cluster0_nk100_2650_2024-04-15_06-31-43.dat.csv is empty.\n",
      "Processing file: C:/Users/SKTPJ15/real/valdata\\cluster0_nk100_2650_2024-04-15_06-41-43.dat.csv\n",
      "Processing file: C:/Users/SKTPJ15/real/valdata\\cluster0_nk100_2650_2024-04-15_06-51-43.dat.csv\n",
      "Warning: C:/Users/SKTPJ15/real/valdata\\cluster0_nk100_2650_2024-04-15_06-51-43.dat.csv is empty.\n",
      "Processing file: C:/Users/SKTPJ15/real/valdata\\cluster0_nk100_2650_2024-04-15_07-01-43.dat.csv\n",
      "Processing file: C:/Users/SKTPJ15/real/valdata\\cluster0_nk100_2650_2024-04-15_07-11-43.dat.csv\n",
      "Warning: C:/Users/SKTPJ15/real/valdata\\cluster0_nk100_2650_2024-04-15_07-11-43.dat.csv is empty.\n",
      "Processing file: C:/Users/SKTPJ15/real/valdata\\cluster0_nk100_2650_2024-04-15_07-21-43.dat.csv\n",
      "Processing file: C:/Users/SKTPJ15/real/valdata\\cluster0_nk100_2650_2024-04-15_07-31-43.dat.csv\n",
      "Warning: C:/Users/SKTPJ15/real/valdata\\cluster0_nk100_2650_2024-04-15_07-31-43.dat.csv is empty.\n",
      "Processing file: C:/Users/SKTPJ15/real/valdata\\cluster0_nk100_2650_2024-04-15_07-41-43.dat.csv\n",
      "Warning: C:/Users/SKTPJ15/real/valdata\\cluster0_nk100_2650_2024-04-15_07-41-43.dat.csv is empty.\n",
      "Processing file: C:/Users/SKTPJ15/real/valdata\\cluster0_nk100_2650_2024-04-15_07-51-43.dat.csv\n",
      "Warning: C:/Users/SKTPJ15/real/valdata\\cluster0_nk100_2650_2024-04-15_07-51-43.dat.csv is empty.\n",
      "Processing file: C:/Users/SKTPJ15/real/valdata\\cluster0_nk100_2650_2024-04-15_08-01-43.dat.csv\n",
      "Processing file: C:/Users/SKTPJ15/real/valdata\\cluster0_nk100_2650_2024-04-15_08-11-43.dat.csv\n",
      "Processing file: C:/Users/SKTPJ15/real/valdata\\cluster0_nk100_2650_2024-04-15_08-21-43.dat.csv\n",
      "Processing file: C:/Users/SKTPJ15/real/valdata\\cluster0_nk100_2650_2024-04-15_08-31-43.dat.csv\n",
      "Processing file: C:/Users/SKTPJ15/real/valdata\\cluster0_nk100_2650_2024-04-15_08-41-43.dat.csv\n",
      "Warning: C:/Users/SKTPJ15/real/valdata\\cluster0_nk100_2650_2024-04-15_08-41-43.dat.csv is empty.\n",
      "Processing file: C:/Users/SKTPJ15/real/valdata\\cluster0_nk100_2650_2024-04-15_08-51-43.dat.csv\n",
      "Processing file: C:/Users/SKTPJ15/real/valdata\\cluster0_nk100_2650_2024-04-15_09-01-43.dat.csv\n",
      "Processing file: C:/Users/SKTPJ15/real/valdata\\cluster0_nk100_2650_2024-04-15_09-11-43.dat.csv\n",
      "Warning: C:/Users/SKTPJ15/real/valdata\\cluster0_nk100_2650_2024-04-15_09-11-43.dat.csv is empty.\n",
      "Processing file: C:/Users/SKTPJ15/real/valdata\\cluster0_nk100_2650_2024-04-15_09-21-43.dat.csv\n",
      "Warning: C:/Users/SKTPJ15/real/valdata\\cluster0_nk100_2650_2024-04-15_09-21-43.dat.csv is empty.\n",
      "Processing file: C:/Users/SKTPJ15/real/valdata\\cluster0_nk100_2650_2024-04-15_09-31-43.dat.csv\n",
      "Processing file: C:/Users/SKTPJ15/real/valdata\\cluster0_nk100_2650_2024-04-15_09-41-43.dat.csv\n",
      "Warning: C:/Users/SKTPJ15/real/valdata\\cluster0_nk100_2650_2024-04-15_09-41-43.dat.csv is empty.\n",
      "Processing file: C:/Users/SKTPJ15/real/valdata\\cluster0_nk100_2650_2024-04-15_09-51-43.dat.csv\n",
      "Warning: C:/Users/SKTPJ15/real/valdata\\cluster0_nk100_2650_2024-04-15_09-51-43.dat.csv is empty.\n",
      "Processing file: C:/Users/SKTPJ15/real/valdata\\cluster0_nk100_2650_2024-04-15_10-01-43.dat.csv\n",
      "Warning: C:/Users/SKTPJ15/real/valdata\\cluster0_nk100_2650_2024-04-15_10-01-43.dat.csv is empty.\n",
      "Processing file: C:/Users/SKTPJ15/real/valdata\\cluster0_nk100_2650_2024-04-15_10-11-43.dat.csv\n",
      "Warning: C:/Users/SKTPJ15/real/valdata\\cluster0_nk100_2650_2024-04-15_10-11-43.dat.csv is empty.\n",
      "Processing file: C:/Users/SKTPJ15/real/valdata\\cluster0_nk100_2650_2024-04-15_10-21-43.dat.csv\n",
      "Warning: C:/Users/SKTPJ15/real/valdata\\cluster0_nk100_2650_2024-04-15_10-21-43.dat.csv is empty.\n",
      "Processing file: C:/Users/SKTPJ15/real/valdata\\cluster0_nk100_2650_2024-04-15_10-31-43.dat.csv\n",
      "Warning: C:/Users/SKTPJ15/real/valdata\\cluster0_nk100_2650_2024-04-15_10-31-43.dat.csv is empty.\n",
      "Processing file: C:/Users/SKTPJ15/real/valdata\\cluster0_nk100_2650_2024-04-15_10-41-43.dat.csv\n",
      "Warning: C:/Users/SKTPJ15/real/valdata\\cluster0_nk100_2650_2024-04-15_10-41-43.dat.csv is empty.\n",
      "Processing file: C:/Users/SKTPJ15/real/valdata\\cluster0_nk100_2650_2024-04-15_10-51-43.dat.csv\n",
      "Warning: C:/Users/SKTPJ15/real/valdata\\cluster0_nk100_2650_2024-04-15_10-51-43.dat.csv is empty.\n",
      "Processing file: C:/Users/SKTPJ15/real/valdata\\cluster0_nk100_2650_2024-04-15_11-01-43.dat.csv\n",
      "Warning: C:/Users/SKTPJ15/real/valdata\\cluster0_nk100_2650_2024-04-15_11-01-43.dat.csv is empty.\n",
      "Processing file: C:/Users/SKTPJ15/real/valdata\\cluster0_nk100_2650_2024-04-15_11-11-43.dat.csv\n",
      "Warning: C:/Users/SKTPJ15/real/valdata\\cluster0_nk100_2650_2024-04-15_11-11-43.dat.csv is empty.\n",
      "Processing file: C:/Users/SKTPJ15/real/valdata\\cluster0_nk100_2650_2024-04-15_11-21-43.dat.csv\n",
      "Warning: C:/Users/SKTPJ15/real/valdata\\cluster0_nk100_2650_2024-04-15_11-21-43.dat.csv is empty.\n",
      "Processing file: C:/Users/SKTPJ15/real/valdata\\cluster0_nk100_2650_2024-04-15_11-31-43.dat.csv\n",
      "Warning: C:/Users/SKTPJ15/real/valdata\\cluster0_nk100_2650_2024-04-15_11-31-43.dat.csv is empty.\n",
      "Processing file: C:/Users/SKTPJ15/real/valdata\\cluster0_nk100_2650_2024-04-15_11-41-43.dat.csv\n",
      "Warning: C:/Users/SKTPJ15/real/valdata\\cluster0_nk100_2650_2024-04-15_11-41-43.dat.csv is empty.\n",
      "Processing file: C:/Users/SKTPJ15/real/valdata\\cluster0_nk100_2650_2024-04-15_11-51-43.dat.csv\n",
      "Warning: C:/Users/SKTPJ15/real/valdata\\cluster0_nk100_2650_2024-04-15_11-51-43.dat.csv is empty.\n",
      "Processing file: C:/Users/SKTPJ15/real/valdata\\cluster0_nk100_2650_2024-04-15_12-01-43.dat.csv\n",
      "Warning: C:/Users/SKTPJ15/real/valdata\\cluster0_nk100_2650_2024-04-15_12-01-43.dat.csv is empty.\n",
      "Processing file: C:/Users/SKTPJ15/real/valdata\\cluster0_nk100_2650_2024-04-15_12-11-43.dat.csv\n",
      "Warning: C:/Users/SKTPJ15/real/valdata\\cluster0_nk100_2650_2024-04-15_12-11-43.dat.csv is empty.\n",
      "Processing file: C:/Users/SKTPJ15/real/valdata\\cluster0_nk100_2650_2024-04-15_12-21-43.dat.csv\n",
      "Warning: C:/Users/SKTPJ15/real/valdata\\cluster0_nk100_2650_2024-04-15_12-21-43.dat.csv is empty.\n",
      "Processing file: C:/Users/SKTPJ15/real/valdata\\cluster0_nk100_2650_2024-04-15_12-31-43.dat.csv\n",
      "Warning: C:/Users/SKTPJ15/real/valdata\\cluster0_nk100_2650_2024-04-15_12-31-43.dat.csv is empty.\n",
      "Processing file: C:/Users/SKTPJ15/real/valdata\\cluster0_nk100_2650_2024-04-15_12-41-43.dat.csv\n",
      "Warning: C:/Users/SKTPJ15/real/valdata\\cluster0_nk100_2650_2024-04-15_12-41-43.dat.csv is empty.\n",
      "Processing file: C:/Users/SKTPJ15/real/valdata\\cluster0_nk100_2650_2024-04-15_12-51-43.dat.csv\n",
      "Processing file: C:/Users/SKTPJ15/real/valdata\\cluster0_nk100_2650_2024-04-15_13-01-43.dat.csv\n",
      "Warning: C:/Users/SKTPJ15/real/valdata\\cluster0_nk100_2650_2024-04-15_13-01-43.dat.csv is empty.\n",
      "Processing file: C:/Users/SKTPJ15/real/valdata\\cluster0_nk100_2650_2024-04-15_13-11-43.dat.csv\n",
      "Warning: C:/Users/SKTPJ15/real/valdata\\cluster0_nk100_2650_2024-04-15_13-11-43.dat.csv is empty.\n",
      "Processing file: C:/Users/SKTPJ15/real/valdata\\cluster0_nk100_2650_2024-04-15_13-21-43.dat.csv\n",
      "Processing file: C:/Users/SKTPJ15/real/valdata\\cluster0_nk100_2650_2024-04-15_13-31-43.dat.csv\n",
      "Processing file: C:/Users/SKTPJ15/real/valdata\\cluster0_nk100_2650_2024-04-15_13-41-43.dat.csv\n",
      "Warning: C:/Users/SKTPJ15/real/valdata\\cluster0_nk100_2650_2024-04-15_13-41-43.dat.csv is empty.\n",
      "Processing file: C:/Users/SKTPJ15/real/valdata\\cluster0_nk100_2650_2024-04-15_13-51-43.dat.csv\n",
      "Warning: C:/Users/SKTPJ15/real/valdata\\cluster0_nk100_2650_2024-04-15_13-51-43.dat.csv is empty.\n",
      "Processing file: C:/Users/SKTPJ15/real/valdata\\cluster0_nk100_2650_2024-04-15_14-01-43.dat.csv\n",
      "Processing file: C:/Users/SKTPJ15/real/valdata\\cluster0_nk100_2650_2024-04-15_14-11-43.dat.csv\n",
      "Processing file: C:/Users/SKTPJ15/real/valdata\\cluster0_nk100_2650_2024-04-15_14-21-43.dat.csv\n",
      "Warning: C:/Users/SKTPJ15/real/valdata\\cluster0_nk100_2650_2024-04-15_14-21-43.dat.csv is empty.\n",
      "Processing file: C:/Users/SKTPJ15/real/valdata\\cluster0_nk100_2650_2024-04-15_14-31-43.dat.csv\n",
      "Warning: C:/Users/SKTPJ15/real/valdata\\cluster0_nk100_2650_2024-04-15_14-31-43.dat.csv is empty.\n",
      "Processing file: C:/Users/SKTPJ15/real/valdata\\cluster0_nk100_2650_2024-04-15_14-41-43.dat.csv\n",
      "Warning: C:/Users/SKTPJ15/real/valdata\\cluster0_nk100_2650_2024-04-15_14-41-43.dat.csv is empty.\n",
      "Processing file: C:/Users/SKTPJ15/real/valdata\\cluster0_nk100_2650_2024-04-15_14-51-43.dat.csv\n",
      "Warning: C:/Users/SKTPJ15/real/valdata\\cluster0_nk100_2650_2024-04-15_14-51-43.dat.csv is empty.\n",
      "Processing file: C:/Users/SKTPJ15/real/valdata\\cluster0_nk100_2650_2024-04-15_15-01-43.dat.csv\n",
      "Warning: C:/Users/SKTPJ15/real/valdata\\cluster0_nk100_2650_2024-04-15_15-01-43.dat.csv is empty.\n",
      "Processing file: C:/Users/SKTPJ15/real/valdata\\cluster0_nk100_2650_2024-04-15_15-11-43.dat.csv\n",
      "Warning: C:/Users/SKTPJ15/real/valdata\\cluster0_nk100_2650_2024-04-15_15-11-43.dat.csv is empty.\n",
      "Processing file: C:/Users/SKTPJ15/real/valdata\\cluster0_nk100_2650_2024-04-15_15-21-43.dat.csv\n",
      "Warning: C:/Users/SKTPJ15/real/valdata\\cluster0_nk100_2650_2024-04-15_15-21-43.dat.csv is empty.\n",
      "Processing file: C:/Users/SKTPJ15/real/valdata\\cluster0_nk100_2650_2024-04-15_15-31-43.dat.csv\n",
      "Warning: C:/Users/SKTPJ15/real/valdata\\cluster0_nk100_2650_2024-04-15_15-31-43.dat.csv is empty.\n",
      "Processing file: C:/Users/SKTPJ15/real/valdata\\cluster0_nk100_2650_2024-04-15_15-41-43.dat.csv\n",
      "Warning: C:/Users/SKTPJ15/real/valdata\\cluster0_nk100_2650_2024-04-15_15-41-43.dat.csv is empty.\n",
      "Processing file: C:/Users/SKTPJ15/real/valdata\\cluster0_nk100_2650_2024-04-15_15-51-43.dat.csv\n",
      "Warning: C:/Users/SKTPJ15/real/valdata\\cluster0_nk100_2650_2024-04-15_15-51-43.dat.csv is empty.\n",
      "Processing file: C:/Users/SKTPJ15/real/valdata\\cluster0_nk100_2650_2024-04-15_16-01-43.dat.csv\n",
      "Warning: C:/Users/SKTPJ15/real/valdata\\cluster0_nk100_2650_2024-04-15_16-01-43.dat.csv is empty.\n",
      "Processing file: C:/Users/SKTPJ15/real/valdata\\cluster0_nk100_2650_2024-04-15_16-11-43.dat.csv\n",
      "Warning: C:/Users/SKTPJ15/real/valdata\\cluster0_nk100_2650_2024-04-15_16-11-43.dat.csv is empty.\n",
      "Processing file: C:/Users/SKTPJ15/real/valdata\\cluster0_nk100_2650_2024-04-15_16-21-43.dat.csv\n",
      "Warning: C:/Users/SKTPJ15/real/valdata\\cluster0_nk100_2650_2024-04-15_16-21-43.dat.csv is empty.\n",
      "Processing file: C:/Users/SKTPJ15/real/valdata\\cluster0_nk100_2650_2024-04-15_16-31-43.dat.csv\n",
      "Warning: C:/Users/SKTPJ15/real/valdata\\cluster0_nk100_2650_2024-04-15_16-31-43.dat.csv is empty.\n",
      "Processing file: C:/Users/SKTPJ15/real/valdata\\cluster0_nk100_2650_2024-04-15_16-41-43.dat.csv\n",
      "Warning: C:/Users/SKTPJ15/real/valdata\\cluster0_nk100_2650_2024-04-15_16-41-43.dat.csv is empty.\n",
      "Processing file: C:/Users/SKTPJ15/real/valdata\\cluster0_nk100_2650_2024-04-15_16-51-43.dat.csv\n",
      "Warning: C:/Users/SKTPJ15/real/valdata\\cluster0_nk100_2650_2024-04-15_16-51-43.dat.csv is empty.\n",
      "Processing file: C:/Users/SKTPJ15/real/valdata\\cluster0_nk100_2650_2024-04-15_17-01-43.dat.csv\n",
      "Warning: C:/Users/SKTPJ15/real/valdata\\cluster0_nk100_2650_2024-04-15_17-01-43.dat.csv is empty.\n",
      "Processing file: C:/Users/SKTPJ15/real/valdata\\cluster0_nk100_2650_2024-04-15_17-11-43.dat.csv\n",
      "Processing file: C:/Users/SKTPJ15/real/valdata\\cluster0_nk100_2650_2024-04-15_17-21-43.dat.csv\n",
      "Processing file: C:/Users/SKTPJ15/real/valdata\\cluster0_nk100_2650_2024-04-15_17-31-43.dat.csv\n",
      "Processing file: C:/Users/SKTPJ15/real/valdata\\cluster0_nk100_2650_2024-04-15_17-41-43.dat.csv\n",
      "Warning: C:/Users/SKTPJ15/real/valdata\\cluster0_nk100_2650_2024-04-15_17-41-43.dat.csv is empty.\n",
      "Processing file: C:/Users/SKTPJ15/real/valdata\\cluster0_nk100_2650_2024-04-15_17-51-43.dat.csv\n",
      "Warning: C:/Users/SKTPJ15/real/valdata\\cluster0_nk100_2650_2024-04-15_17-51-43.dat.csv is empty.\n",
      "Processing file: C:/Users/SKTPJ15/real/valdata\\cluster0_nk100_2650_2024-04-15_18-01-43.dat.csv\n",
      "Warning: C:/Users/SKTPJ15/real/valdata\\cluster0_nk100_2650_2024-04-15_18-01-43.dat.csv is empty.\n",
      "Processing file: C:/Users/SKTPJ15/real/valdata\\cluster0_nk100_2650_2024-04-15_18-11-43.dat.csv\n",
      "Warning: C:/Users/SKTPJ15/real/valdata\\cluster0_nk100_2650_2024-04-15_18-11-43.dat.csv is empty.\n",
      "Processing file: C:/Users/SKTPJ15/real/valdata\\cluster0_nk100_2650_2024-04-15_18-21-43.dat.csv\n",
      "Processing file: C:/Users/SKTPJ15/real/valdata\\cluster0_nk100_2650_2024-04-15_18-31-43.dat.csv\n",
      "Warning: C:/Users/SKTPJ15/real/valdata\\cluster0_nk100_2650_2024-04-15_18-31-43.dat.csv is empty.\n",
      "Processing file: C:/Users/SKTPJ15/real/valdata\\cluster0_nk100_2650_2024-04-15_18-41-43.dat.csv\n",
      "Processing file: C:/Users/SKTPJ15/real/valdata\\cluster0_nk100_2650_2024-04-15_18-51-43.dat.csv\n",
      "Warning: C:/Users/SKTPJ15/real/valdata\\cluster0_nk100_2650_2024-04-15_18-51-43.dat.csv is empty.\n",
      "Processing file: C:/Users/SKTPJ15/real/valdata\\cluster0_nk100_2650_2024-04-15_19-01-43.dat.csv\n",
      "Warning: C:/Users/SKTPJ15/real/valdata\\cluster0_nk100_2650_2024-04-15_19-01-43.dat.csv is empty.\n",
      "Processing file: C:/Users/SKTPJ15/real/valdata\\cluster0_nk100_2650_2024-04-15_19-11-43.dat.csv\n",
      "Warning: C:/Users/SKTPJ15/real/valdata\\cluster0_nk100_2650_2024-04-15_19-11-43.dat.csv is empty.\n",
      "Processing file: C:/Users/SKTPJ15/real/valdata\\cluster0_nk100_2650_2024-04-15_19-21-43.dat.csv\n",
      "Processing file: C:/Users/SKTPJ15/real/valdata\\cluster0_nk100_2650_2024-04-15_19-31-43.dat.csv\n",
      "Warning: C:/Users/SKTPJ15/real/valdata\\cluster0_nk100_2650_2024-04-15_19-31-43.dat.csv is empty.\n",
      "Processing file: C:/Users/SKTPJ15/real/valdata\\cluster0_nk100_2650_2024-04-15_19-41-43.dat.csv\n",
      "Warning: C:/Users/SKTPJ15/real/valdata\\cluster0_nk100_2650_2024-04-15_19-41-43.dat.csv is empty.\n",
      "Processing file: C:/Users/SKTPJ15/real/valdata\\cluster0_nk100_2650_2024-04-15_19-51-43.dat.csv\n",
      "Warning: C:/Users/SKTPJ15/real/valdata\\cluster0_nk100_2650_2024-04-15_19-51-43.dat.csv is empty.\n",
      "Processing file: C:/Users/SKTPJ15/real/valdata\\cluster0_nk100_2650_2024-04-15_20-01-43.dat.csv\n",
      "Warning: C:/Users/SKTPJ15/real/valdata\\cluster0_nk100_2650_2024-04-15_20-01-43.dat.csv is empty.\n",
      "Processing file: C:/Users/SKTPJ15/real/valdata\\cluster0_nk100_2650_2024-04-15_20-11-43.dat.csv\n",
      "Warning: C:/Users/SKTPJ15/real/valdata\\cluster0_nk100_2650_2024-04-15_20-11-43.dat.csv is empty.\n",
      "Processing file: C:/Users/SKTPJ15/real/valdata\\cluster0_nk100_2650_2024-04-15_20-21-43.dat.csv\n",
      "Warning: C:/Users/SKTPJ15/real/valdata\\cluster0_nk100_2650_2024-04-15_20-21-43.dat.csv is empty.\n",
      "Processing file: C:/Users/SKTPJ15/real/valdata\\cluster0_nk100_2650_2024-04-15_20-31-43.dat.csv\n",
      "Processing file: C:/Users/SKTPJ15/real/valdata\\cluster0_nk100_2650_2024-04-15_20-41-43.dat.csv\n",
      "Warning: C:/Users/SKTPJ15/real/valdata\\cluster0_nk100_2650_2024-04-15_20-41-43.dat.csv is empty.\n",
      "Processing file: C:/Users/SKTPJ15/real/valdata\\cluster0_nk100_2650_2024-04-15_20-51-43.dat.csv\n",
      "Processing file: C:/Users/SKTPJ15/real/valdata\\cluster0_nk100_2650_2024-04-15_21-01-43.dat.csv\n",
      "Processing file: C:/Users/SKTPJ15/real/valdata\\cluster0_nk100_2650_2024-04-15_21-11-43.dat.csv\n",
      "Processing file: C:/Users/SKTPJ15/real/valdata\\cluster0_nk100_2650_2024-04-15_21-21-43.dat.csv\n",
      "Processing file: C:/Users/SKTPJ15/real/valdata\\cluster0_nk100_2650_2024-04-15_21-31-43.dat.csv\n",
      "Warning: C:/Users/SKTPJ15/real/valdata\\cluster0_nk100_2650_2024-04-15_21-31-43.dat.csv is empty.\n",
      "Processing file: C:/Users/SKTPJ15/real/valdata\\cluster0_nk100_2650_2024-04-15_21-41-43.dat.csv\n",
      "Warning: C:/Users/SKTPJ15/real/valdata\\cluster0_nk100_2650_2024-04-15_21-41-43.dat.csv is empty.\n",
      "Processing file: C:/Users/SKTPJ15/real/valdata\\cluster0_nk100_2650_2024-04-15_21-51-43.dat.csv\n",
      "Warning: C:/Users/SKTPJ15/real/valdata\\cluster0_nk100_2650_2024-04-15_21-51-43.dat.csv is empty.\n",
      "Processing file: C:/Users/SKTPJ15/real/valdata\\cluster0_nk100_2650_2024-04-15_22-01-43.dat.csv\n",
      "Warning: C:/Users/SKTPJ15/real/valdata\\cluster0_nk100_2650_2024-04-15_22-01-43.dat.csv is empty.\n",
      "Processing file: C:/Users/SKTPJ15/real/valdata\\cluster0_nk100_2650_2024-04-15_22-11-43.dat.csv\n",
      "Warning: C:/Users/SKTPJ15/real/valdata\\cluster0_nk100_2650_2024-04-15_22-11-43.dat.csv is empty.\n",
      "Processing file: C:/Users/SKTPJ15/real/valdata\\cluster0_nk100_2650_2024-04-15_22-21-43.dat.csv\n",
      "Warning: C:/Users/SKTPJ15/real/valdata\\cluster0_nk100_2650_2024-04-15_22-21-43.dat.csv is empty.\n",
      "Processing file: C:/Users/SKTPJ15/real/valdata\\cluster0_nk100_2650_2024-04-15_22-31-43.dat.csv\n",
      "Warning: C:/Users/SKTPJ15/real/valdata\\cluster0_nk100_2650_2024-04-15_22-31-43.dat.csv is empty.\n",
      "Processing file: C:/Users/SKTPJ15/real/valdata\\cluster0_nk100_2650_2024-04-15_22-41-43.dat.csv\n",
      "Warning: C:/Users/SKTPJ15/real/valdata\\cluster0_nk100_2650_2024-04-15_22-41-43.dat.csv is empty.\n",
      "Processing file: C:/Users/SKTPJ15/real/valdata\\cluster0_nk100_2650_2024-04-15_22-51-43.dat.csv\n",
      "Warning: C:/Users/SKTPJ15/real/valdata\\cluster0_nk100_2650_2024-04-15_22-51-43.dat.csv is empty.\n",
      "Processing file: C:/Users/SKTPJ15/real/valdata\\cluster0_nk100_2650_2024-04-15_23-01-43.dat.csv\n",
      "Warning: C:/Users/SKTPJ15/real/valdata\\cluster0_nk100_2650_2024-04-15_23-01-43.dat.csv is empty.\n",
      "Processing file: C:/Users/SKTPJ15/real/valdata\\cluster0_nk100_2650_2024-04-15_23-11-43.dat.csv\n",
      "Warning: C:/Users/SKTPJ15/real/valdata\\cluster0_nk100_2650_2024-04-15_23-11-43.dat.csv is empty.\n",
      "Processing file: C:/Users/SKTPJ15/real/valdata\\cluster0_nk100_2650_2024-04-15_23-21-43.dat.csv\n",
      "Warning: C:/Users/SKTPJ15/real/valdata\\cluster0_nk100_2650_2024-04-15_23-21-43.dat.csv is empty.\n",
      "Processing file: C:/Users/SKTPJ15/real/valdata\\cluster0_nk100_2650_2024-04-15_23-31-43.dat.csv\n",
      "Warning: C:/Users/SKTPJ15/real/valdata\\cluster0_nk100_2650_2024-04-15_23-31-43.dat.csv is empty.\n",
      "Processing file: C:/Users/SKTPJ15/real/valdata\\cluster0_nk100_2650_2024-04-15_23-41-43.dat.csv\n",
      "Warning: C:/Users/SKTPJ15/real/valdata\\cluster0_nk100_2650_2024-04-15_23-41-43.dat.csv is empty.\n",
      "Processing file: C:/Users/SKTPJ15/real/valdata\\cluster0_nk100_2650_2024-04-15_23-51-43.dat.csv\n",
      "Warning: C:/Users/SKTPJ15/real/valdata\\cluster0_nk100_2650_2024-04-15_23-51-43.dat.csv is empty.\n",
      "Processing file: C:/Users/SKTPJ15/real/valdata\\cluster0_nk100_2650_2024-04-16_00-01-43.dat.csv\n",
      "Warning: C:/Users/SKTPJ15/real/valdata\\cluster0_nk100_2650_2024-04-16_00-01-43.dat.csv is empty.\n",
      "Processing file: C:/Users/SKTPJ15/real/valdata\\cluster0_nk100_2650_2024-04-16_00-11-43.dat.csv\n",
      "Warning: C:/Users/SKTPJ15/real/valdata\\cluster0_nk100_2650_2024-04-16_00-11-43.dat.csv is empty.\n",
      "Processing file: C:/Users/SKTPJ15/real/valdata\\cluster0_nk100_2650_2024-04-16_00-21-43.dat.csv\n",
      "Processing file: C:/Users/SKTPJ15/real/valdata\\cluster0_nk100_2650_2024-04-16_00-31-43.dat.csv\n",
      "Warning: C:/Users/SKTPJ15/real/valdata\\cluster0_nk100_2650_2024-04-16_00-31-43.dat.csv is empty.\n",
      "Processing file: C:/Users/SKTPJ15/real/valdata\\cluster0_nk100_2650_2024-04-16_00-41-43.dat.csv\n",
      "Processing file: C:/Users/SKTPJ15/real/valdata\\cluster0_nk100_2650_2024-04-16_00-51-43.dat.csv\n",
      "Processing file: C:/Users/SKTPJ15/real/valdata\\cluster0_nk100_2650_2024-04-16_01-01-43.dat.csv\n",
      "Warning: C:/Users/SKTPJ15/real/valdata\\cluster0_nk100_2650_2024-04-16_01-01-43.dat.csv is empty.\n",
      "Processing file: C:/Users/SKTPJ15/real/valdata\\cluster0_nk100_2650_2024-04-16_01-11-43.dat.csv\n",
      "Processing file: C:/Users/SKTPJ15/real/valdata\\cluster0_nk100_2650_2024-04-16_01-21-43.dat.csv\n",
      "Processing file: C:/Users/SKTPJ15/real/valdata\\cluster0_nk100_2650_2024-04-16_01-31-43.dat.csv\n",
      "Warning: C:/Users/SKTPJ15/real/valdata\\cluster0_nk100_2650_2024-04-16_01-31-43.dat.csv is empty.\n",
      "Processing file: C:/Users/SKTPJ15/real/valdata\\cluster0_nk100_2650_2024-04-16_01-41-43.dat.csv\n",
      "Warning: C:/Users/SKTPJ15/real/valdata\\cluster0_nk100_2650_2024-04-16_01-41-43.dat.csv is empty.\n",
      "Processing file: C:/Users/SKTPJ15/real/valdata\\cluster0_nk100_2650_2024-04-16_01-51-43.dat.csv\n",
      "Processing file: C:/Users/SKTPJ15/real/valdata\\cluster0_nk100_2650_2024-04-16_02-01-43.dat.csv\n",
      "Warning: C:/Users/SKTPJ15/real/valdata\\cluster0_nk100_2650_2024-04-16_02-01-43.dat.csv is empty.\n",
      "Processing file: C:/Users/SKTPJ15/real/valdata\\cluster0_nk100_2650_2024-04-16_02-11-43.dat.csv\n",
      "Processing file: C:/Users/SKTPJ15/real/valdata\\cluster0_nk100_2650_2024-04-16_02-21-43.dat.csv\n",
      "Warning: C:/Users/SKTPJ15/real/valdata\\cluster0_nk100_2650_2024-04-16_02-21-43.dat.csv is empty.\n",
      "Processing file: C:/Users/SKTPJ15/real/valdata\\cluster0_nk100_2650_2024-04-16_02-31-43.dat.csv\n"
     ]
    }
   ],
   "source": [
    "print(\"train\")\n",
    "train_folder_path = 'C:/Users/SKTPJ15/real/traindata_au'\n",
    "processed_train_data = process_all_csv_files(train_folder_path)\n",
    "\n",
    "print(\"val\")\n",
    "val_folder_path = 'C:/Users/SKTPJ15/real/valdata'\n",
    "processed_val_data = process_all_csv_files(val_folder_path)"
   ]
  },
  {
   "cell_type": "code",
   "execution_count": 3,
   "metadata": {},
   "outputs": [],
   "source": [
    "use_cuda = torch.cuda.is_available()\n",
    "device = torch.device(\"cuda\" if torch.cuda.is_available() else \"cpu\")\n",
    "\n",
    "kwargs = {'num_workers': 4, 'pin_memory': True} if use_cuda else {}\n",
    "\n",
    "train_dataset = TrainSet(processed_train_data)\n",
    "train_loader = DataLoader(train_dataset, batch_size=64, shuffle=False, **kwargs)\n",
    "\n",
    "val_dataset = TrainSet(processed_val_data)\n",
    "val_loader = DataLoader(val_dataset, batch_size=1, shuffle=False, **kwargs)"
   ]
  },
  {
   "cell_type": "code",
   "execution_count": 4,
   "metadata": {},
   "outputs": [
    {
     "name": "stdout",
     "output_type": "stream",
     "text": [
      "Total trainable parameters: 4.65 M\n"
     ]
    }
   ],
   "source": [
    "# 시드 값 고정\n",
    "random.seed(831)\n",
    "torch.manual_seed(831)\n",
    "torch.cuda.manual_seed_all(831)\n",
    "\n",
    "# 모델, 하이퍼 파라미터 설정\n",
    "model = TSRNet(enc_in=3).to(device)\n",
    "optimizer = torch.optim.AdamW(model.parameters() , lr=1e-4, weight_decay=1e-4)\n",
    "lr = 1e-4\n",
    "epochs = 64\n",
    "\n",
    "n_parameters = sum(p.numel() for p in model.parameters() if p.requires_grad)\n",
    "print(f\"Total trainable parameters: {round(n_parameters * 1e-6, 2)} M\")"
   ]
  },
  {
   "cell_type": "code",
   "execution_count": 5,
   "metadata": {},
   "outputs": [],
   "source": [
    "def train(model, epoch, train_loader, optimizer):\n",
    "    mask_ratio_time = 30\n",
    "    \n",
    "    model.train()\n",
    "    \n",
    "    total_losses = AverageMeter()\n",
    "    reconstruction_errors = AverageMeter()\n",
    "    \n",
    "    for i, (time_bcg, spectrogram_bcg) in tqdm(enumerate(train_loader)):\n",
    "        optimizer.zero_grad()\n",
    "        \n",
    "        # time branch masking\n",
    "        time_bcg = time_bcg.float().to(device)  #(32, 560, 3)\n",
    "        bs, time_length, dim = time_bcg.shape\n",
    "        mask_time = copy.deepcopy(time_bcg)\n",
    "        mask = torch.zeros((bs,time_length,1), dtype=torch.bool).to(device)\n",
    "        patch_length = time_length // 100 #5\n",
    "        for j in random.sample(range(0,100), mask_ratio_time):\n",
    "            mask[:, j*patch_length:(j+1)*patch_length] = 1 #(32, 5, 1)\n",
    "        mask_time = torch.mul(mask_time, ~mask)\n",
    "        \n",
    "        \n",
    "        #spectrogram branch\n",
    "        spec_bcg = spectrogram_bcg.float().to(device) #(32, 63, 66, 12)\n",
    "        (gen_time, time_var) = model(mask_time, spec_bcg)\n",
    "        \n",
    "        #loss time bcg\n",
    "        time_err = (gen_time - time_bcg) ** 2\n",
    "        reconstruction_error = torch.mean(time_err).item()\n",
    "        l_time = torch.mean(torch.exp(-time_var)*time_err) + torch.mean(time_var) \n",
    "        loss = l_time \n",
    "\n",
    "        # back propagation\n",
    "        loss.backward()\n",
    "        optimizer.step()\n",
    "\n",
    "        total_losses.update(loss.item(), bs)\n",
    "        reconstruction_errors.update(reconstruction_error, bs)\n",
    "        \n",
    "    print(f'Train Epoch: {epoch} Total_Loss: {total_losses.avg:.6f} Reconstruction_Error: {reconstruction_errors.avg:.6f}')\n",
    "    \n",
    "    return {\n",
    "        \"epoch\": epoch,\n",
    "        \"train_total_loss\": total_losses.avg,\n",
    "        \"train_reconstruction_error\": reconstruction_errors.avg\n",
    "    }\n",
    "        \n",
    "def val(model, test_loader):\n",
    "    torch.zero_grad = True\n",
    "    \n",
    "    model.eval()\n",
    "    \n",
    "    total_losses = AverageMeter()\n",
    "    reconstruction_errors = AverageMeter()\n",
    "    \n",
    "    for i, (time_bcg, spectrogram_bcg) in tqdm(enumerate(test_loader)):\n",
    "        with torch.no_grad():\n",
    "            time_bcg = time_bcg.float().to(device)\n",
    "            spec_bcg = spectrogram_bcg.float().to(device)\n",
    "            \n",
    "            # Forward pass\n",
    "            (gen_time, time_var) = model(time_bcg, spec_bcg)\n",
    "            \n",
    "            # Evaluate model\n",
    "            time_err = (gen_time - time_bcg) ** 2\n",
    "            reconstruction_error = torch.mean(time_err).item()\n",
    "            l_time = torch.mean(torch.exp(-time_var) * time_err) + torch.mean(time_var)\n",
    "            loss = l_time\n",
    "\n",
    "            total_losses.update(loss.item(), time_bcg.size(0))\n",
    "            reconstruction_errors.update(reconstruction_error, time_bcg.size(0))\n",
    "    \n",
    "    print(f'Test Total_Loss: {total_losses.avg:.6f} Reconstruction_Error: {reconstruction_errors.avg:.6f}')\n",
    "    \n",
    "    return {\n",
    "        \"val_total_loss\": total_losses.avg,\n",
    "        \"val_reconstruction_error\": reconstruction_errors.avg\n",
    "    }\n",
    "    \n",
    "def adjust_learning_rate(optimizer, init_lr, epoch, epochs):\n",
    "    \"\"\"Decay the learning rate based on schedule\"\"\"\n",
    "    cur_lr = init_lr * 0.5 * (1. + math.cos(math.pi * epoch / epochs))\n",
    "    for param_group in optimizer.param_groups:\n",
    "        param_group['lr'] = cur_lr\n",
    "        "
   ]
  },
  {
   "cell_type": "code",
   "execution_count": 6,
   "metadata": {},
   "outputs": [
    {
     "name": "stdout",
     "output_type": "stream",
     "text": [
      "   0/ 64 ----- [[2024-08-28 14:35:27]] [Need: 00:00:00]\n"
     ]
    },
    {
     "name": "stderr",
     "output_type": "stream",
     "text": [
      "338it [00:14, 23.20it/s]\n"
     ]
    },
    {
     "name": "stdout",
     "output_type": "stream",
     "text": [
      "Train Epoch: 0 Total_Loss: 0.324174 Reconstruction_Error: 0.089938\n"
     ]
    },
    {
     "name": "stderr",
     "output_type": "stream",
     "text": [
      "11356it [00:47, 237.80it/s]\n"
     ]
    },
    {
     "name": "stdout",
     "output_type": "stream",
     "text": [
      "Test Total_Loss: 0.242482 Reconstruction_Error: 0.069374\n",
      "   1/ 64 ----- [[2024-08-28 14:36:53]] [Need: 00:00:00]\n"
     ]
    },
    {
     "name": "stderr",
     "output_type": "stream",
     "text": [
      "338it [00:11, 29.95it/s]\n"
     ]
    },
    {
     "name": "stdout",
     "output_type": "stream",
     "text": [
      "Train Epoch: 1 Total_Loss: 0.199869 Reconstruction_Error: 0.062160\n"
     ]
    },
    {
     "name": "stderr",
     "output_type": "stream",
     "text": [
      "11356it [00:49, 228.34it/s]\n"
     ]
    },
    {
     "name": "stdout",
     "output_type": "stream",
     "text": [
      "Test Total_Loss: 0.162893 Reconstruction_Error: 0.057881\n",
      "   2/ 64 ----- [[2024-08-28 14:38:20]] [Need: 00:44:31]\n"
     ]
    },
    {
     "name": "stderr",
     "output_type": "stream",
     "text": [
      "338it [00:11, 29.62it/s]\n"
     ]
    },
    {
     "name": "stdout",
     "output_type": "stream",
     "text": [
      "Train Epoch: 2 Total_Loss: 0.129614 Reconstruction_Error: 0.055376\n"
     ]
    },
    {
     "name": "stderr",
     "output_type": "stream",
     "text": [
      "11356it [00:50, 227.05it/s]\n"
     ]
    },
    {
     "name": "stdout",
     "output_type": "stream",
     "text": [
      "Test Total_Loss: 0.104003 Reconstruction_Error: 0.052465\n",
      "   3/ 64 ----- [[2024-08-28 14:39:45]] [Need: 00:58:23]\n"
     ]
    },
    {
     "name": "stderr",
     "output_type": "stream",
     "text": [
      "338it [00:11, 29.91it/s]\n"
     ]
    },
    {
     "name": "stdout",
     "output_type": "stream",
     "text": [
      "Train Epoch: 3 Total_Loss: 0.089081 Reconstruction_Error: 0.050301\n"
     ]
    },
    {
     "name": "stderr",
     "output_type": "stream",
     "text": [
      "11356it [00:50, 224.13it/s]\n"
     ]
    },
    {
     "name": "stdout",
     "output_type": "stream",
     "text": [
      "Test Total_Loss: 0.078451 Reconstruction_Error: 0.047547\n",
      "   4/ 64 ----- [[2024-08-28 14:41:11]] [Need: 01:04:20]\n"
     ]
    },
    {
     "name": "stderr",
     "output_type": "stream",
     "text": [
      "338it [00:11, 29.71it/s]\n"
     ]
    },
    {
     "name": "stdout",
     "output_type": "stream",
     "text": [
      "Train Epoch: 4 Total_Loss: 0.069208 Reconstruction_Error: 0.043723\n"
     ]
    },
    {
     "name": "stderr",
     "output_type": "stream",
     "text": [
      "11356it [00:48, 236.53it/s]\n"
     ]
    },
    {
     "name": "stdout",
     "output_type": "stream",
     "text": [
      "Test Total_Loss: 0.058274 Reconstruction_Error: 0.035695\n",
      "   5/ 64 ----- [[2024-08-28 14:42:34]] [Need: 01:07:33]\n"
     ]
    },
    {
     "name": "stderr",
     "output_type": "stream",
     "text": [
      "338it [00:11, 30.02it/s]\n"
     ]
    },
    {
     "name": "stdout",
     "output_type": "stream",
     "text": [
      "Train Epoch: 5 Total_Loss: 0.050805 Reconstruction_Error: 0.032471\n"
     ]
    },
    {
     "name": "stderr",
     "output_type": "stream",
     "text": [
      "11356it [00:49, 231.36it/s]\n"
     ]
    },
    {
     "name": "stdout",
     "output_type": "stream",
     "text": [
      "Test Total_Loss: 0.043077 Reconstruction_Error: 0.028358\n",
      "   6/ 64 ----- [[2024-08-28 14:43:59]] [Need: 01:08:48]\n"
     ]
    },
    {
     "name": "stderr",
     "output_type": "stream",
     "text": [
      "338it [00:11, 30.29it/s]\n"
     ]
    },
    {
     "name": "stdout",
     "output_type": "stream",
     "text": [
      "Train Epoch: 6 Total_Loss: 0.039593 Reconstruction_Error: 0.027385\n"
     ]
    },
    {
     "name": "stderr",
     "output_type": "stream",
     "text": [
      "11356it [00:49, 227.78it/s]\n"
     ]
    },
    {
     "name": "stdout",
     "output_type": "stream",
     "text": [
      "Test Total_Loss: 0.035494 Reconstruction_Error: 0.024716\n",
      "   7/ 64 ----- [[2024-08-28 14:45:24]] [Need: 01:09:25]\n"
     ]
    },
    {
     "name": "stderr",
     "output_type": "stream",
     "text": [
      "338it [00:11, 29.79it/s]\n"
     ]
    },
    {
     "name": "stdout",
     "output_type": "stream",
     "text": [
      "Train Epoch: 7 Total_Loss: 0.034349 Reconstruction_Error: 0.024893\n"
     ]
    },
    {
     "name": "stderr",
     "output_type": "stream",
     "text": [
      "11356it [00:46, 243.83it/s]\n"
     ]
    },
    {
     "name": "stdout",
     "output_type": "stream",
     "text": [
      "Test Total_Loss: 0.031747 Reconstruction_Error: 0.023247\n",
      "   8/ 64 ----- [[2024-08-28 14:46:45]] [Need: 01:09:34]\n"
     ]
    },
    {
     "name": "stderr",
     "output_type": "stream",
     "text": [
      "338it [00:11, 30.34it/s]\n"
     ]
    },
    {
     "name": "stdout",
     "output_type": "stream",
     "text": [
      "Train Epoch: 8 Total_Loss: 0.029164 Reconstruction_Error: 0.023552\n"
     ]
    },
    {
     "name": "stderr",
     "output_type": "stream",
     "text": [
      "11356it [00:48, 235.50it/s]\n"
     ]
    },
    {
     "name": "stdout",
     "output_type": "stream",
     "text": [
      "Test Total_Loss: 0.026061 Reconstruction_Error: 0.022152\n",
      "   9/ 64 ----- [[2024-08-28 14:48:08]] [Need: 01:09:04]\n"
     ]
    },
    {
     "name": "stderr",
     "output_type": "stream",
     "text": [
      "338it [00:11, 30.42it/s]\n"
     ]
    },
    {
     "name": "stdout",
     "output_type": "stream",
     "text": [
      "Train Epoch: 9 Total_Loss: 0.026008 Reconstruction_Error: 0.022653\n"
     ]
    },
    {
     "name": "stderr",
     "output_type": "stream",
     "text": [
      "11356it [00:48, 235.28it/s]\n"
     ]
    },
    {
     "name": "stdout",
     "output_type": "stream",
     "text": [
      "Test Total_Loss: 0.024314 Reconstruction_Error: 0.021468\n",
      "  10/ 64 ----- [[2024-08-28 14:49:31]] [Need: 01:08:28]\n"
     ]
    },
    {
     "name": "stderr",
     "output_type": "stream",
     "text": [
      "338it [00:11, 29.83it/s]\n"
     ]
    },
    {
     "name": "stdout",
     "output_type": "stream",
     "text": [
      "Train Epoch: 10 Total_Loss: 0.024436 Reconstruction_Error: 0.021937\n"
     ]
    },
    {
     "name": "stderr",
     "output_type": "stream",
     "text": [
      "11356it [00:44, 257.46it/s]\n"
     ]
    },
    {
     "name": "stdout",
     "output_type": "stream",
     "text": [
      "Test Total_Loss: 0.023172 Reconstruction_Error: 0.021001\n",
      "  11/ 64 ----- [[2024-08-28 14:50:50]] [Need: 01:07:43]\n"
     ]
    },
    {
     "name": "stderr",
     "output_type": "stream",
     "text": [
      "338it [00:10, 31.07it/s]\n"
     ]
    },
    {
     "name": "stdout",
     "output_type": "stream",
     "text": [
      "Train Epoch: 11 Total_Loss: 0.023378 Reconstruction_Error: 0.021459\n"
     ]
    },
    {
     "name": "stderr",
     "output_type": "stream",
     "text": [
      "11356it [01:15, 150.82it/s]\n"
     ]
    },
    {
     "name": "stdout",
     "output_type": "stream",
     "text": [
      "Test Total_Loss: 0.022374 Reconstruction_Error: 0.020683\n",
      "  12/ 64 ----- [[2024-08-28 14:52:40]] [Need: 01:06:39]\n"
     ]
    },
    {
     "name": "stderr",
     "output_type": "stream",
     "text": [
      "338it [00:11, 30.05it/s]\n"
     ]
    },
    {
     "name": "stdout",
     "output_type": "stream",
     "text": [
      "Train Epoch: 12 Total_Loss: 0.022530 Reconstruction_Error: 0.021029\n"
     ]
    },
    {
     "name": "stderr",
     "output_type": "stream",
     "text": [
      "11356it [00:44, 257.19it/s]\n"
     ]
    },
    {
     "name": "stdout",
     "output_type": "stream",
     "text": [
      "Test Total_Loss: 0.021712 Reconstruction_Error: 0.020385\n",
      "  13/ 64 ----- [[2024-08-28 14:54:01]] [Need: 01:07:31]\n"
     ]
    },
    {
     "name": "stderr",
     "output_type": "stream",
     "text": [
      "338it [00:11, 29.48it/s]\n"
     ]
    },
    {
     "name": "stdout",
     "output_type": "stream",
     "text": [
      "Train Epoch: 13 Total_Loss: 0.021938 Reconstruction_Error: 0.020745\n"
     ]
    },
    {
     "name": "stderr",
     "output_type": "stream",
     "text": [
      "11356it [00:51, 222.66it/s]\n"
     ]
    },
    {
     "name": "stdout",
     "output_type": "stream",
     "text": [
      "Test Total_Loss: 0.021197 Reconstruction_Error: 0.020150\n",
      "  14/ 64 ----- [[2024-08-28 14:55:29]] [Need: 01:06:19]\n"
     ]
    },
    {
     "name": "stderr",
     "output_type": "stream",
     "text": [
      "338it [00:11, 28.86it/s]\n"
     ]
    },
    {
     "name": "stdout",
     "output_type": "stream",
     "text": [
      "Train Epoch: 14 Total_Loss: 0.021542 Reconstruction_Error: 0.020578\n"
     ]
    },
    {
     "name": "stderr",
     "output_type": "stream",
     "text": [
      "11356it [00:51, 220.59it/s]\n"
     ]
    },
    {
     "name": "stdout",
     "output_type": "stream",
     "text": [
      "Test Total_Loss: 0.020938 Reconstruction_Error: 0.020069\n",
      "  15/ 64 ----- [[2024-08-28 14:56:57]] [Need: 01:05:27]\n"
     ]
    },
    {
     "name": "stderr",
     "output_type": "stream",
     "text": [
      "338it [00:11, 28.92it/s]\n"
     ]
    },
    {
     "name": "stdout",
     "output_type": "stream",
     "text": [
      "Train Epoch: 15 Total_Loss: 0.021091 Reconstruction_Error: 0.020306\n"
     ]
    },
    {
     "name": "stderr",
     "output_type": "stream",
     "text": [
      "11356it [00:52, 218.05it/s]\n"
     ]
    },
    {
     "name": "stdout",
     "output_type": "stream",
     "text": [
      "Test Total_Loss: 0.020570 Reconstruction_Error: 0.019872\n",
      "  16/ 64 ----- [[2024-08-28 14:58:26]] [Need: 01:04:30]\n"
     ]
    },
    {
     "name": "stderr",
     "output_type": "stream",
     "text": [
      "338it [00:11, 30.40it/s]\n"
     ]
    },
    {
     "name": "stdout",
     "output_type": "stream",
     "text": [
      "Train Epoch: 16 Total_Loss: 0.020774 Reconstruction_Error: 0.020127\n"
     ]
    },
    {
     "name": "stderr",
     "output_type": "stream",
     "text": [
      "11356it [00:46, 245.48it/s]\n"
     ]
    },
    {
     "name": "stdout",
     "output_type": "stream",
     "text": [
      "Test Total_Loss: 0.020298 Reconstruction_Error: 0.019722\n",
      "  17/ 64 ----- [[2024-08-28 14:59:49]] [Need: 01:03:33]\n"
     ]
    },
    {
     "name": "stderr",
     "output_type": "stream",
     "text": [
      "338it [00:11, 30.23it/s]\n"
     ]
    },
    {
     "name": "stdout",
     "output_type": "stream",
     "text": [
      "Train Epoch: 17 Total_Loss: 0.020508 Reconstruction_Error: 0.019971\n"
     ]
    },
    {
     "name": "stderr",
     "output_type": "stream",
     "text": [
      "11356it [00:43, 259.43it/s]\n"
     ]
    },
    {
     "name": "stdout",
     "output_type": "stream",
     "text": [
      "Test Total_Loss: 0.020159 Reconstruction_Error: 0.019680\n",
      "  18/ 64 ----- [[2024-08-28 15:01:10]] [Need: 01:02:15]\n"
     ]
    },
    {
     "name": "stderr",
     "output_type": "stream",
     "text": [
      "338it [00:11, 29.43it/s]\n"
     ]
    },
    {
     "name": "stdout",
     "output_type": "stream",
     "text": [
      "Train Epoch: 18 Total_Loss: 0.020242 Reconstruction_Error: 0.019793\n"
     ]
    },
    {
     "name": "stderr",
     "output_type": "stream",
     "text": [
      "11356it [00:50, 224.60it/s]\n"
     ]
    },
    {
     "name": "stdout",
     "output_type": "stream",
     "text": [
      "Test Total_Loss: 0.019935 Reconstruction_Error: 0.019532\n",
      "  19/ 64 ----- [[2024-08-28 15:02:38]] [Need: 01:00:54]\n"
     ]
    },
    {
     "name": "stderr",
     "output_type": "stream",
     "text": [
      "338it [00:11, 30.06it/s]\n"
     ]
    },
    {
     "name": "stdout",
     "output_type": "stream",
     "text": [
      "Train Epoch: 19 Total_Loss: 0.019990 Reconstruction_Error: 0.019611\n"
     ]
    },
    {
     "name": "stderr",
     "output_type": "stream",
     "text": [
      "11356it [00:58, 192.65it/s]\n"
     ]
    },
    {
     "name": "stdout",
     "output_type": "stream",
     "text": [
      "Test Total_Loss: 0.019775 Reconstruction_Error: 0.019431\n",
      "  20/ 64 ----- [[2024-08-28 15:04:14]] [Need: 00:59:47]\n"
     ]
    },
    {
     "name": "stderr",
     "output_type": "stream",
     "text": [
      "338it [00:11, 28.60it/s]\n"
     ]
    },
    {
     "name": "stdout",
     "output_type": "stream",
     "text": [
      "Train Epoch: 20 Total_Loss: 0.019820 Reconstruction_Error: 0.019499\n"
     ]
    },
    {
     "name": "stderr",
     "output_type": "stream",
     "text": [
      "11356it [00:58, 194.99it/s]\n"
     ]
    },
    {
     "name": "stdout",
     "output_type": "stream",
     "text": [
      "Test Total_Loss: 0.019618 Reconstruction_Error: 0.019324\n",
      "  21/ 64 ----- [[2024-08-28 15:05:50]] [Need: 00:58:55]\n"
     ]
    },
    {
     "name": "stderr",
     "output_type": "stream",
     "text": [
      "338it [00:11, 28.88it/s]\n"
     ]
    },
    {
     "name": "stdout",
     "output_type": "stream",
     "text": [
      "Train Epoch: 21 Total_Loss: 0.019576 Reconstruction_Error: 0.019303\n"
     ]
    },
    {
     "name": "stderr",
     "output_type": "stream",
     "text": [
      "11356it [00:48, 234.91it/s]\n"
     ]
    },
    {
     "name": "stdout",
     "output_type": "stream",
     "text": [
      "Test Total_Loss: 0.019468 Reconstruction_Error: 0.019218\n",
      "  22/ 64 ----- [[2024-08-28 15:07:17]] [Need: 00:57:58]\n"
     ]
    },
    {
     "name": "stderr",
     "output_type": "stream",
     "text": [
      "338it [00:11, 30.17it/s]\n"
     ]
    },
    {
     "name": "stdout",
     "output_type": "stream",
     "text": [
      "Train Epoch: 22 Total_Loss: 0.019424 Reconstruction_Error: 0.019189\n"
     ]
    },
    {
     "name": "stderr",
     "output_type": "stream",
     "text": [
      "11356it [00:52, 216.56it/s]\n"
     ]
    },
    {
     "name": "stdout",
     "output_type": "stream",
     "text": [
      "Test Total_Loss: 0.019395 Reconstruction_Error: 0.019182\n",
      "  23/ 64 ----- [[2024-08-28 15:08:45]] [Need: 00:56:43]\n"
     ]
    },
    {
     "name": "stderr",
     "output_type": "stream",
     "text": [
      "338it [00:11, 30.47it/s]\n"
     ]
    },
    {
     "name": "stdout",
     "output_type": "stream",
     "text": [
      "Train Epoch: 23 Total_Loss: 0.019216 Reconstruction_Error: 0.019013\n"
     ]
    },
    {
     "name": "stderr",
     "output_type": "stream",
     "text": [
      "11356it [00:55, 206.44it/s]\n"
     ]
    },
    {
     "name": "stdout",
     "output_type": "stream",
     "text": [
      "Test Total_Loss: 0.019250 Reconstruction_Error: 0.019062\n",
      "  24/ 64 ----- [[2024-08-28 15:10:15]] [Need: 00:55:28]\n"
     ]
    },
    {
     "name": "stderr",
     "output_type": "stream",
     "text": [
      "338it [00:10, 30.98it/s]\n"
     ]
    },
    {
     "name": "stdout",
     "output_type": "stream",
     "text": [
      "Train Epoch: 24 Total_Loss: 0.019056 Reconstruction_Error: 0.018880\n"
     ]
    },
    {
     "name": "stderr",
     "output_type": "stream",
     "text": [
      "11356it [00:46, 243.78it/s]\n"
     ]
    },
    {
     "name": "stdout",
     "output_type": "stream",
     "text": [
      "Test Total_Loss: 0.019069 Reconstruction_Error: 0.018907\n",
      "  25/ 64 ----- [[2024-08-28 15:11:34]] [Need: 00:54:16]\n"
     ]
    },
    {
     "name": "stderr",
     "output_type": "stream",
     "text": [
      "338it [00:11, 30.67it/s]\n"
     ]
    },
    {
     "name": "stdout",
     "output_type": "stream",
     "text": [
      "Train Epoch: 25 Total_Loss: 0.018833 Reconstruction_Error: 0.018680\n"
     ]
    },
    {
     "name": "stderr",
     "output_type": "stream",
     "text": [
      "11356it [00:45, 247.26it/s]\n"
     ]
    },
    {
     "name": "stdout",
     "output_type": "stream",
     "text": [
      "Test Total_Loss: 0.018992 Reconstruction_Error: 0.018852\n",
      "  26/ 64 ----- [[2024-08-28 15:12:54]] [Need: 00:52:47]\n"
     ]
    },
    {
     "name": "stderr",
     "output_type": "stream",
     "text": [
      "338it [00:10, 30.88it/s]\n"
     ]
    },
    {
     "name": "stdout",
     "output_type": "stream",
     "text": [
      "Train Epoch: 26 Total_Loss: 0.018660 Reconstruction_Error: 0.018526\n"
     ]
    },
    {
     "name": "stderr",
     "output_type": "stream",
     "text": [
      "11356it [00:46, 246.11it/s]\n"
     ]
    },
    {
     "name": "stdout",
     "output_type": "stream",
     "text": [
      "Test Total_Loss: 0.018880 Reconstruction_Error: 0.018756\n",
      "  27/ 64 ----- [[2024-08-28 15:14:13]] [Need: 00:51:18]\n"
     ]
    },
    {
     "name": "stderr",
     "output_type": "stream",
     "text": [
      "338it [00:11, 30.20it/s]\n"
     ]
    },
    {
     "name": "stdout",
     "output_type": "stream",
     "text": [
      "Train Epoch: 27 Total_Loss: 0.018503 Reconstruction_Error: 0.018386\n"
     ]
    },
    {
     "name": "stderr",
     "output_type": "stream",
     "text": [
      "11356it [00:46, 244.40it/s]\n"
     ]
    },
    {
     "name": "stdout",
     "output_type": "stream",
     "text": [
      "Test Total_Loss: 0.018837 Reconstruction_Error: 0.018727\n",
      "  28/ 64 ----- [[2024-08-28 15:15:32]] [Need: 00:49:49]\n"
     ]
    },
    {
     "name": "stderr",
     "output_type": "stream",
     "text": [
      "338it [00:10, 31.33it/s]\n"
     ]
    },
    {
     "name": "stdout",
     "output_type": "stream",
     "text": [
      "Train Epoch: 28 Total_Loss: 0.018324 Reconstruction_Error: 0.018221\n"
     ]
    },
    {
     "name": "stderr",
     "output_type": "stream",
     "text": [
      "11356it [00:46, 245.89it/s]\n"
     ]
    },
    {
     "name": "stdout",
     "output_type": "stream",
     "text": [
      "Test Total_Loss: 0.018751 Reconstruction_Error: 0.018654\n",
      "  29/ 64 ----- [[2024-08-28 15:16:51]] [Need: 00:48:22]\n"
     ]
    },
    {
     "name": "stderr",
     "output_type": "stream",
     "text": [
      "338it [00:11, 30.49it/s]\n"
     ]
    },
    {
     "name": "stdout",
     "output_type": "stream",
     "text": [
      "Train Epoch: 29 Total_Loss: 0.018171 Reconstruction_Error: 0.018080\n"
     ]
    },
    {
     "name": "stderr",
     "output_type": "stream",
     "text": [
      "11356it [00:45, 247.29it/s]\n"
     ]
    },
    {
     "name": "stdout",
     "output_type": "stream",
     "text": [
      "Test Total_Loss: 0.018626 Reconstruction_Error: 0.018540\n",
      "  30/ 64 ----- [[2024-08-28 15:18:10]] [Need: 00:46:55]\n"
     ]
    },
    {
     "name": "stderr",
     "output_type": "stream",
     "text": [
      "338it [00:11, 30.68it/s]\n"
     ]
    },
    {
     "name": "stdout",
     "output_type": "stream",
     "text": [
      "Train Epoch: 30 Total_Loss: 0.017947 Reconstruction_Error: 0.017867\n"
     ]
    },
    {
     "name": "stderr",
     "output_type": "stream",
     "text": [
      "11356it [00:45, 250.26it/s]\n"
     ]
    },
    {
     "name": "stdout",
     "output_type": "stream",
     "text": [
      "Test Total_Loss: 0.018520 Reconstruction_Error: 0.018442\n",
      "  31/ 64 ----- [[2024-08-28 15:19:29]] [Need: 00:45:28]\n"
     ]
    },
    {
     "name": "stderr",
     "output_type": "stream",
     "text": [
      "338it [00:11, 29.99it/s]\n"
     ]
    },
    {
     "name": "stdout",
     "output_type": "stream",
     "text": [
      "Train Epoch: 31 Total_Loss: 0.017718 Reconstruction_Error: 0.017646\n"
     ]
    },
    {
     "name": "stderr",
     "output_type": "stream",
     "text": [
      "11356it [00:52, 217.72it/s]\n"
     ]
    },
    {
     "name": "stdout",
     "output_type": "stream",
     "text": [
      "Test Total_Loss: 0.018338 Reconstruction_Error: 0.018269\n",
      "  32/ 64 ----- [[2024-08-28 15:20:54]] [Need: 00:44:01]\n"
     ]
    },
    {
     "name": "stderr",
     "output_type": "stream",
     "text": [
      "338it [00:11, 28.55it/s]\n"
     ]
    },
    {
     "name": "stdout",
     "output_type": "stream",
     "text": [
      "Train Epoch: 32 Total_Loss: 0.017340 Reconstruction_Error: 0.017275\n"
     ]
    },
    {
     "name": "stderr",
     "output_type": "stream",
     "text": [
      "11356it [00:53, 212.25it/s]\n"
     ]
    },
    {
     "name": "stdout",
     "output_type": "stream",
     "text": [
      "Test Total_Loss: 0.018081 Reconstruction_Error: 0.018018\n",
      "  33/ 64 ----- [[2024-08-28 15:22:24]] [Need: 00:42:41]\n"
     ]
    },
    {
     "name": "stderr",
     "output_type": "stream",
     "text": [
      "338it [00:11, 30.30it/s]\n"
     ]
    },
    {
     "name": "stdout",
     "output_type": "stream",
     "text": [
      "Train Epoch: 33 Total_Loss: 0.016879 Reconstruction_Error: 0.016821\n"
     ]
    },
    {
     "name": "stderr",
     "output_type": "stream",
     "text": [
      "11356it [00:47, 236.58it/s]\n"
     ]
    },
    {
     "name": "stdout",
     "output_type": "stream",
     "text": [
      "Test Total_Loss: 0.017736 Reconstruction_Error: 0.017679\n",
      "  34/ 64 ----- [[2024-08-28 15:23:46]] [Need: 00:41:25]\n"
     ]
    },
    {
     "name": "stderr",
     "output_type": "stream",
     "text": [
      "338it [00:11, 30.44it/s]\n"
     ]
    },
    {
     "name": "stdout",
     "output_type": "stream",
     "text": [
      "Train Epoch: 34 Total_Loss: 0.016407 Reconstruction_Error: 0.016355\n"
     ]
    },
    {
     "name": "stderr",
     "output_type": "stream",
     "text": [
      "11356it [00:46, 242.00it/s]\n"
     ]
    },
    {
     "name": "stdout",
     "output_type": "stream",
     "text": [
      "Test Total_Loss: 0.017466 Reconstruction_Error: 0.017414\n",
      "  35/ 64 ----- [[2024-08-28 15:25:06]] [Need: 00:40:01]\n"
     ]
    },
    {
     "name": "stderr",
     "output_type": "stream",
     "text": [
      "338it [00:11, 29.41it/s]\n"
     ]
    },
    {
     "name": "stdout",
     "output_type": "stream",
     "text": [
      "Train Epoch: 35 Total_Loss: 0.016010 Reconstruction_Error: 0.015963\n"
     ]
    },
    {
     "name": "stderr",
     "output_type": "stream",
     "text": [
      "11356it [00:54, 209.00it/s]\n"
     ]
    },
    {
     "name": "stdout",
     "output_type": "stream",
     "text": [
      "Test Total_Loss: 0.017174 Reconstruction_Error: 0.017127\n",
      "  36/ 64 ----- [[2024-08-28 15:26:36]] [Need: 00:38:37]\n"
     ]
    },
    {
     "name": "stderr",
     "output_type": "stream",
     "text": [
      "338it [00:11, 29.91it/s]\n"
     ]
    },
    {
     "name": "stdout",
     "output_type": "stream",
     "text": [
      "Train Epoch: 36 Total_Loss: 0.015587 Reconstruction_Error: 0.015545\n"
     ]
    },
    {
     "name": "stderr",
     "output_type": "stream",
     "text": [
      "11356it [00:49, 231.13it/s]\n"
     ]
    },
    {
     "name": "stdout",
     "output_type": "stream",
     "text": [
      "Test Total_Loss: 0.016931 Reconstruction_Error: 0.016890\n",
      "  37/ 64 ----- [[2024-08-28 15:28:00]] [Need: 00:37:19]\n"
     ]
    },
    {
     "name": "stderr",
     "output_type": "stream",
     "text": [
      "338it [00:11, 30.37it/s]\n"
     ]
    },
    {
     "name": "stdout",
     "output_type": "stream",
     "text": [
      "Train Epoch: 37 Total_Loss: 0.015165 Reconstruction_Error: 0.015127\n"
     ]
    },
    {
     "name": "stderr",
     "output_type": "stream",
     "text": [
      "11356it [01:13, 154.96it/s]\n"
     ]
    },
    {
     "name": "stdout",
     "output_type": "stream",
     "text": [
      "Test Total_Loss: 0.016720 Reconstruction_Error: 0.016683\n",
      "  38/ 64 ----- [[2024-08-28 15:29:47]] [Need: 00:35:56]\n"
     ]
    },
    {
     "name": "stderr",
     "output_type": "stream",
     "text": [
      "338it [00:13, 25.64it/s]\n"
     ]
    },
    {
     "name": "stdout",
     "output_type": "stream",
     "text": [
      "Train Epoch: 38 Total_Loss: 0.014842 Reconstruction_Error: 0.014807\n"
     ]
    },
    {
     "name": "stderr",
     "output_type": "stream",
     "text": [
      "11356it [01:04, 175.82it/s]\n"
     ]
    },
    {
     "name": "stdout",
     "output_type": "stream",
     "text": [
      "Test Total_Loss: 0.016560 Reconstruction_Error: 0.016526\n",
      "  39/ 64 ----- [[2024-08-28 15:31:28]] [Need: 00:34:49]\n"
     ]
    },
    {
     "name": "stderr",
     "output_type": "stream",
     "text": [
      "338it [00:11, 28.69it/s]\n"
     ]
    },
    {
     "name": "stdout",
     "output_type": "stream",
     "text": [
      "Train Epoch: 39 Total_Loss: 0.014496 Reconstruction_Error: 0.014465\n"
     ]
    },
    {
     "name": "stderr",
     "output_type": "stream",
     "text": [
      "11356it [00:53, 212.09it/s]\n"
     ]
    },
    {
     "name": "stdout",
     "output_type": "stream",
     "text": [
      "Test Total_Loss: 0.016384 Reconstruction_Error: 0.016353\n",
      "  40/ 64 ----- [[2024-08-28 15:32:58]] [Need: 00:33:36]\n"
     ]
    },
    {
     "name": "stderr",
     "output_type": "stream",
     "text": [
      "338it [00:11, 29.55it/s]\n"
     ]
    },
    {
     "name": "stdout",
     "output_type": "stream",
     "text": [
      "Train Epoch: 40 Total_Loss: 0.014230 Reconstruction_Error: 0.014201\n"
     ]
    },
    {
     "name": "stderr",
     "output_type": "stream",
     "text": [
      "11356it [00:51, 220.53it/s]\n"
     ]
    },
    {
     "name": "stdout",
     "output_type": "stream",
     "text": [
      "Test Total_Loss: 0.016244 Reconstruction_Error: 0.016217\n",
      "  41/ 64 ----- [[2024-08-28 15:34:23]] [Need: 00:32:15]\n"
     ]
    },
    {
     "name": "stderr",
     "output_type": "stream",
     "text": [
      "338it [00:11, 30.29it/s]\n"
     ]
    },
    {
     "name": "stdout",
     "output_type": "stream",
     "text": [
      "Train Epoch: 41 Total_Loss: 0.013944 Reconstruction_Error: 0.013919\n"
     ]
    },
    {
     "name": "stderr",
     "output_type": "stream",
     "text": [
      "11356it [00:48, 236.56it/s]\n"
     ]
    },
    {
     "name": "stdout",
     "output_type": "stream",
     "text": [
      "Test Total_Loss: 0.016187 Reconstruction_Error: 0.016162\n",
      "  42/ 64 ----- [[2024-08-28 15:35:45]] [Need: 00:30:52]\n"
     ]
    },
    {
     "name": "stderr",
     "output_type": "stream",
     "text": [
      "338it [00:10, 30.90it/s]\n"
     ]
    },
    {
     "name": "stdout",
     "output_type": "stream",
     "text": [
      "Train Epoch: 42 Total_Loss: 0.013747 Reconstruction_Error: 0.013724\n"
     ]
    },
    {
     "name": "stderr",
     "output_type": "stream",
     "text": [
      "11356it [00:51, 218.39it/s]\n"
     ]
    },
    {
     "name": "stdout",
     "output_type": "stream",
     "text": [
      "Test Total_Loss: 0.016039 Reconstruction_Error: 0.016016\n",
      "  43/ 64 ----- [[2024-08-28 15:37:11]] [Need: 00:29:26]\n"
     ]
    },
    {
     "name": "stderr",
     "output_type": "stream",
     "text": [
      "338it [00:11, 30.40it/s]\n"
     ]
    },
    {
     "name": "stdout",
     "output_type": "stream",
     "text": [
      "Train Epoch: 43 Total_Loss: 0.013519 Reconstruction_Error: 0.013498\n"
     ]
    },
    {
     "name": "stderr",
     "output_type": "stream",
     "text": [
      "11356it [00:50, 226.53it/s]\n"
     ]
    },
    {
     "name": "stdout",
     "output_type": "stream",
     "text": [
      "Test Total_Loss: 0.015968 Reconstruction_Error: 0.015948\n",
      "  44/ 64 ----- [[2024-08-28 15:38:36]] [Need: 00:28:03]\n"
     ]
    },
    {
     "name": "stderr",
     "output_type": "stream",
     "text": [
      "338it [00:11, 30.24it/s]\n"
     ]
    },
    {
     "name": "stdout",
     "output_type": "stream",
     "text": [
      "Train Epoch: 44 Total_Loss: 0.013301 Reconstruction_Error: 0.013282\n"
     ]
    },
    {
     "name": "stderr",
     "output_type": "stream",
     "text": [
      "11356it [00:51, 222.40it/s]\n"
     ]
    },
    {
     "name": "stdout",
     "output_type": "stream",
     "text": [
      "Test Total_Loss: 0.015888 Reconstruction_Error: 0.015869\n",
      "  45/ 64 ----- [[2024-08-28 15:40:02]] [Need: 00:26:39]\n"
     ]
    },
    {
     "name": "stderr",
     "output_type": "stream",
     "text": [
      "338it [00:11, 29.71it/s]\n"
     ]
    },
    {
     "name": "stdout",
     "output_type": "stream",
     "text": [
      "Train Epoch: 45 Total_Loss: 0.013116 Reconstruction_Error: 0.013098\n"
     ]
    },
    {
     "name": "stderr",
     "output_type": "stream",
     "text": [
      "11356it [00:55, 206.47it/s]\n"
     ]
    },
    {
     "name": "stdout",
     "output_type": "stream",
     "text": [
      "Test Total_Loss: 0.015850 Reconstruction_Error: 0.015833\n",
      "  46/ 64 ----- [[2024-08-28 15:41:32]] [Need: 00:25:16]\n"
     ]
    },
    {
     "name": "stderr",
     "output_type": "stream",
     "text": [
      "338it [00:11, 29.41it/s]\n"
     ]
    },
    {
     "name": "stdout",
     "output_type": "stream",
     "text": [
      "Train Epoch: 46 Total_Loss: 0.012946 Reconstruction_Error: 0.012930\n"
     ]
    },
    {
     "name": "stderr",
     "output_type": "stream",
     "text": [
      "11356it [00:59, 191.74it/s]\n"
     ]
    },
    {
     "name": "stdout",
     "output_type": "stream",
     "text": [
      "Test Total_Loss: 0.015745 Reconstruction_Error: 0.015730\n",
      "  47/ 64 ----- [[2024-08-28 15:43:08]] [Need: 00:23:54]\n"
     ]
    },
    {
     "name": "stderr",
     "output_type": "stream",
     "text": [
      "338it [00:11, 30.19it/s]\n"
     ]
    },
    {
     "name": "stdout",
     "output_type": "stream",
     "text": [
      "Train Epoch: 47 Total_Loss: 0.012781 Reconstruction_Error: 0.012766\n"
     ]
    },
    {
     "name": "stderr",
     "output_type": "stream",
     "text": [
      "11356it [00:49, 230.98it/s]\n"
     ]
    },
    {
     "name": "stdout",
     "output_type": "stream",
     "text": [
      "Test Total_Loss: 0.015717 Reconstruction_Error: 0.015702\n",
      "  48/ 64 ----- [[2024-08-28 15:44:32]] [Need: 00:22:33]\n"
     ]
    },
    {
     "name": "stderr",
     "output_type": "stream",
     "text": [
      "338it [00:11, 30.07it/s]\n"
     ]
    },
    {
     "name": "stdout",
     "output_type": "stream",
     "text": [
      "Train Epoch: 48 Total_Loss: 0.012627 Reconstruction_Error: 0.012614\n"
     ]
    },
    {
     "name": "stderr",
     "output_type": "stream",
     "text": [
      "11356it [00:51, 222.54it/s]\n"
     ]
    },
    {
     "name": "stdout",
     "output_type": "stream",
     "text": [
      "Test Total_Loss: 0.015669 Reconstruction_Error: 0.015655\n",
      "  49/ 64 ----- [[2024-08-28 15:45:57]] [Need: 00:21:08]\n"
     ]
    },
    {
     "name": "stderr",
     "output_type": "stream",
     "text": [
      "338it [00:10, 31.05it/s]\n"
     ]
    },
    {
     "name": "stdout",
     "output_type": "stream",
     "text": [
      "Train Epoch: 49 Total_Loss: 0.012537 Reconstruction_Error: 0.012525\n"
     ]
    },
    {
     "name": "stderr",
     "output_type": "stream",
     "text": [
      "11356it [00:43, 258.94it/s]\n"
     ]
    },
    {
     "name": "stdout",
     "output_type": "stream",
     "text": [
      "Test Total_Loss: 0.015610 Reconstruction_Error: 0.015597\n",
      "  50/ 64 ----- [[2024-08-28 15:47:18]] [Need: 00:19:44]\n"
     ]
    },
    {
     "name": "stderr",
     "output_type": "stream",
     "text": [
      "338it [00:10, 30.78it/s]\n"
     ]
    },
    {
     "name": "stdout",
     "output_type": "stream",
     "text": [
      "Train Epoch: 50 Total_Loss: 0.012414 Reconstruction_Error: 0.012402\n"
     ]
    },
    {
     "name": "stderr",
     "output_type": "stream",
     "text": [
      "11356it [00:46, 242.96it/s]\n"
     ]
    },
    {
     "name": "stdout",
     "output_type": "stream",
     "text": [
      "Test Total_Loss: 0.015587 Reconstruction_Error: 0.015575\n",
      "  51/ 64 ----- [[2024-08-28 15:48:40]] [Need: 00:18:18]\n"
     ]
    },
    {
     "name": "stderr",
     "output_type": "stream",
     "text": [
      "338it [00:11, 28.77it/s]\n"
     ]
    },
    {
     "name": "stdout",
     "output_type": "stream",
     "text": [
      "Train Epoch: 51 Total_Loss: 0.012310 Reconstruction_Error: 0.012299\n"
     ]
    },
    {
     "name": "stderr",
     "output_type": "stream",
     "text": [
      "11356it [00:50, 227.00it/s]\n"
     ]
    },
    {
     "name": "stdout",
     "output_type": "stream",
     "text": [
      "Test Total_Loss: 0.015564 Reconstruction_Error: 0.015553\n",
      "  52/ 64 ----- [[2024-08-28 15:50:06]] [Need: 00:16:53]\n"
     ]
    },
    {
     "name": "stderr",
     "output_type": "stream",
     "text": [
      "338it [00:12, 28.01it/s]\n"
     ]
    },
    {
     "name": "stdout",
     "output_type": "stream",
     "text": [
      "Train Epoch: 52 Total_Loss: 0.012204 Reconstruction_Error: 0.012193\n"
     ]
    },
    {
     "name": "stderr",
     "output_type": "stream",
     "text": [
      "11356it [00:54, 209.06it/s]\n"
     ]
    },
    {
     "name": "stdout",
     "output_type": "stream",
     "text": [
      "Test Total_Loss: 0.015534 Reconstruction_Error: 0.015523\n",
      "  53/ 64 ----- [[2024-08-28 15:51:37]] [Need: 00:15:29]\n"
     ]
    },
    {
     "name": "stderr",
     "output_type": "stream",
     "text": [
      "338it [00:11, 30.15it/s]\n"
     ]
    },
    {
     "name": "stdout",
     "output_type": "stream",
     "text": [
      "Train Epoch: 53 Total_Loss: 0.012113 Reconstruction_Error: 0.012103\n"
     ]
    },
    {
     "name": "stderr",
     "output_type": "stream",
     "text": [
      "11356it [00:54, 210.00it/s]\n"
     ]
    },
    {
     "name": "stdout",
     "output_type": "stream",
     "text": [
      "Test Total_Loss: 0.015516 Reconstruction_Error: 0.015507\n",
      "  54/ 64 ----- [[2024-08-28 15:53:07]] [Need: 00:14:06]\n"
     ]
    },
    {
     "name": "stderr",
     "output_type": "stream",
     "text": [
      "338it [00:11, 29.53it/s]\n"
     ]
    },
    {
     "name": "stdout",
     "output_type": "stream",
     "text": [
      "Train Epoch: 54 Total_Loss: 0.012072 Reconstruction_Error: 0.012063\n"
     ]
    },
    {
     "name": "stderr",
     "output_type": "stream",
     "text": [
      "11356it [00:51, 220.45it/s]\n"
     ]
    },
    {
     "name": "stdout",
     "output_type": "stream",
     "text": [
      "Test Total_Loss: 0.015500 Reconstruction_Error: 0.015491\n",
      "  55/ 64 ----- [[2024-08-28 15:54:34]] [Need: 00:12:42]\n"
     ]
    },
    {
     "name": "stderr",
     "output_type": "stream",
     "text": [
      "338it [00:11, 29.27it/s]\n"
     ]
    },
    {
     "name": "stdout",
     "output_type": "stream",
     "text": [
      "Train Epoch: 55 Total_Loss: 0.011988 Reconstruction_Error: 0.011978\n"
     ]
    },
    {
     "name": "stderr",
     "output_type": "stream",
     "text": [
      "11356it [00:56, 199.27it/s]\n"
     ]
    },
    {
     "name": "stdout",
     "output_type": "stream",
     "text": [
      "Test Total_Loss: 0.015500 Reconstruction_Error: 0.015491\n",
      "  56/ 64 ----- [[2024-08-28 15:56:08]] [Need: 00:11:18]\n"
     ]
    },
    {
     "name": "stderr",
     "output_type": "stream",
     "text": [
      "338it [00:11, 29.12it/s]\n"
     ]
    },
    {
     "name": "stdout",
     "output_type": "stream",
     "text": [
      "Train Epoch: 56 Total_Loss: 0.011908 Reconstruction_Error: 0.011899\n"
     ]
    },
    {
     "name": "stderr",
     "output_type": "stream",
     "text": [
      "11356it [00:52, 217.97it/s]\n"
     ]
    },
    {
     "name": "stdout",
     "output_type": "stream",
     "text": [
      "Test Total_Loss: 0.015482 Reconstruction_Error: 0.015473\n",
      "  57/ 64 ----- [[2024-08-28 15:57:36]] [Need: 00:09:54]\n"
     ]
    },
    {
     "name": "stderr",
     "output_type": "stream",
     "text": [
      "338it [00:11, 29.21it/s]\n"
     ]
    },
    {
     "name": "stdout",
     "output_type": "stream",
     "text": [
      "Train Epoch: 57 Total_Loss: 0.011882 Reconstruction_Error: 0.011873\n"
     ]
    },
    {
     "name": "stderr",
     "output_type": "stream",
     "text": [
      "11356it [00:49, 230.68it/s]\n"
     ]
    },
    {
     "name": "stdout",
     "output_type": "stream",
     "text": [
      "Test Total_Loss: 0.015469 Reconstruction_Error: 0.015461\n",
      "  58/ 64 ----- [[2024-08-28 15:59:02]] [Need: 00:08:29]\n"
     ]
    },
    {
     "name": "stderr",
     "output_type": "stream",
     "text": [
      "338it [00:11, 30.23it/s]\n"
     ]
    },
    {
     "name": "stdout",
     "output_type": "stream",
     "text": [
      "Train Epoch: 58 Total_Loss: 0.011836 Reconstruction_Error: 0.011827\n"
     ]
    },
    {
     "name": "stderr",
     "output_type": "stream",
     "text": [
      "11356it [00:54, 209.75it/s]\n"
     ]
    },
    {
     "name": "stdout",
     "output_type": "stream",
     "text": [
      "Test Total_Loss: 0.015470 Reconstruction_Error: 0.015462\n",
      "  59/ 64 ----- [[2024-08-28 16:00:32]] [Need: 00:07:04]\n"
     ]
    },
    {
     "name": "stderr",
     "output_type": "stream",
     "text": [
      "338it [00:11, 30.44it/s]\n"
     ]
    },
    {
     "name": "stdout",
     "output_type": "stream",
     "text": [
      "Train Epoch: 59 Total_Loss: 0.011800 Reconstruction_Error: 0.011792\n"
     ]
    },
    {
     "name": "stderr",
     "output_type": "stream",
     "text": [
      "11356it [00:53, 210.40it/s]\n"
     ]
    },
    {
     "name": "stdout",
     "output_type": "stream",
     "text": [
      "Test Total_Loss: 0.015469 Reconstruction_Error: 0.015461\n",
      "  60/ 64 ----- [[2024-08-28 16:02:02]] [Need: 00:05:40]\n"
     ]
    },
    {
     "name": "stderr",
     "output_type": "stream",
     "text": [
      "338it [00:11, 29.43it/s]\n"
     ]
    },
    {
     "name": "stdout",
     "output_type": "stream",
     "text": [
      "Train Epoch: 60 Total_Loss: 0.011774 Reconstruction_Error: 0.011765\n"
     ]
    },
    {
     "name": "stderr",
     "output_type": "stream",
     "text": [
      "11356it [00:51, 221.61it/s]\n"
     ]
    },
    {
     "name": "stdout",
     "output_type": "stream",
     "text": [
      "Test Total_Loss: 0.015468 Reconstruction_Error: 0.015460\n",
      "  61/ 64 ----- [[2024-08-28 16:03:29]] [Need: 00:04:15]\n"
     ]
    },
    {
     "name": "stderr",
     "output_type": "stream",
     "text": [
      "338it [00:11, 29.93it/s]\n"
     ]
    },
    {
     "name": "stdout",
     "output_type": "stream",
     "text": [
      "Train Epoch: 61 Total_Loss: 0.011766 Reconstruction_Error: 0.011758\n"
     ]
    },
    {
     "name": "stderr",
     "output_type": "stream",
     "text": [
      "11356it [00:54, 206.81it/s]\n"
     ]
    },
    {
     "name": "stdout",
     "output_type": "stream",
     "text": [
      "Test Total_Loss: 0.015468 Reconstruction_Error: 0.015459\n",
      "  62/ 64 ----- [[2024-08-28 16:04:59]] [Need: 00:02:50]\n"
     ]
    },
    {
     "name": "stderr",
     "output_type": "stream",
     "text": [
      "338it [00:11, 28.61it/s]\n"
     ]
    },
    {
     "name": "stdout",
     "output_type": "stream",
     "text": [
      "Train Epoch: 62 Total_Loss: 0.011775 Reconstruction_Error: 0.011767\n"
     ]
    },
    {
     "name": "stderr",
     "output_type": "stream",
     "text": [
      "11356it [00:55, 205.71it/s]\n"
     ]
    },
    {
     "name": "stdout",
     "output_type": "stream",
     "text": [
      "Test Total_Loss: 0.015466 Reconstruction_Error: 0.015458\n",
      "  63/ 64 ----- [[2024-08-28 16:06:32]] [Need: 00:01:25]\n"
     ]
    },
    {
     "name": "stderr",
     "output_type": "stream",
     "text": [
      "338it [00:11, 30.13it/s]\n"
     ]
    },
    {
     "name": "stdout",
     "output_type": "stream",
     "text": [
      "Train Epoch: 63 Total_Loss: 0.011742 Reconstruction_Error: 0.011734\n"
     ]
    },
    {
     "name": "stderr",
     "output_type": "stream",
     "text": [
      "11356it [00:43, 262.46it/s]"
     ]
    },
    {
     "name": "stdout",
     "output_type": "stream",
     "text": [
      "Test Total_Loss: 0.015461 Reconstruction_Error: 0.015453\n"
     ]
    },
    {
     "name": "stderr",
     "output_type": "stream",
     "text": [
      "\n"
     ]
    }
   ],
   "source": [
    "pth_path = None\n",
    "save_model = True\n",
    "save_path = \"new_save0/\"\n",
    "\n",
    "# continue training\n",
    "if pth_path is not None:\n",
    "    checkpoint = torch.load(pth_path)\n",
    "    model.load_state_dict(checkpoint['model_state_dict'])\n",
    "    optimizer.load_state_dict(checkpoint['optimizer_state_dict'])\n",
    "    \n",
    "if not os.path.exists(save_path):\n",
    "    os.makedirs(save_path)\n",
    "\n",
    "# Results 저장용 리스트\n",
    "results = []\n",
    "\n",
    "# start training\n",
    "start_time = time.time()\n",
    "epoch_time = AverageMeter()\n",
    "\n",
    "for epoch in range(0,epochs):\n",
    "    adjust_learning_rate(optimizer, lr, epoch, epochs)\n",
    "    need_hour, need_mins, need_secs = convert_secs2time(epoch_time.avg * (epochs - epoch))\n",
    "    need_time = '[Need: {:02d}:{:02d}:{:02d}]'.format(need_hour, need_mins, need_secs)\n",
    "    print(' {:3d}/{:3d} ----- [{:s}] {:s}'.format(epoch, epochs, time_string(), need_time))\n",
    "    epoch_time.update(time.time() - start_time)\n",
    "    start_time = time.time()\n",
    "\n",
    "    train_metrics = train(model, epoch, train_loader, optimizer)\n",
    "    test_metrics = val(model, val_loader) \n",
    "    \n",
    "    combined_metrics = {**train_metrics, **test_metrics}\n",
    "    results.append(combined_metrics)\n",
    "    \n",
    "    if save_model == 1:\n",
    "        torch.save({'model_state_dict': model.state_dict(),\n",
    "                    'optimizer_state_dict': optimizer.state_dict()}, save_path + 'TSRNet-%d.pt' % epoch)\n",
    "        \n",
    "# 결과를 CSV 파일로 저장\n",
    "results_df = pd.DataFrame(results)\n",
    "results_df.to_csv(os.path.join(save_path, 'metrics.csv'), index=False)\n"
   ]
  },
  {
   "cell_type": "code",
   "execution_count": null,
   "metadata": {},
   "outputs": [],
   "source": []
  },
  {
   "cell_type": "code",
   "execution_count": null,
   "metadata": {},
   "outputs": [],
   "source": []
  },
  {
   "cell_type": "code",
   "execution_count": null,
   "metadata": {},
   "outputs": [],
   "source": []
  },
  {
   "cell_type": "code",
   "execution_count": null,
   "metadata": {},
   "outputs": [],
   "source": []
  },
  {
   "cell_type": "code",
   "execution_count": null,
   "metadata": {},
   "outputs": [],
   "source": []
  },
  {
   "cell_type": "code",
   "execution_count": null,
   "metadata": {},
   "outputs": [],
   "source": []
  },
  {
   "cell_type": "code",
   "execution_count": null,
   "metadata": {},
   "outputs": [],
   "source": []
  },
  {
   "cell_type": "code",
   "execution_count": null,
   "metadata": {},
   "outputs": [],
   "source": []
  },
  {
   "cell_type": "code",
   "execution_count": null,
   "metadata": {},
   "outputs": [],
   "source": []
  },
  {
   "cell_type": "code",
   "execution_count": null,
   "metadata": {},
   "outputs": [],
   "source": []
  },
  {
   "cell_type": "code",
   "execution_count": null,
   "metadata": {},
   "outputs": [],
   "source": []
  },
  {
   "cell_type": "code",
   "execution_count": null,
   "metadata": {},
   "outputs": [],
   "source": []
  }
 ],
 "metadata": {
  "kernelspec": {
   "display_name": "pelikan",
   "language": "python",
   "name": "python3"
  },
  "language_info": {
   "codemirror_mode": {
    "name": "ipython",
    "version": 3
   },
   "file_extension": ".py",
   "mimetype": "text/x-python",
   "name": "python",
   "nbconvert_exporter": "python",
   "pygments_lexer": "ipython3",
   "version": "3.9.19"
  }
 },
 "nbformat": 4,
 "nbformat_minor": 2
}
